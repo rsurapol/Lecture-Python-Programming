{
  "nbformat": 4,
  "nbformat_minor": 0,
  "metadata": {
    "kernelspec": {
      "display_name": "Python 3",
      "language": "python",
      "name": "python3"
    },
    "language_info": {
      "codemirror_mode": {
        "name": "ipython",
        "version": 3
      },
      "file_extension": ".py",
      "mimetype": "text/x-python",
      "name": "python",
      "nbconvert_exporter": "python",
      "pygments_lexer": "ipython3",
      "version": "3.7.3"
    },
    "colab": {
      "provenance": [],
      "include_colab_link": true
    }
  },
  "cells": [
    {
      "cell_type": "markdown",
      "metadata": {
        "id": "view-in-github",
        "colab_type": "text"
      },
      "source": [
        "<a href=\"https://colab.research.google.com/github/rsurapol/Lecture-Python-Programming/blob/main/Chapter8_Ifelseproblem_solution.ipynb\" target=\"_parent\"><img src=\"https://colab.research.google.com/assets/colab-badge.svg\" alt=\"Open In Colab\"/></a>"
      ]
    },
    {
      "cell_type": "markdown",
      "metadata": {
        "id": "Onrv4jcV11R_"
      },
      "source": [
        "## Question 1"
      ]
    },
    {
      "cell_type": "code",
      "metadata": {
        "id": "vHOiGZHr11SF",
        "colab": {
          "base_uri": "https://localhost:8080/"
        },
        "outputId": "1baae535-00c8-41ef-b315-a9d6cca0d910"
      },
      "source": [
        "number = int(input('Please insert number: '))\n",
        "if number%2 == 0:\n",
        "    print('เลขคู่')\n",
        "else:\n",
        "    print('เลขคี่')"
      ],
      "execution_count": null,
      "outputs": [
        {
          "output_type": "stream",
          "text": [
            "Please insert number: 6\n",
            "เลขคู่\n"
          ],
          "name": "stdout"
        }
      ]
    },
    {
      "cell_type": "markdown",
      "metadata": {
        "id": "aC8LFl-E11SG"
      },
      "source": [
        "## Question 2"
      ]
    },
    {
      "cell_type": "code",
      "metadata": {
        "id": "NBq8CpqY11SG",
        "colab": {
          "base_uri": "https://localhost:8080/"
        },
        "outputId": "4b4e9368-d76e-40ee-ce96-f6c095ac9bf0"
      },
      "source": [
        "number = int(input('Please insert number: '))\n",
        "if number > 0:\n",
        "    print('มากกว่า 0')\n",
        "else:\n",
        "    print('น้อยกว่าหรือเท่ากับ 0')"
      ],
      "execution_count": null,
      "outputs": [
        {
          "output_type": "stream",
          "text": [
            "Please insert number: 2\n",
            "มากกว่า 0\n"
          ],
          "name": "stdout"
        }
      ]
    },
    {
      "cell_type": "markdown",
      "metadata": {
        "id": "UFhPNRfy11SH"
      },
      "source": [
        "## Question 3"
      ]
    },
    {
      "cell_type": "code",
      "metadata": {
        "id": "EkI5YdZw11SH",
        "colab": {
          "base_uri": "https://localhost:8080/"
        },
        "outputId": "3469bb03-00d8-4490-bcf7-a9ba76d420e5"
      },
      "source": [
        "number = float(input('Please insert number: '))\n",
        "if number > 0:\n",
        "    print('positive')\n",
        "elif number < 0:\n",
        "    print('negative')\n",
        "else:\n",
        "    print('zero')"
      ],
      "execution_count": null,
      "outputs": [
        {
          "output_type": "stream",
          "text": [
            "Please insert number: 0\n",
            "zero\n"
          ],
          "name": "stdout"
        }
      ]
    },
    {
      "cell_type": "markdown",
      "metadata": {
        "id": "w9LOLCCS11SI"
      },
      "source": [
        "## Question 4"
      ]
    },
    {
      "cell_type": "code",
      "metadata": {
        "id": "t2lXICOy11SI",
        "outputId": "349a9206-0c10-41f1-b0c1-bf432678ab70"
      },
      "source": [
        "number = int(input('Please insert number: '))\n",
        "if number > 0:\n",
        "    if number%2 == 0:\n",
        "        print('positive even')\n",
        "    else:\n",
        "        print('positive odd')\n",
        "elif number < 0:\n",
        "    if number%2 == 0:\n",
        "        print('negative even')\n",
        "    else:\n",
        "        print('negative odd')\n",
        "else:\n",
        "    print('zero')"
      ],
      "execution_count": null,
      "outputs": [
        {
          "output_type": "stream",
          "text": [
            "Please insert number: 7\n",
            "positive odd\n"
          ],
          "name": "stdout"
        }
      ]
    },
    {
      "cell_type": "markdown",
      "metadata": {
        "id": "1SMZhsVq11SJ"
      },
      "source": [
        "## Question 5"
      ]
    },
    {
      "cell_type": "code",
      "metadata": {
        "id": "RIjnI_fe11SJ",
        "outputId": "72307414-4364-48fc-878e-efe7cdaf8a81"
      },
      "source": [
        "width = int(input('Please insert width: '))\n",
        "length = int(input('Please insert length: '))\n",
        "if (width <= 0) or (length <= 0):\n",
        "    print('กรุณากรอกจำนวนเต็มบวก')\n",
        "else:\n",
        "    area = width*length\n",
        "    print(area)"
      ],
      "execution_count": null,
      "outputs": [
        {
          "output_type": "stream",
          "text": [
            "Please insert width: 7\n",
            "Please insert length: 6\n",
            "42\n"
          ],
          "name": "stdout"
        }
      ]
    },
    {
      "cell_type": "markdown",
      "metadata": {
        "id": "QBgGxHLb11SK"
      },
      "source": [
        "## Question 6"
      ]
    },
    {
      "cell_type": "code",
      "metadata": {
        "id": "rhESH4p811SK",
        "outputId": "8573eb8c-7b31-4809-c2ce-edbaa106611e"
      },
      "source": [
        "AD = int(input('Please insert AD: '))\n",
        "if AD >= 0:\n",
        "    BE = AD + 543\n",
        "    print(BE)\n",
        "else:\n",
        "    print('กรุณากรอกข้อมูลที่มากกว่าหรือเท่ากับ 0')"
      ],
      "execution_count": null,
      "outputs": [
        {
          "output_type": "stream",
          "text": [
            "Please insert AD: 0\n",
            "543\n"
          ],
          "name": "stdout"
        }
      ]
    },
    {
      "cell_type": "markdown",
      "metadata": {
        "id": "v5SHvItF11SL"
      },
      "source": [
        "## Question 7"
      ]
    },
    {
      "cell_type": "code",
      "metadata": {
        "id": "FMrRnjBz11SL",
        "outputId": "ec5e4c1b-fb78-48ec-cb94-38e46173018e"
      },
      "source": [
        "F = float(input('Please insert F: '))\n",
        "if F >= 32:\n",
        "    C = 5*(F-32)/9\n",
        "    print(C)\n",
        "else:\n",
        "    print('cold')"
      ],
      "execution_count": null,
      "outputs": [
        {
          "output_type": "stream",
          "text": [
            "Please insert F: 64\n",
            "17.77777777777778\n"
          ],
          "name": "stdout"
        }
      ]
    },
    {
      "cell_type": "markdown",
      "metadata": {
        "id": "jwrQvPS-11SL"
      },
      "source": [
        "## Question 8"
      ]
    },
    {
      "cell_type": "code",
      "metadata": {
        "id": "t0ETnVvc11SM",
        "outputId": "b0efaf13-7c70-4648-b742-89cf95c8d602"
      },
      "source": [
        "USD = float(input('Please insert USD: '))\n",
        "if USD > 0:\n",
        "    THB = USD*32.5\n",
        "    print(THB)\n",
        "else:\n",
        "    print(\"you don't have money\")"
      ],
      "execution_count": null,
      "outputs": [
        {
          "output_type": "stream",
          "text": [
            "Please insert USD: -7\n",
            "you don't have money\n"
          ],
          "name": "stdout"
        }
      ]
    },
    {
      "cell_type": "markdown",
      "metadata": {
        "id": "IME6w1IR11SM"
      },
      "source": [
        "## Question 9"
      ]
    },
    {
      "cell_type": "code",
      "metadata": {
        "id": "gvP3Nu8s11SN",
        "outputId": "a930d892-9746-4b2b-d5c3-590baaefd909"
      },
      "source": [
        "THB = float(input('Please insert THB: '))\n",
        "if THB > 0:\n",
        "    USD = THB/32.8\n",
        "    bank_profit = USD*0.3\n",
        "    print('USD:',USD)\n",
        "    print('profit:', bank_profit)\n",
        "else:\n",
        "    print(\"you don't have money\")"
      ],
      "execution_count": null,
      "outputs": [
        {
          "output_type": "stream",
          "text": [
            "Please insert THB: 84375\n",
            "USD: 2572.408536585366\n",
            "profit: 771.7225609756098\n"
          ],
          "name": "stdout"
        }
      ]
    },
    {
      "cell_type": "markdown",
      "metadata": {
        "id": "EIEwiiwZ11SN"
      },
      "source": [
        "## Question 10"
      ]
    },
    {
      "cell_type": "code",
      "metadata": {
        "id": "0z1TayJ711SN",
        "outputId": "8c3ab92d-bf8f-41e6-9d1c-65fc5979a975"
      },
      "source": [
        "num1 = float(input('Please insert num1: '))\n",
        "num2 = float(input('Please insert num2: '))\n",
        "if num1 > num2:\n",
        "    print(num1)\n",
        "elif num2 > num1:\n",
        "    print(num2)\n",
        "else:\n",
        "    print('มีค่าเท่ากัน')"
      ],
      "execution_count": null,
      "outputs": [
        {
          "output_type": "stream",
          "text": [
            "Please insert num1: 7\n",
            "Please insert num2: 6\n",
            "7.0\n"
          ],
          "name": "stdout"
        }
      ]
    },
    {
      "cell_type": "markdown",
      "metadata": {
        "id": "J9xB79Ya11SO"
      },
      "source": [
        "## Question 11"
      ]
    },
    {
      "cell_type": "code",
      "metadata": {
        "id": "kRiHGCyt11SO",
        "outputId": "437b0edd-093d-43db-f0a0-2f5d64b53a15"
      },
      "source": [
        "str1 = input('Please insert str1: ')\n",
        "str2 = input('Please insert str2: ')\n",
        "if len(str1) == len(str2):\n",
        "    print('same')\n",
        "else:\n",
        "    print('not same')"
      ],
      "execution_count": null,
      "outputs": [
        {
          "output_type": "stream",
          "text": [
            "Please insert str1: abc\n",
            "Please insert str2: cbd\n",
            "same\n"
          ],
          "name": "stdout"
        }
      ]
    },
    {
      "cell_type": "markdown",
      "metadata": {
        "id": "RtpvBH_x11SO"
      },
      "source": [
        "## Question 12"
      ]
    },
    {
      "cell_type": "code",
      "metadata": {
        "id": "9kOLnt9x11SP",
        "outputId": "462f0e3c-dedf-4b60-a3ea-90b1cab64ebc"
      },
      "source": [
        "number = int(input('Please insert number: '))\n",
        "if number%3 == 0:\n",
        "    print('หารด้วย 3 ลงตัว')\n",
        "else:\n",
        "    print('หารด้วย 3 ไม่ลงตัว')"
      ],
      "execution_count": null,
      "outputs": [
        {
          "output_type": "stream",
          "text": [
            "Please insert number: 20\n",
            "หารด้วย 3 ไม่ลงตัว\n"
          ],
          "name": "stdout"
        }
      ]
    },
    {
      "cell_type": "markdown",
      "metadata": {
        "id": "lAb-2dUG11SP"
      },
      "source": [
        "## Question 13"
      ]
    },
    {
      "cell_type": "code",
      "metadata": {
        "id": "QfrN_8TM11SP",
        "outputId": "7e8e6d52-2c47-45e4-8b81-720bd95ce2e6"
      },
      "source": [
        "number = int(input('Please insert number: '))\n",
        "if (number%3 == 0) and (number%5 == 0):\n",
        "    print('หารด้วย 3 และ 5 ลงตัว')\n",
        "else:\n",
        "    print('หารด้วย 3 และ 5 ไม่ลงตัว')"
      ],
      "execution_count": null,
      "outputs": [
        {
          "output_type": "stream",
          "text": [
            "Please insert number: 14\n",
            "หารด้วย 3 และ 5 ไม่ลงตัว\n"
          ],
          "name": "stdout"
        }
      ]
    },
    {
      "cell_type": "markdown",
      "metadata": {
        "id": "aFo3Hi_P11SP"
      },
      "source": [
        "## Question 14"
      ]
    },
    {
      "cell_type": "code",
      "metadata": {
        "id": "FBpzd5Pc11SQ",
        "outputId": "eefb67a5-76ce-4814-c3ea-011e1a2cf3a1"
      },
      "source": [
        "number = int(input('Please insert number: '))\n",
        "if (number%3 == 0) or (number%5 == 0):\n",
        "    print('หารด้วย 3 หรือ 5 ลงตัว')\n",
        "else:\n",
        "    print('หารด้วย 3 หรือ 5 ไม่ลงตัว')"
      ],
      "execution_count": null,
      "outputs": [
        {
          "output_type": "stream",
          "text": [
            "Please insert number: 11\n",
            "หารด้วย 3 หรือ 5 ไม่ลงตัว\n"
          ],
          "name": "stdout"
        }
      ]
    },
    {
      "cell_type": "markdown",
      "metadata": {
        "id": "bSGjeNR911SQ"
      },
      "source": [
        "## Question 15"
      ]
    },
    {
      "cell_type": "code",
      "metadata": {
        "id": "hlZCuwLj11SQ",
        "outputId": "7f1ce7c6-4289-4623-a5ee-b6dfec0a12a2"
      },
      "source": [
        "a = float(input('Please insert a: '))\n",
        "b = float(input('Please insert b: '))\n",
        "c = float(input('Please insert c: '))\n",
        "if a + b > c:\n",
        "    print('a + b > c')"
      ],
      "execution_count": null,
      "outputs": [
        {
          "output_type": "stream",
          "text": [
            "Please insert a: 1\n",
            "Please insert b: 2\n",
            "Please insert c: 3\n"
          ],
          "name": "stdout"
        }
      ]
    },
    {
      "cell_type": "markdown",
      "metadata": {
        "id": "CSkvF6wb11SR"
      },
      "source": [
        "## Question 16"
      ]
    },
    {
      "cell_type": "code",
      "metadata": {
        "id": "tXWMCBUF11SR",
        "outputId": "c4977b84-f492-43fe-bede-0c9c3ec9bac5"
      },
      "source": [
        "hour = int(input('Please insert hour: '))\n",
        "minute = int(input('Please insert minute: '))\n",
        "if minute > 0:\n",
        "    hour = hour + 1\n",
        "fee = (hour - 1)*30\n",
        "print(fee)"
      ],
      "execution_count": null,
      "outputs": [
        {
          "output_type": "stream",
          "text": [
            "Please insert hour: 1\n",
            "Please insert minute: 2\n",
            "30\n"
          ],
          "name": "stdout"
        }
      ]
    },
    {
      "cell_type": "markdown",
      "metadata": {
        "id": "TQr8y3v011SR"
      },
      "source": [
        "## Question 17"
      ]
    },
    {
      "cell_type": "code",
      "metadata": {
        "id": "2Ej6e6RF11SR",
        "outputId": "82b4dfc5-472b-49d0-cb54-e6c33f9bec42"
      },
      "source": [
        "hour = int(input('Please insert hour: '))\n",
        "minute = int(input('Please insert minute: '))\n",
        "if (hour < 0) or (minute < 0):\n",
        "    print('โปรดใส่ข้อมูลที่ไม่ติดลบ')\n",
        "else:\n",
        "    if minute > 0:\n",
        "        hour = hour + 1\n",
        "    fee = (hour - 1)*30\n",
        "    print(fee)"
      ],
      "execution_count": null,
      "outputs": [
        {
          "output_type": "stream",
          "text": [
            "Please insert hour: 7\n",
            "Please insert minute: 6\n",
            "210\n"
          ],
          "name": "stdout"
        }
      ]
    },
    {
      "cell_type": "markdown",
      "metadata": {
        "id": "QoWhlQud11SS"
      },
      "source": [
        "## Question 18"
      ]
    },
    {
      "cell_type": "code",
      "metadata": {
        "id": "hFi__XFw11SS",
        "outputId": "23e9b6b4-e815-4f29-c089-8e7db109e846"
      },
      "source": [
        "bill = int(input('Please insert bill: '))\n",
        "hour = int(input('Please insert hour: '))\n",
        "minute = int(input('Please insert minute: '))\n",
        "if minute > 0:\n",
        "    hour = hour + 1\n",
        "if bill >= 1000:\n",
        "    fee = (hour - 4)*30\n",
        "    if fee < 0:\n",
        "        fee = 0\n",
        "else:\n",
        "    fee = (hour - 1)*30\n",
        "print(fee)"
      ],
      "execution_count": null,
      "outputs": [
        {
          "output_type": "stream",
          "text": [
            "Please insert bill: 5000\n",
            "Please insert hour: 5\n",
            "Please insert minute: 5\n",
            "60\n"
          ],
          "name": "stdout"
        }
      ]
    },
    {
      "cell_type": "markdown",
      "metadata": {
        "id": "DXm6_nQf11SS"
      },
      "source": [
        "## Question 19"
      ]
    },
    {
      "cell_type": "code",
      "metadata": {
        "id": "zCSZ1aFX11SS",
        "outputId": "9cbb82f1-50b1-48ee-eee5-f103439eb33a"
      },
      "source": [
        "bill = float(input('Please insert bill: '))\n",
        "if bill >= 50000:\n",
        "    discount = bill*0.2\n",
        "elif bill >= 10000:\n",
        "    discount = bill*0.15\n",
        "elif bill >= 1000:\n",
        "    discount = bill*0.1\n",
        "else:\n",
        "    discount = 0\n",
        "pay = bill - discount\n",
        "print(pay)"
      ],
      "execution_count": null,
      "outputs": [
        {
          "output_type": "stream",
          "text": [
            "Please insert bill: 200000\n",
            "160000.0\n"
          ],
          "name": "stdout"
        }
      ]
    },
    {
      "cell_type": "markdown",
      "metadata": {
        "id": "CVW6PnkY11ST"
      },
      "source": [
        "## Question 20"
      ]
    },
    {
      "cell_type": "code",
      "metadata": {
        "id": "qeD8Q-dZ11ST",
        "outputId": "e55308e2-4724-4660-b033-6921c2340c42"
      },
      "source": [
        "gender = input('Please insert gender: ')\n",
        "weight = float(input('Please insert weight(kk): '))\n",
        "height = int(input('Please insert height(cm): '))\n",
        "if gender == 'ชาย':\n",
        "    if height - 100 >= weight:\n",
        "        print('คุณผู้ชายหุ่นดีเยี่ยม')\n",
        "    else:\n",
        "        print('ควรออกกำลังกาย')\n",
        "elif gender == 'หญิง':\n",
        "    if height - 110 >= weight:\n",
        "        print('คุณผู้หญิงหุ่นดีเยี่ยม')\n",
        "    else:\n",
        "        print('ควรออกกำลังกาย')"
      ],
      "execution_count": null,
      "outputs": [
        {
          "output_type": "stream",
          "text": [
            "Please insert gender: ชาย\n",
            "Please insert weight(kk): 95\n",
            "Please insert height(cm): 180\n",
            "ควรออกกำลังกาย\n"
          ],
          "name": "stdout"
        }
      ]
    },
    {
      "cell_type": "markdown",
      "metadata": {
        "id": "tvnH0tmx11ST"
      },
      "source": [
        "## Question 21"
      ]
    },
    {
      "cell_type": "code",
      "metadata": {
        "id": "asq5aKzl11ST",
        "outputId": "e70e8cd7-3c8f-43d5-f96c-0371dab989d6"
      },
      "source": [
        "velocity = float(input('Please insert velocity(km/hr): '))\n",
        "if velocity > 120:\n",
        "    print('ออกใบสั่ง')"
      ],
      "execution_count": null,
      "outputs": [
        {
          "output_type": "stream",
          "text": [
            "Please insert velocity(km/hr): 135\n",
            "ออกใบสั่ง\n"
          ],
          "name": "stdout"
        }
      ]
    },
    {
      "cell_type": "markdown",
      "metadata": {
        "id": "BZDo6uvx11SU"
      },
      "source": [
        "## Question 22"
      ]
    },
    {
      "cell_type": "code",
      "metadata": {
        "id": "6CmeJxvM11SU",
        "outputId": "587879da-c62a-4021-a0fa-0fda758c440c"
      },
      "source": [
        "velocity = float(input('Please insert velocity(km/hr): '))\n",
        "if velocity > 120:\n",
        "    print('ปรับ 1,000 บาท')\n",
        "elif velocity > 80:\n",
        "    print('ปรับ 500 บาท')"
      ],
      "execution_count": null,
      "outputs": [
        {
          "output_type": "stream",
          "text": [
            "Please insert velocity(km/hr): 600\n",
            "ปรับ 1,000 บาท\n"
          ],
          "name": "stdout"
        }
      ]
    },
    {
      "cell_type": "markdown",
      "metadata": {
        "id": "_WW-j3xH11SV"
      },
      "source": [
        "## Question 23"
      ]
    },
    {
      "cell_type": "code",
      "metadata": {
        "id": "ko7DYUDk11SW",
        "outputId": "ab958171-a30c-4f78-a611-3675d3303fc6"
      },
      "source": [
        "listen_time = float(input('Please insert listen_time(hour): '))\n",
        "if listen_time > 4:\n",
        "    print('อันตรายต่อหู')\n",
        "else:\n",
        "    print('ขอให้มีความสุขกับการฟังเพลง')"
      ],
      "execution_count": null,
      "outputs": [
        {
          "output_type": "stream",
          "text": [
            "Please insert listen_time(hour): 4.1\n",
            "อันตรายต่อหู\n"
          ],
          "name": "stdout"
        }
      ]
    },
    {
      "cell_type": "markdown",
      "metadata": {
        "id": "jxjdPWL_11SW"
      },
      "source": [
        "## Question 24"
      ]
    },
    {
      "cell_type": "code",
      "metadata": {
        "id": "-0QKB73N11SX",
        "outputId": "e4183862-b3c6-4782-c741-79790a42c801"
      },
      "source": [
        "traffic_status = input('Please insert traffic_status: ')\n",
        "distance = float(input('Please insert distance(km): '))\n",
        "if traffic_status == 'คล่องตัว':\n",
        "    cost = distance*10\n",
        "    print(cost)\n",
        "elif traffic_status == 'ปานกลาง':\n",
        "    cost = distance*12\n",
        "    print(cost)\n",
        "elif traffic_status == \"หนาแน่น\":\n",
        "    cost = distance*15\n",
        "    print(cost)"
      ],
      "execution_count": null,
      "outputs": [
        {
          "output_type": "stream",
          "text": [
            "Please insert traffic_status: คล่องตัว\n",
            "Please insert distance(km): 20\n",
            "200.0\n"
          ],
          "name": "stdout"
        }
      ]
    },
    {
      "cell_type": "markdown",
      "metadata": {
        "id": "w7Oq8lNi11SX"
      },
      "source": [
        "## Question 25"
      ]
    },
    {
      "cell_type": "code",
      "metadata": {
        "id": "R46TcdCz11SX",
        "outputId": "59a1a7fc-6833-4721-fc8a-50f48d975b9c"
      },
      "source": [
        "score = int(input('Please insert score: '))\n",
        "if score >= 50:\n",
        "    print('Pass')\n",
        "else:\n",
        "    print('Fail')"
      ],
      "execution_count": null,
      "outputs": [
        {
          "output_type": "stream",
          "text": [
            "Please insert score: 78\n",
            "Pass\n"
          ],
          "name": "stdout"
        }
      ]
    },
    {
      "cell_type": "markdown",
      "metadata": {
        "id": "bft4ZmD511SY"
      },
      "source": [
        "## Question 26"
      ]
    },
    {
      "cell_type": "code",
      "metadata": {
        "id": "2F4tWBrN11SY",
        "outputId": "4344e338-b3a2-41b7-d3ea-c5ec33c960fc"
      },
      "source": [
        "score = int(input('Please insert score: '))\n",
        "if score >= 80:\n",
        "    print('A')\n",
        "elif score >= 70:\n",
        "    print('B')\n",
        "elif score >= 60:\n",
        "    print('C')\n",
        "elif score >= 50:\n",
        "    print('D')\n",
        "else:\n",
        "    print('F')"
      ],
      "execution_count": null,
      "outputs": [
        {
          "output_type": "stream",
          "text": [
            "Please insert score: 84\n",
            "A\n"
          ],
          "name": "stdout"
        }
      ]
    },
    {
      "cell_type": "markdown",
      "metadata": {
        "id": "F8tgXAqR11SY"
      },
      "source": [
        "## Question 27"
      ]
    },
    {
      "cell_type": "code",
      "metadata": {
        "id": "fffSwJaf11SY",
        "outputId": "bd7ed80e-3ae7-46e6-b815-f56d0eca9f0d"
      },
      "source": [
        "isMember = input('Please insert isMember: ')\n",
        "bill = float(input('Please insert bill: '))\n",
        "if isMember == 'yes':\n",
        "    if bill >= 5000:\n",
        "        discount = bill*0.15\n",
        "    elif bill >= 1000:\n",
        "        discount = bill*0.10\n",
        "    elif bill >= 500:\n",
        "        discount = bill*0.05\n",
        "    else:\n",
        "        discount = 0\n",
        "    print(discount)\n",
        "else:\n",
        "    discount = 0\n",
        "    print(discount)"
      ],
      "execution_count": null,
      "outputs": [
        {
          "output_type": "stream",
          "text": [
            "Please insert isMember: no\n",
            "Please insert bill: 700\n",
            "0\n"
          ],
          "name": "stdout"
        }
      ]
    },
    {
      "cell_type": "markdown",
      "metadata": {
        "id": "JvuchExr11SY"
      },
      "source": [
        "## Question 28"
      ]
    },
    {
      "cell_type": "code",
      "metadata": {
        "id": "0r9vOhvK11SZ",
        "outputId": "96214088-0692-4df1-8a20-619a7d3908cc"
      },
      "source": [
        "currency = input('Please insert currency: ')\n",
        "amount = float(input('Please insert amount: '))\n",
        "if currency == 'USD':\n",
        "    THB = amount*32.5\n",
        "    print(THB)\n",
        "elif currency == 'JPY':\n",
        "    THB = amount*0.29\n",
        "    print(THB)"
      ],
      "execution_count": null,
      "outputs": [
        {
          "output_type": "stream",
          "text": [
            "Please insert currency: USD\n",
            "Please insert amount: 100\n",
            "3250.0\n"
          ],
          "name": "stdout"
        }
      ]
    },
    {
      "cell_type": "markdown",
      "metadata": {
        "id": "5jAM2q7c11SZ"
      },
      "source": [
        "## Question 29"
      ]
    },
    {
      "cell_type": "code",
      "metadata": {
        "id": "jsqvotlY11SZ",
        "outputId": "d0110c9b-1501-4a8a-cc75-c6d0a9f00cfa"
      },
      "source": [
        "order = input('Please order: ')\n",
        "amount = int(input('Please insert amount: '))\n",
        "if order == 'ไข่ดาว':\n",
        "    cost = amount*7\n",
        "    print(cost)\n",
        "elif order == 'ไข่เจียว':\n",
        "    cost = amount*10\n",
        "    print(cost)\n",
        "elif order == 'ไข่ต้ม':\n",
        "    cost = amount*5\n",
        "    print(cost)\n",
        "else:\n",
        "    print('ร้านเรามีไข่ดาว, ไข่เจียว, ไข่ต้ม')"
      ],
      "execution_count": null,
      "outputs": [
        {
          "output_type": "stream",
          "text": [
            "Please order: ไข่ดาว\n",
            "Please insert amount: 2\n",
            "14\n"
          ],
          "name": "stdout"
        }
      ]
    },
    {
      "cell_type": "markdown",
      "metadata": {
        "id": "Wck9LxSZ11SZ"
      },
      "source": [
        "## Question 30"
      ]
    },
    {
      "cell_type": "code",
      "metadata": {
        "id": "PkUhTMfr11SZ",
        "outputId": "0c169301-0e47-4e33-aba3-d83b0530e4ff"
      },
      "source": [
        "order = input('Please order: ')\n",
        "if order == 'ไข่ดาว':\n",
        "    print('แนะนำให้สั่งคู่กับต้มจืดไข่น้ำ')\n",
        "elif order == 'ไข่เจียว':\n",
        "    print('แนะนำให้สั่งคู่กับไข่ลูกเขย')\n",
        "elif order == 'ไข่ต้ม':\n",
        "    print('แนะนำให้สั่งคู่กับยำไข่ดาว')\n",
        "else:\n",
        "    print('ร้านเรามีไข่ดาว, ไข่เจียว, ไข่ต้ม')"
      ],
      "execution_count": null,
      "outputs": [
        {
          "output_type": "stream",
          "text": [
            "Please order: ไข่เจียว\n",
            "แนะนำให้สั่งคู่กับไข่ลูกเขย\n"
          ],
          "name": "stdout"
        }
      ]
    }
  ]
}