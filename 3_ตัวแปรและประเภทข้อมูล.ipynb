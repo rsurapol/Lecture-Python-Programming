{
  "nbformat": 4,
  "nbformat_minor": 0,
  "metadata": {
    "colab": {
      "provenance": [],
      "include_colab_link": true
    },
    "kernelspec": {
      "name": "python3",
      "display_name": "Python 3"
    }
  },
  "cells": [
    {
      "cell_type": "markdown",
      "metadata": {
        "id": "view-in-github",
        "colab_type": "text"
      },
      "source": [
        "<a href=\"https://colab.research.google.com/github/rsurapol/Lecture-Python-Programming/blob/main/3_%E0%B8%95%E0%B8%B1%E0%B8%A7%E0%B9%81%E0%B8%9B%E0%B8%A3%E0%B9%81%E0%B8%A5%E0%B8%B0%E0%B8%9B%E0%B8%A3%E0%B8%B0%E0%B9%80%E0%B8%A0%E0%B8%97%E0%B8%82%E0%B9%89%E0%B8%AD%E0%B8%A1%E0%B8%B9%E0%B8%A5.ipynb\" target=\"_parent\"><img src=\"https://colab.research.google.com/assets/colab-badge.svg\" alt=\"Open In Colab\"/></a>"
      ]
    },
    {
      "cell_type": "markdown",
      "metadata": {
        "id": "rD6EBpGT0jLN"
      },
      "source": [
        "# ตัวแปรและประเภทข้อมูล\n",
        "\n",
        "ในบทนี้ คุณจะได้เรียนรู้เกี่ยวกับตัวแปรและประข้อมูลในภาษา Python เราจะพูดถึงการประกาศตัวแปรและการนำตัวแปรไปใช้งานในโปรแกรม และเราจะอธิบายถึงข้อมูลประเภทต่างๆ ที่เป็น Primitive datatype ในภาษา Python และรวมทั้งฟังก์ชันสำหรับการใช้งานกับตัวแปร\n",
        "\n",
        "\n",
        "\n"
      ]
    },
    {
      "cell_type": "markdown",
      "metadata": {
        "id": "6JUI-7Aw0wuM"
      },
      "source": [
        "## ตัวแปร\n",
        "\n",
        "ตัวแปร (variable) คือชื่อหรือเครื่องหมายที่กำหนดขึ้นสำหรับใช้เก็บค่าในหน่วยความจำ ตัวแปรจะมีชื่อ (identifier) สำหรับใช้ในการอ้างถึงข้อมูลของมัน ในการเขียนโปรแกรม ค่าของตัวแปรสามารถที่จะกำหนดได้ใน run-time หรือเปลี่ยนแปลงอยู่ตลอดเวลาในขณะที่โปรแกรมทำงาน (executing)\n",
        "\n",
        "ในการเขียนโปรแกรมคอมพิวเตอร์นั้น ตัวแปรจะแตกต่างจากตัวแปรในทางคณิตศาสตร์ ค่าของตัวแปรนั้นไม่จำเป็นต้องประกอบไปด้วยสูตรหรือสมการที่สมบูรณ์เหมือนกับในคณิตศาสตร์ ในคอมพิวเตอร์ ตัวแปรนั้นอาจจะมีการทำงานซ้ำๆ เช่น การกำหนดค่าในที่หนึ่ง และนำไปใช้อีกที่หนึ่งในโปรแกรม และนอกจากนี้ยังสามารถกำหนดค่าใหม่ให้กับตัวแปรได้ตลอดเวลา ต่อไปเป็นตัวอย่างของการประกาศตัวแปรในภาษา Python"
      ]
    },
    {
      "cell_type": "code",
      "metadata": {
        "id": "4vQ-SFt4D8YT"
      },
      "source": [
        "a = 3\n",
        "b = 4.92\n",
        "c = \"marcuscode.com\"\n",
        "c = 10.5\n",
        "d = 'A'"
      ],
      "execution_count": null,
      "outputs": []
    },
    {
      "cell_type": "markdown",
      "metadata": {
        "id": "7JEFkTrdEIjT"
      },
      "source": [
        "ในตัวอย่าง เราได้ทำการประกาศ 3 ตัวแปร ในการประกาศตัวแปรในภาษา Python คุณไม่จำเป็นต้องระบุประเภทของตัวแปรในตอนที่ประกาศเหมือนในภาษา C ในตัวแปร a มีค่าเป็น 3 และเป็นประเภทเป็น Integer ตัวแปร b มีค่าเป็น 4.92 และเป็นประเภทเป็น Float และตัวแปร c มีค่าเป็น \"marcuscode.com\" และเป็นประเภท String ภายหลังเราได้เปลี่ยนค่าของตัวแปร c เป็น 10.5 ตัวแปรกลายเป็นประเภท Float"
      ]
    },
    {
      "cell_type": "code",
      "metadata": {
        "id": "7rS8GtI2ENl7",
        "outputId": "fbb95e35-fb6c-457c-daca-7df9a70fc178",
        "colab": {
          "base_uri": "https://localhost:8080/",
          "height": 114
        }
      },
      "source": [
        "a, b, c, d = 1, 2, 3.5, \"Hello\"\n",
        "x = y = z = 10\n",
        "print(\"a = \" , a)\n",
        "print(\"b = \" , b)\n",
        "print(\"x = \" , x)\n",
        "print(\"y = \" , y)\n",
        "print(\"z = \" , z)"
      ],
      "execution_count": null,
      "outputs": [
        {
          "output_type": "stream",
          "text": [
            "a =  1\n",
            "b =  2\n",
            "x =  10\n",
            "y =  10\n",
            "z =  10\n"
          ],
          "name": "stdout"
        }
      ]
    },
    {
      "cell_type": "markdown",
      "metadata": {
        "id": "jCo_qNvZEO77"
      },
      "source": [
        "ในภาษา Python นั้นสนับสนุนการกำหนดค่าให้กับตัวแปรหลายค่าในคำสั่งเดียว ในตัวอย่าง เป็นการกำหนดค่า 1 และ 2 กับตัวแปร a และ b ตามลำดับ และในคำสั่งต่อมาเป็นการกำหนดค่า 10 ให้กับตัวแปร x y และ z ซึ่งทำให้การเขียนโปรแกรมสะดวกและรวดเร็วมากขึ้น\n",
        "\n",
        "ต่อไปจะเป็นการพูดถึงประเภทข้อมูลชนิดต่างๆ ที่ภาษา Python สนับสนุน ซึ่งจะมีอยู่สามประเภทใหญ่ๆ คือ ข้อมูลแบบตัวเลข นั้นจะแบ่งย่อยออกเป็น Integer และ Float ข้อมูลประเภท String และข้อมูลแบบลำดับ เช่น List และ Tuple ประเภทข้อมูลทั้งหมดนี้เป็น Built-in type ในภาษา Python"
      ]
    },
    {
      "cell_type": "markdown",
      "metadata": {
        "id": "R2sQ8PTg2rI6"
      },
      "source": [
        "## Numbers\n",
        "\n",
        "ในภาษา Python นั้นสนับสนุนข้อมูลแบบตัวเลข ซึ่งข้อมูลประเภทนี้จะแบ่งออกเป็น Integer Float Decimal และ Complex อย่างไรก็ตามเราจะเน้นย้ำใน Integer ซึ่งเป็นการเก็บข้อมูลแบบจำนวนเต็ม และ Float เป็นข้อมูลแบบจำนวนจริง สำหรับประเภทแบบ Decimal นั้นแตกต่างไปจาก Float คือสามารถเก็บความละเอียดของจุดทศนิยมได้มากกว่า นอกจากนี้ Python ยังสนุนตัวเลขในรูปแบบ Complex ที่แสดงในแบบ a +bj ต่อไปเป็นตวอย่างในการประกาศและใช้งานตัวแปรแบบตัวเลขในภาษา Python\n",
        "\n",
        "\n",
        "\n",
        "\n"
      ]
    },
    {
      "cell_type": "code",
      "metadata": {
        "id": "scyDWRPYFQI3",
        "outputId": "4d72ddec-9070-43db-d22b-c7a6d288690f",
        "colab": {
          "base_uri": "https://localhost:8080/",
          "height": 85
        }
      },
      "source": [
        "# Integer\n",
        "a = 7\n",
        "b = 3\n",
        "c = a + b\n",
        "d = a / b\n",
        "\n",
        "print ('a = %d b = %d c = %d' % (a,b,c))\n",
        "print ('b = %d' % b)\n",
        "print ('c = %d' % c)\n",
        "print ('d = ', d)"
      ],
      "execution_count": null,
      "outputs": [
        {
          "output_type": "stream",
          "text": [
            "a = 7 b = 3 c = 10\n",
            "b = 3\n",
            "c = 10\n",
            "d =  2.3333333333333335\n"
          ],
          "name": "stdout"
        }
      ]
    },
    {
      "cell_type": "markdown",
      "metadata": {
        "id": "7sirKBmiFaRG"
      },
      "source": [
        "ในตัวอย่าง เป็นการประกาศและใช้งานตัวแปรประเภท Integer เราได้ทำการประกาศตัวแปรและกำหนดค่าให้กับ a และ b ในการแสดงผลในรูปแบบของ String format กับฟังก์ชัน print() นั้นจะใช้ specifier เป็น %d เราสามารถกำหนดค่าให้กับตัวแปรได้โดย Literal หรือ Expression และการหารตัวเลขในภาษา Python นั้นจะได้ค่าเป็น Float เสมอ ถึงแม้ตัวเลขทั้งสองจะเป็น Integer ก็ตาม เช่นในตัวแปร d\n",
        "\n",
        "นี่เป็นผลลัพธ์การทำงานของโปรแกรม"
      ]
    },
    {
      "cell_type": "code",
      "metadata": {
        "id": "hKGJeY9fFjTf"
      },
      "source": [
        "a = 7\n",
        "b = 3\n",
        "c = 10\n",
        "d =  2.3333333333333335"
      ],
      "execution_count": null,
      "outputs": []
    },
    {
      "cell_type": "code",
      "metadata": {
        "id": "oAm9uUugFoZL",
        "outputId": "ad634ffc-2ad7-4783-b249-cf06cb55fb9b",
        "colab": {
          "base_uri": "https://localhost:8080/",
          "height": 104
        }
      },
      "source": [
        "# Floating point number\n",
        "speed = 34.12\n",
        "pi = 22 / 7\n",
        "height = 2.31E5\n",
        "length = 1.3E-3\n",
        "\n",
        "print ('speed = %f pi = %f' % (speed,pi))\n",
        "print ('pi = %f' % pi)\n",
        "print ('height = %f' % height)\n",
        "print ('length = %f' % length)\n",
        "print (pi)"
      ],
      "execution_count": null,
      "outputs": [
        {
          "output_type": "stream",
          "text": [
            "speed = 34.120000 pi = 3.142857\n",
            "pi = 3.142857\n",
            "height = 231000.000000\n",
            "length = 0.001300\n",
            "3.142857142857143\n"
          ],
          "name": "stdout"
        }
      ]
    },
    {
      "cell_type": "markdown",
      "metadata": {
        "id": "Zrn_moW_FvNJ"
      },
      "source": [
        "ต่อไปเป็นการประกาศและใช้งานตัวแปรประเภท Float หรือตัวเลขที่มีจุดทศนิยม ในการกำหนดค่าใก้กับตัวแปรนั้นเมื่อคุณกำหนดค่าที่มีจุดนั้นตัวเลขจะเป็นประเภท Float อัตโนมัติ เราสามารถกำหนดค่าโดยตรงหรือในรูปแบบของ Expression ได้ และนอกจากนี้ในภาษา Python ยังสามารถกำหนดในรูปแบบสัญกรณ์วิทยาศาสตร์ได้เหมือนในตัวแปร height ซึ่งหมายถึง 2.31 x 10 ^ 5 และในตัวแปร length ซึ่งหมายถึง 1.3 x 10 ^ -3"
      ]
    },
    {
      "cell_type": "code",
      "metadata": {
        "id": "U4goN6KMF8Ll"
      },
      "source": [
        "speed = 34.120000\n",
        "pi = 3.142857\n",
        "height = 231000.000000\n",
        "length = 0.001300\n",
        "3.142857142857143"
      ],
      "execution_count": null,
      "outputs": []
    },
    {
      "cell_type": "markdown",
      "metadata": {
        "id": "wdox2XyBGCo-"
      },
      "source": [
        "นี่เป็นผลลัพธ์การทำงานของโปรแกรม ซึ่งในการแสดงผลของข้อมูลประเภท Float กับการจัดรูปแบบของตัวเลขนั้นจะใช้ %f สำหรับการดูค่าเต็มของตัวเลขจริงๆ นั้นเราจะแสดงค่าของตัวเลขโดยเหมือนในคำสั่งแสดงผลค่าของ pi ในคำสั่งบรรทัดสุดท้าย\n"
      ]
    },
    {
      "cell_type": "markdown",
      "metadata": {
        "id": "Y0MIcjLIHHLt"
      },
      "source": [
        "## Strings\n",
        "Strings นั้นเป็นประเภทข้อมูลที่สำคัญและใช้งานทั่วไปในการเขียนโปรแกรม ในภาษาเขียนโปรแกรมส่วนมากแล้วจะมีประเภทข้อมูลแบบ String และในภาษา Python เช่นกัน String เป็นลำดับของตัวอักษรหลายตัวเรียงต่อกัน ซึ่งในภาษา Python นั้น String จะอยู่ในเครื่องหมาย Double quote หรือ Single quote เท่านั้น นอกจากนี้ในภาษา Python ยังมีฟังก์ชันในการจัดการกับ String มากมายซึ่งเราจะพูดอีกครั้งในบทของ String ในบทนี้มาทำความรู้จักกับ String เบื้องต้นกันก่อน"
      ]
    },
    {
      "cell_type": "code",
      "metadata": {
        "id": "B2OA7J61Gz5O"
      },
      "source": [
        "name = \"Mateo\"\n",
        "country = \"Ukrain\"\n",
        "language = 'Python'\n",
        "interest = 'Mountain Everest'"
      ],
      "execution_count": null,
      "outputs": []
    },
    {
      "cell_type": "markdown",
      "metadata": {
        "id": "cP4Z9Yi8HANZ"
      },
      "source": [
        "ในตัวอย่าง เป็นการประกาศตัวแปรประเภท String สองตัวแปรแรกเป็นการประโดยการใช้ Double quote และสองตัวแปรต่อม่เป็นการใช้ Single quote ซึ่งคุณสามารถใช้แบบไหนก็ได้ แต่มีสิ่งที่แตกต่างกันเล็กน้อยคือเกี่ยวกับการกำหนดตัวอักพิเศษหรือเรียกว่า Escape character"
      ]
    },
    {
      "cell_type": "code",
      "metadata": {
        "id": "rnLr4zJbG7oV",
        "outputId": "83e7cc6a-1b2c-4e8c-886d-ca5b2f6eb8b1",
        "colab": {
          "base_uri": "https://localhost:8080/",
          "height": 87
        }
      },
      "source": [
        "sentent1 = \"What's your name?\"\n",
        "sentent2 = 'I\\'m Mateo.'\n",
        "sentent3 = \"He said \\\"I would learn Python first\\\".\"\n",
        "sentent4 = 'His teach replied \"Oh well!\"'\n",
        "print (sentent1)\n",
        "print (sentent2)\n",
        "print (sentent3)\n",
        "print (sentent4)"
      ],
      "execution_count": null,
      "outputs": [
        {
          "output_type": "stream",
          "text": [
            "What's your name?\n",
            "I'm Mateo.\n",
            "He said \"I would learn Python first\".\n",
            "His teach replied \"Oh well!\"\n"
          ],
          "name": "stdout"
        }
      ]
    },
    {
      "cell_type": "markdown",
      "metadata": {
        "id": "KULFFN9rHeZC"
      },
      "source": [
        "ในตัวอย่าง เป็นสิ่งที่แตกต่างของการประกาศ String ทั้งสองแบบกับ Escape character ตัวอักษร ' และ \" นั้นเป็น Escape character ดังนั้นในการใช้งานตัวอักษรเหล่านี้ เราจะต้องทำการใส่เครื่องหมาย \\ ลงไปข้างหน้าเสมอ แต่ในภาษา Python เมื่อคุณใช้ Double quote ในการประกาศ String คุณไม่ต้องทำการ Escape character สำหรับ Single quote และในทางกลับกัน อย่างไรก็ตามเราจะพูดอีกครั้งในบทของ String"
      ]
    },
    {
      "cell_type": "code",
      "metadata": {
        "id": "8ntfpKV2Hm_I",
        "outputId": "26289f95-fa62-46c3-dbda-a62f0fcece38",
        "colab": {
          "base_uri": "https://localhost:8080/",
          "height": 51
        }
      },
      "source": [
        "site = 'marcuscode' + '.com' + \"Yes\"\n",
        "tutorial = 'Python' ' Language'\n",
        "print(site)\n",
        "print(tutorial)"
      ],
      "execution_count": null,
      "outputs": [
        {
          "output_type": "stream",
          "text": [
            "marcuscode.com\n",
            "Python Language\n"
          ],
          "name": "stdout"
        }
      ]
    },
    {
      "cell_type": "markdown",
      "metadata": {
        "id": "K66XvDecHrJK"
      },
      "source": [
        "การทำงานอย่างหนึ่งที่สำคัญเกี่ยวกับ String ก็คือการเชื่อมต่อ String ซึ่งเป็นการนำ String ตั้งต่อสองอันขึ้นไปมาต่อกัน ในภาษา Python คุณสามารถต่อ String ได้โดยการใช้เครื่องหมาย + หรือคั่นด้วยช่องว่างหรือบรรทัดใหม่เหมือนในตัวอย่างข้างบน\n",
        "\n",
        "อย่างไรก็ตาม นี่เป็นการแนะนำเกี่ยวกับ String ในเบื้องต้นเท่านั้น เพราะว่า String นั้นมีเนื้อหาเป็นจำนวนมาก คุณจะได้เรียนรู้เกี่ยวกับ String อย่างละเอียด อีกครั้งในบทของ String"
      ]
    },
    {
      "cell_type": "markdown",
      "metadata": {
        "id": "vDibz-G847IE"
      },
      "source": [
        "## Lists\n",
        "\n",
        "Lists เป็นประเภทข้อมูลที่เก็บข้อมูลแบบเป็นชุดและลำดับ กล่าวคือมันสามารถเก็บข้อมูลได้หลายค่าในตัวแปรเดียว และมี Index สำหรับเข้าถึงข้อมูล ในภาษา Python นั้น List จะเป็นเหมือนอาเรย์ในภาษา C มันสามารถเก็บข้อมูลได้หลายตัวและยังสามารถเป็นประเภทข้อมูลที่แตกต่างกันได้อีกด้วย มาดูการประกาศและใช้งาน List ในเบื้องต้น\n",
        "\n"
      ]
    },
    {
      "cell_type": "code",
      "metadata": {
        "id": "mLjbivPcCJIJ",
        "outputId": "a63236f5-f4ee-4398-8d11-92937f0f1b92",
        "colab": {
          "base_uri": "https://localhost:8080/",
          "height": 120
        }
      },
      "source": [
        "# Declare lists \n",
        "numbers = [1, 2, 4, 6, 8, 19]\n",
        "names = [\"Mateo\", \"Danny\", \"James\", \"Thomas\", \"Luke\"]\n",
        "mixed = [-2, 5, 84.2, \"Mountain\", \"Python\"]\n",
        "\n",
        "# Display lists\n",
        "print(numbers)\n",
        "print(names)\n",
        "print(mixed)\n",
        "\n",
        "# Display lists using the for loops\n",
        "for n in numbers:\n",
        "    print(n, end=\" \")\n",
        "print()\n",
        "\n",
        "for n in names:\n",
        "    print(n, end=\" \")\n",
        "print()\n",
        "\n",
        "for n in mixed:\n",
        "    print(n, end=\" \")\n",
        "print()"
      ],
      "execution_count": null,
      "outputs": [
        {
          "output_type": "stream",
          "text": [
            "[1, 2, 4, 6, 8, 19]\n",
            "['Mateo', 'Danny', 'James', 'Thomas', 'Luke']\n",
            "[-2, 5, 84.2, 'Mountain', 'Python']\n",
            "1 2 4 6 8 19 \n",
            "Mateo Danny James Thomas Luke \n",
            "-2 5 84.2 Mountain Python \n"
          ],
          "name": "stdout"
        }
      ]
    },
    {
      "cell_type": "markdown",
      "metadata": {
        "id": "kt2i9P5sCMLH"
      },
      "source": [
        "ในตัวอย่าง เราได้ทำการประกาศ 3 Lists โดยตัวแปรแรกนั้นเป็น List ของตัวเลข และตัวแปรที่สองเป็น List ของ String และตัวแปรสุดท้ายเป็น List แบบรวมกันของประเภทข้อมูล เราใช้ฟังก์ชัน print() ในการแสดงผลข้อมูลใน List และใช้คำสั่ง For loop ในการอ่านค่าในลิสต์และนำมาแสดงผลเช่นกัน\n"
      ]
    },
    {
      "cell_type": "code",
      "metadata": {
        "id": "xY88GQYuClom",
        "outputId": "e167ac88-617e-4a3d-dc8c-a6b0b22816c7",
        "colab": {
          "base_uri": "https://localhost:8080/",
          "height": 85
        }
      },
      "source": [
        "languages = [\"C\", \"C++\", \"Java\", \"Python\", \"PHP\"]\n",
        "\n",
        "print(\"Index at 0 = \", languages[0])\n",
        "print(\"Index at 3 = \", languages[3])\n",
        "languages[0] = \"Scalar\"\n",
        "print(\"Index at 4 = \", languages[4])\n",
        "print(\"Index at 0 = \", languages[0])"
      ],
      "execution_count": null,
      "outputs": [
        {
          "output_type": "stream",
          "text": [
            "Index at 0 =  C\n",
            "Index at 3 =  Python\n",
            "Index at 4 =  PHP\n",
            "Index at 0 =  Scalar\n"
          ],
          "name": "stdout"
        }
      ]
    },
    {
      "cell_type": "markdown",
      "metadata": {
        "id": "Bw5r4I_wCo0m"
      },
      "source": [
        "Lists นั้นทำงานกับ Index ดังนั้นเราสามารถเข้าถึงข้อมูลของ List โดยการใช้ Index ของมันได้ ในตัวอย่างเป็นการเข้าถึงข้อมูบภายใน Index ซึ่ง Index ของ List นั้นจะเริ่มจาก 0 ไปจนถึงจำนวนทั้งหมดของมันลบด้วย 1 ในตัวอย่างเราได้แสดงผลข้อมูลของสอง List ในตำแหน่งแรกและในตำแหน่งที่ 4 ด้วย Index 0 และ 3 ตามลำดับ หลังจากนั้นเราเปลี่ยนค่าของ List ที่ตำแหน่งแรกเป็น \"Scalar\"\n",
        "\n",
        "ผลลัพธ์การทำงานของโปรแกรม ซึ่งคุณได้ทำความรู้จักกับ List ในเบื้องต้น คุณจะได้เรียนรู้เกี่ยวกับ List ในภาษา Python อย่างละเอียดอีกครั้งในบทของ List ซึ่งเราจะพูดเกี่ยวกับการดำเนินการและการใช้ฟังก์ชันของ List นอกจากนี้ Python ยังมีประเภทข้อมูลแบบ Tuple และ Dictionary ซึ่งมีรูปแบบการเก็บข้อมูลคล้ายกับ List จึงคุณจะได้เรียนในบทต่อไป"
      ]
    },
    {
      "cell_type": "markdown",
      "metadata": {
        "id": "RiVZ6seU4_RU"
      },
      "source": [
        "## ฟังก์ชันที่ใช้กับตัวแปร\n",
        "\n",
        "ในภาษา Python นั้นมีฟังก์ชันที่สร้างมาเพื่อให้ใช้งานกับตัวแปร เช่น ฟังก์ชันสำหรับหาขนาดของตัวแปร ฟังก์ชันในการหาประเภทของตัวแปร ฟังก์ชันลบตัวแปรออกไปในหน่วยความจำ และฟังก์ชันในการตรวจสอบว่าตัวแปรมีอยู่หรือไม่ ซึ่งในบางครั้งการเขียนโปรแกรมก็จำเป็นที่คุณอาจจะต้องมีการตรวจสอบสิ่งเหล่านี้ในขณะที่โปรแกรมทำงาน นี่เป็นตัวอย่างการใช้งาน"
      ]
    },
    {
      "cell_type": "code",
      "metadata": {
        "id": "21HYDZjSIIsC",
        "outputId": "445560cf-01fc-4f26-af1d-5faa9803059c",
        "colab": {
          "base_uri": "https://localhost:8080/",
          "height": 173
        }
      },
      "source": [
        "import sys\n",
        "\n",
        "a = 8\n",
        "b = 13.4\n",
        "c = \"Python\"\n",
        "d = [1, 2, 3, 4]\n",
        "\n",
        "print('Size of a = ', sys.getsizeof(a))\n",
        "print('Type of a = ', type(a))\n",
        "\n",
        "print('Size of b = ', sys.getsizeof(b))\n",
        "print('Type of b = ', type(b))\n",
        "\n",
        "print('Size of c = ', sys.getsizeof(c))\n",
        "print('Type of c = ', type(c))\n",
        "\n",
        "print('Size of d = ', sys.getsizeof(d))\n",
        "print('Type of d = ', type(d))\n",
        "\n",
        "del a\n",
        "del b, c, d\n",
        "\n",
        "if 'a' in locals():\n",
        "    print(\"a is exist\")\n",
        "else:\n",
        "    print(\"a is not exist\")"
      ],
      "execution_count": null,
      "outputs": [
        {
          "output_type": "stream",
          "text": [
            "Size of a =  28\n",
            "Type of a =  <class 'int'>\n",
            "Size of b =  24\n",
            "Type of b =  <class 'float'>\n",
            "Size of c =  55\n",
            "Type of c =  <class 'str'>\n",
            "Size of d =  96\n",
            "Type of d =  <class 'list'>\n",
            "a is not exist\n"
          ],
          "name": "stdout"
        }
      ]
    },
    {
      "cell_type": "markdown",
      "metadata": {
        "id": "E04dasyn5Dm7"
      },
      "source": [
        "ในตัวอย่าง เราได้ประกาศตัวแปรกับประเภทต่างๆ เราได้ฟังก์ชัน getsizeof() สำหรับหาขนาดของตัวแปรที่มีหน่วยเป็น Byte และฟังก์ชัน type() สำหรับประเภทของตัวแปรว่าอยู่ในคลาสไหน ฟังก์ชัน del() สำหรับยกเลิกหรือลบการประกาศตัวแปรออกไปจากหน่วยความจำ และสุดท้ายเป็นการตรวจสอบว่าตัวแปรถูกประกาศและหรือยังในฟังก์ชัน locals() สำหรับตรวจสอบตัวแปรในโมดูลปัจจึบัน หรือ globals() สำหรับตรวจสอบตัวแปรในโปรแกรมทั้งหมด\n",
        "\n",
        "ในบทนี้ คุณได้เรียนรู้เกี่ยวกับตัวแปรและประเภทข้อมูลในภาษา Python เราได้พูดถึงการประกาศและการใช้งานตัวแปร รวมถึงข้อมูลประเภทต่างๆ ในภาษา Python เช่น ตัวเลข String และ List และนอกจากนี้เรายังแนะนำให้คุณรู้จักกับฟังก์ชันที่มีความจำเป็นในการทำงานกับตัวแปร\n",
        "\n",
        " "
      ]
    }
  ]
}