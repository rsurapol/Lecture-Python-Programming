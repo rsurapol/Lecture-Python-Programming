{
  "cells": [
    {
      "cell_type": "markdown",
      "metadata": {
        "id": "view-in-github",
        "colab_type": "text"
      },
      "source": [
        "<a href=\"https://colab.research.google.com/github/rsurapol/Lecture-Python-Programming/blob/main/4_Data_Structure.ipynb\" target=\"_parent\"><img src=\"https://colab.research.google.com/assets/colab-badge.svg\" alt=\"Open In Colab\"/></a>"
      ]
    },
    {
      "cell_type": "markdown",
      "metadata": {
        "id": "RfgpXDOfb7rc"
      },
      "source": [
        "# 1 Basic Data Structure"
      ]
    },
    {
      "cell_type": "markdown",
      "metadata": {
        "id": "chYsPwiGb7rf"
      },
      "source": [
        "## 1.1 Numeric"
      ]
    },
    {
      "cell_type": "markdown",
      "metadata": {
        "id": "OX48Ozznb7rg"
      },
      "source": [
        "### 1.1.1 Integer"
      ]
    },
    {
      "cell_type": "code",
      "execution_count": null,
      "metadata": {
        "id": "7jBJ1IiUb7rg"
      },
      "outputs": [],
      "source": [
        "a = 1"
      ]
    },
    {
      "cell_type": "code",
      "execution_count": null,
      "metadata": {
        "id": "91yyamodb7rh"
      },
      "outputs": [],
      "source": [
        "b = 2"
      ]
    },
    {
      "cell_type": "code",
      "execution_count": null,
      "metadata": {
        "id": "DDeag0Rnb7rh",
        "outputId": "9fb0cd69-1526-46c3-83d6-3b9137a3fb53"
      },
      "outputs": [
        {
          "data": {
            "text/plain": [
              "int"
            ]
          },
          "execution_count": 3,
          "metadata": {},
          "output_type": "execute_result"
        }
      ],
      "source": [
        "type(a)"
      ]
    },
    {
      "cell_type": "code",
      "execution_count": null,
      "metadata": {
        "id": "-bqVifNib7ri",
        "outputId": "01e774eb-8fac-4f55-e1ad-40fcc10daff7"
      },
      "outputs": [
        {
          "data": {
            "text/plain": [
              "int"
            ]
          },
          "execution_count": 4,
          "metadata": {},
          "output_type": "execute_result"
        }
      ],
      "source": [
        "type(b)"
      ]
    },
    {
      "cell_type": "markdown",
      "metadata": {
        "id": "-AI1xCskb7rj"
      },
      "source": [
        "### 1.1.2 Floating-Point Number"
      ]
    },
    {
      "cell_type": "code",
      "execution_count": null,
      "metadata": {
        "id": "3mQ_o41vb7rj"
      },
      "outputs": [],
      "source": [
        "c = 0.5"
      ]
    },
    {
      "cell_type": "code",
      "execution_count": null,
      "metadata": {
        "id": "EB4DPNfQb7rj"
      },
      "outputs": [],
      "source": [
        "d = 3/4"
      ]
    },
    {
      "cell_type": "code",
      "execution_count": null,
      "metadata": {
        "id": "NndXlJm7b7rj",
        "outputId": "d496e614-4492-4a54-80fe-67f4b9d2767e"
      },
      "outputs": [
        {
          "data": {
            "text/plain": [
              "float"
            ]
          },
          "execution_count": 7,
          "metadata": {},
          "output_type": "execute_result"
        }
      ],
      "source": [
        "type(c)"
      ]
    },
    {
      "cell_type": "code",
      "execution_count": null,
      "metadata": {
        "id": "NWvTzJbNb7rk",
        "outputId": "4fb54b0b-9366-471e-cf2c-3bed064d45f5"
      },
      "outputs": [
        {
          "data": {
            "text/plain": [
              "float"
            ]
          },
          "execution_count": 8,
          "metadata": {},
          "output_type": "execute_result"
        }
      ],
      "source": [
        "type(d)"
      ]
    },
    {
      "cell_type": "markdown",
      "metadata": {
        "id": "AEHxANgzb7rk"
      },
      "source": [
        "### 1.1.3 Boolean"
      ]
    },
    {
      "cell_type": "code",
      "execution_count": null,
      "metadata": {
        "id": "flh3CKvEb7rk"
      },
      "outputs": [],
      "source": [
        "t = True"
      ]
    },
    {
      "cell_type": "code",
      "execution_count": null,
      "metadata": {
        "id": "B7i9KrMfb7rk"
      },
      "outputs": [],
      "source": [
        "f = False"
      ]
    },
    {
      "cell_type": "code",
      "execution_count": null,
      "metadata": {
        "id": "uumPFe5vb7rk",
        "outputId": "34d29b56-3f32-474e-c3c0-3cee358d92d3"
      },
      "outputs": [
        {
          "data": {
            "text/plain": [
              "bool"
            ]
          },
          "execution_count": 11,
          "metadata": {},
          "output_type": "execute_result"
        }
      ],
      "source": [
        "type(t)"
      ]
    },
    {
      "cell_type": "code",
      "execution_count": null,
      "metadata": {
        "id": "3rfnKNrJb7rl",
        "outputId": "97090b12-d249-4e44-a7d6-7c30c403b191"
      },
      "outputs": [
        {
          "data": {
            "text/plain": [
              "bool"
            ]
          },
          "execution_count": 12,
          "metadata": {},
          "output_type": "execute_result"
        }
      ],
      "source": [
        "type(f)"
      ]
    },
    {
      "cell_type": "markdown",
      "metadata": {
        "id": "nA2-cN14b7rl"
      },
      "source": [
        "### 1.1.4 Complex Number"
      ]
    },
    {
      "cell_type": "code",
      "execution_count": null,
      "metadata": {
        "id": "3sCoDbyxb7rl"
      },
      "outputs": [],
      "source": [
        "z = 1 + 2j"
      ]
    },
    {
      "cell_type": "code",
      "execution_count": null,
      "metadata": {
        "id": "5Q76TH3hb7rl",
        "outputId": "8d5b5365-ff68-4a26-ac77-a0c5e6cb68f6"
      },
      "outputs": [
        {
          "data": {
            "text/plain": [
              "1.0"
            ]
          },
          "execution_count": 14,
          "metadata": {},
          "output_type": "execute_result"
        }
      ],
      "source": [
        "z.real"
      ]
    },
    {
      "cell_type": "code",
      "execution_count": null,
      "metadata": {
        "id": "NuKav3KEb7rl",
        "outputId": "6d464041-5610-4e15-c434-4a0dce92be51"
      },
      "outputs": [
        {
          "data": {
            "text/plain": [
              "2.0"
            ]
          },
          "execution_count": 15,
          "metadata": {},
          "output_type": "execute_result"
        }
      ],
      "source": [
        "z.imag"
      ]
    },
    {
      "cell_type": "code",
      "execution_count": null,
      "metadata": {
        "scrolled": true,
        "id": "jAaXVeS7b7rm",
        "outputId": "6fee4d7c-d2c5-44ad-89c6-4c73b645d93e"
      },
      "outputs": [
        {
          "data": {
            "text/plain": [
              "complex"
            ]
          },
          "execution_count": 16,
          "metadata": {},
          "output_type": "execute_result"
        }
      ],
      "source": [
        "type(z)"
      ]
    },
    {
      "cell_type": "markdown",
      "metadata": {
        "id": "TfgnVRq3b7rm"
      },
      "source": [
        "## 1.2 String"
      ]
    },
    {
      "cell_type": "markdown",
      "metadata": {
        "id": "2BJXLCaHb7rm"
      },
      "source": [
        "### 1.2.1 Create String"
      ]
    },
    {
      "cell_type": "code",
      "execution_count": null,
      "metadata": {
        "id": "9zZAqvabb7rm"
      },
      "outputs": [],
      "source": [
        "char1 = 'Hello Wold'"
      ]
    },
    {
      "cell_type": "code",
      "execution_count": null,
      "metadata": {
        "id": "tCLWxoIMb7rm"
      },
      "outputs": [],
      "source": [
        "char2 = '0123456789'"
      ]
    },
    {
      "cell_type": "code",
      "execution_count": null,
      "metadata": {
        "id": "qBFj8pUdb7rm",
        "outputId": "2adfc829-aa42-4ab1-c431-77849136f5a7"
      },
      "outputs": [
        {
          "data": {
            "text/plain": [
              "str"
            ]
          },
          "execution_count": 19,
          "metadata": {},
          "output_type": "execute_result"
        }
      ],
      "source": [
        "type(char1)"
      ]
    },
    {
      "cell_type": "code",
      "execution_count": null,
      "metadata": {
        "id": "rbU-0x2sb7rm",
        "outputId": "f684ca3e-7473-4bd9-87fd-a7c5d6b237bb"
      },
      "outputs": [
        {
          "data": {
            "text/plain": [
              "str"
            ]
          },
          "execution_count": 20,
          "metadata": {},
          "output_type": "execute_result"
        }
      ],
      "source": [
        "type(char2)"
      ]
    },
    {
      "cell_type": "markdown",
      "metadata": {
        "id": "cViCYtDAb7rn"
      },
      "source": [
        "### 1.2.2 Read String"
      ]
    },
    {
      "cell_type": "code",
      "execution_count": null,
      "metadata": {
        "id": "knvwh04bb7rn"
      },
      "outputs": [],
      "source": [
        "char3 = '0123456789'"
      ]
    },
    {
      "cell_type": "code",
      "execution_count": null,
      "metadata": {
        "id": "xeoy-CRub7rn",
        "outputId": "afc69518-8b94-43b1-9cac-5853e8d67451"
      },
      "outputs": [
        {
          "data": {
            "text/plain": [
              "'0'"
            ]
          },
          "execution_count": 22,
          "metadata": {},
          "output_type": "execute_result"
        }
      ],
      "source": [
        "char3[0]"
      ]
    },
    {
      "cell_type": "code",
      "execution_count": null,
      "metadata": {
        "id": "ulTe9Kajb7rn",
        "outputId": "019ba471-bfe5-4009-86c5-f1ad4e0f07bc"
      },
      "outputs": [
        {
          "data": {
            "text/plain": [
              "'5'"
            ]
          },
          "execution_count": 23,
          "metadata": {},
          "output_type": "execute_result"
        }
      ],
      "source": [
        "char3[5]"
      ]
    },
    {
      "cell_type": "code",
      "execution_count": null,
      "metadata": {
        "id": "IDLeZZTSb7rn",
        "outputId": "0297b1cb-da6f-45c1-d66a-2ab911b15701"
      },
      "outputs": [
        {
          "data": {
            "text/plain": [
              "'9'"
            ]
          },
          "execution_count": 24,
          "metadata": {},
          "output_type": "execute_result"
        }
      ],
      "source": [
        "char3[-1]"
      ]
    },
    {
      "cell_type": "code",
      "execution_count": null,
      "metadata": {
        "id": "o1JUI_8Hb7rn",
        "outputId": "1dc5356f-b848-41bf-a942-799d88395d5a"
      },
      "outputs": [
        {
          "data": {
            "text/plain": [
              "'8'"
            ]
          },
          "execution_count": 25,
          "metadata": {},
          "output_type": "execute_result"
        }
      ],
      "source": [
        "char3[-2]"
      ]
    },
    {
      "cell_type": "code",
      "execution_count": null,
      "metadata": {
        "id": "4o-gd7f5b7rn"
      },
      "outputs": [],
      "source": [
        "char3 = '0123456789'"
      ]
    },
    {
      "cell_type": "code",
      "execution_count": null,
      "metadata": {
        "id": "WpPfwNRkb7ro",
        "outputId": "e589465f-8037-4bae-970e-411cca14da9a"
      },
      "outputs": [
        {
          "data": {
            "text/plain": [
              "'3456789'"
            ]
          },
          "execution_count": 27,
          "metadata": {},
          "output_type": "execute_result"
        }
      ],
      "source": [
        "char3[3:]"
      ]
    },
    {
      "cell_type": "code",
      "execution_count": null,
      "metadata": {
        "id": "NMO0t6_Qb7ro",
        "outputId": "3301c69b-011c-4754-af68-d5b135168708"
      },
      "outputs": [
        {
          "data": {
            "text/plain": [
              "'0123456'"
            ]
          },
          "execution_count": 28,
          "metadata": {},
          "output_type": "execute_result"
        }
      ],
      "source": [
        "char3[:7]"
      ]
    },
    {
      "cell_type": "code",
      "execution_count": null,
      "metadata": {
        "id": "SIiZhF0lb7ro",
        "outputId": "c1539914-ef2b-49e6-ce97-c3dcbd73e55f"
      },
      "outputs": [
        {
          "data": {
            "text/plain": [
              "'3456'"
            ]
          },
          "execution_count": 29,
          "metadata": {},
          "output_type": "execute_result"
        }
      ],
      "source": [
        "char3[3:7]"
      ]
    },
    {
      "cell_type": "markdown",
      "metadata": {
        "id": "rC_bNKdVb7ro"
      },
      "source": [
        "### 1.2.3 String + replace"
      ]
    },
    {
      "cell_type": "code",
      "execution_count": null,
      "metadata": {
        "id": "L2Kt0jBIb7ro"
      },
      "outputs": [],
      "source": [
        "char4 = 'abc'"
      ]
    },
    {
      "cell_type": "code",
      "execution_count": null,
      "metadata": {
        "id": "0YAgmde9b7ro",
        "outputId": "af5f277a-f778-4c5a-db99-e23d49d45c50"
      },
      "outputs": [
        {
          "data": {
            "text/plain": [
              "'Abc'"
            ]
          },
          "execution_count": 31,
          "metadata": {},
          "output_type": "execute_result"
        }
      ],
      "source": [
        "char4.replace('a', 'A')"
      ]
    },
    {
      "cell_type": "code",
      "execution_count": null,
      "metadata": {
        "id": "ej2GwCRAb7ro"
      },
      "outputs": [],
      "source": [
        "char4 = 'abc'"
      ]
    },
    {
      "cell_type": "code",
      "execution_count": null,
      "metadata": {
        "id": "E8ijJJKvb7ro",
        "outputId": "e3f37c3b-4c2f-4974-ea70-8a6286c9c7dc"
      },
      "outputs": [
        {
          "data": {
            "text/plain": [
              "'aDE'"
            ]
          },
          "execution_count": 33,
          "metadata": {},
          "output_type": "execute_result"
        }
      ],
      "source": [
        "char4.replace('bc', 'DE')"
      ]
    },
    {
      "cell_type": "markdown",
      "metadata": {
        "id": "2t7ILbnQb7rp"
      },
      "source": [
        "### 1.2.4 String + len"
      ]
    },
    {
      "cell_type": "code",
      "execution_count": null,
      "metadata": {
        "id": "vWlDEt_3b7rp"
      },
      "outputs": [],
      "source": [
        "char5 = '12345'"
      ]
    },
    {
      "cell_type": "code",
      "execution_count": null,
      "metadata": {
        "id": "ValIZMBob7rp",
        "outputId": "194d91cd-52b3-451d-f268-49d289f12df2"
      },
      "outputs": [
        {
          "data": {
            "text/plain": [
              "5"
            ]
          },
          "execution_count": 35,
          "metadata": {},
          "output_type": "execute_result"
        }
      ],
      "source": [
        "len(char5)"
      ]
    },
    {
      "cell_type": "markdown",
      "metadata": {
        "id": "RgN-4SDab7rp"
      },
      "source": [
        "### 1.2.5 String + in"
      ]
    },
    {
      "cell_type": "code",
      "execution_count": null,
      "metadata": {
        "id": "cKNSkRkkb7rp"
      },
      "outputs": [],
      "source": [
        "char6 = 'Python'"
      ]
    },
    {
      "cell_type": "code",
      "execution_count": null,
      "metadata": {
        "id": "-7jJqR_2b7rp",
        "outputId": "54e8f34c-60b1-4238-aa1b-0de33ef64d60"
      },
      "outputs": [
        {
          "data": {
            "text/plain": [
              "True"
            ]
          },
          "execution_count": 37,
          "metadata": {},
          "output_type": "execute_result"
        }
      ],
      "source": [
        "'P' in char6"
      ]
    },
    {
      "cell_type": "code",
      "execution_count": null,
      "metadata": {
        "id": "D5M6vPUbb7rp",
        "outputId": "424d24d9-bb7e-43d4-cfd2-c1bd7397b80b"
      },
      "outputs": [
        {
          "data": {
            "text/plain": [
              "False"
            ]
          },
          "execution_count": 38,
          "metadata": {},
          "output_type": "execute_result"
        }
      ],
      "source": [
        "'p' in char6"
      ]
    },
    {
      "cell_type": "markdown",
      "metadata": {
        "id": "8rCC_yfnb7rp"
      },
      "source": [
        "### 1.2.6 String + split"
      ]
    },
    {
      "cell_type": "code",
      "execution_count": null,
      "metadata": {
        "id": "4fSOhVZeb7rp"
      },
      "outputs": [],
      "source": [
        "char7 = 'one-two-three'"
      ]
    },
    {
      "cell_type": "code",
      "execution_count": null,
      "metadata": {
        "id": "RRhU6oL2b7rq",
        "outputId": "8fab6dd0-3d27-41a5-b34d-5099a95a0762"
      },
      "outputs": [
        {
          "data": {
            "text/plain": [
              "['one', 'two', 'three']"
            ]
          },
          "execution_count": 40,
          "metadata": {},
          "output_type": "execute_result"
        }
      ],
      "source": [
        "char7.split('-')"
      ]
    },
    {
      "cell_type": "code",
      "execution_count": null,
      "metadata": {
        "id": "MV9EuGQcb7rq"
      },
      "outputs": [],
      "source": [
        "char8 = 'I love coding'"
      ]
    },
    {
      "cell_type": "code",
      "execution_count": null,
      "metadata": {
        "id": "kmp91rlxb7rq",
        "outputId": "e107b57b-35c9-4050-8eb0-06a9f78a7502"
      },
      "outputs": [
        {
          "data": {
            "text/plain": [
              "['I', 'love', 'coding']"
            ]
          },
          "execution_count": 42,
          "metadata": {},
          "output_type": "execute_result"
        }
      ],
      "source": [
        "char8.split(' ')"
      ]
    },
    {
      "cell_type": "markdown",
      "metadata": {
        "id": "9pw2M4Lnb7rq"
      },
      "source": [
        "### 1.2.7 String + Concatenation"
      ]
    },
    {
      "cell_type": "code",
      "execution_count": null,
      "metadata": {
        "id": "zCubIoo1b7rq"
      },
      "outputs": [],
      "source": [
        "char9 = 'ab'\n",
        "char10 = 'cd'"
      ]
    },
    {
      "cell_type": "code",
      "execution_count": null,
      "metadata": {
        "id": "5m6AZE8ib7rq",
        "outputId": "30e73c34-d107-44d0-a64b-fa08967eb6cb"
      },
      "outputs": [
        {
          "data": {
            "text/plain": [
              "'abcd'"
            ]
          },
          "execution_count": 44,
          "metadata": {},
          "output_type": "execute_result"
        }
      ],
      "source": [
        "char9 + char10"
      ]
    },
    {
      "cell_type": "code",
      "execution_count": null,
      "metadata": {
        "id": "kaOEAbXlb7rq"
      },
      "outputs": [],
      "source": [
        "char11 = 'A'\n",
        "char12 = 'B'\n",
        "char13 = 'C'"
      ]
    },
    {
      "cell_type": "code",
      "execution_count": null,
      "metadata": {
        "id": "Lko0F9lZb7rr",
        "outputId": "90f3a784-9961-431f-e4ab-b1119c39127c"
      },
      "outputs": [
        {
          "data": {
            "text/plain": [
              "'ABC'"
            ]
          },
          "execution_count": 46,
          "metadata": {},
          "output_type": "execute_result"
        }
      ],
      "source": [
        "char11 + char12 + char13"
      ]
    },
    {
      "cell_type": "markdown",
      "metadata": {
        "id": "qEYepuYGb7rr"
      },
      "source": [
        "# 2 Composite Data Structure"
      ]
    },
    {
      "cell_type": "markdown",
      "metadata": {
        "id": "6GaR6jlPb7rr"
      },
      "source": [
        "## 2.1 List"
      ]
    },
    {
      "cell_type": "markdown",
      "metadata": {
        "id": "RXSe3E_4b7rr"
      },
      "source": [
        "### 2.1.1 Create List"
      ]
    },
    {
      "cell_type": "code",
      "execution_count": null,
      "metadata": {
        "id": "eSQQdTgbb7rr"
      },
      "outputs": [],
      "source": [
        "list1 = [1, 2, 3, 4, 5]\n",
        "list2 = ['a', 'b', 'c', 'd']\n",
        "list3 = [1, 2, 3, 'a', 'b', 'c']"
      ]
    },
    {
      "cell_type": "code",
      "execution_count": null,
      "metadata": {
        "id": "iqGp-oD6b7rr",
        "outputId": "4201b762-5c0b-4839-e11e-414d250fd852"
      },
      "outputs": [
        {
          "data": {
            "text/plain": [
              "list"
            ]
          },
          "execution_count": 48,
          "metadata": {},
          "output_type": "execute_result"
        }
      ],
      "source": [
        "type(list1)"
      ]
    },
    {
      "cell_type": "code",
      "execution_count": null,
      "metadata": {
        "id": "Gwq2ULS7b7rr",
        "outputId": "f63097eb-1637-4118-e92e-3608a4ff43ce"
      },
      "outputs": [
        {
          "data": {
            "text/plain": [
              "list"
            ]
          },
          "execution_count": 49,
          "metadata": {},
          "output_type": "execute_result"
        }
      ],
      "source": [
        "type(list2)"
      ]
    },
    {
      "cell_type": "code",
      "execution_count": null,
      "metadata": {
        "id": "mJUJlmdtb7rs",
        "outputId": "0d14f7a4-9715-4475-9eed-d9df9dc4b186"
      },
      "outputs": [
        {
          "data": {
            "text/plain": [
              "list"
            ]
          },
          "execution_count": 50,
          "metadata": {},
          "output_type": "execute_result"
        }
      ],
      "source": [
        "type(list3)"
      ]
    },
    {
      "cell_type": "markdown",
      "metadata": {
        "id": "wi9d04uPb7rs"
      },
      "source": [
        "### 2.1.2 Read List"
      ]
    },
    {
      "cell_type": "code",
      "execution_count": null,
      "metadata": {
        "id": "6uwihHofb7rs"
      },
      "outputs": [],
      "source": [
        "list4 = [1, 2, 3, 'a', 'b', 'c']"
      ]
    },
    {
      "cell_type": "code",
      "execution_count": null,
      "metadata": {
        "id": "RW9jHM3Eb7rs",
        "outputId": "759edaed-b81b-46ec-97a1-8544efa7ca59"
      },
      "outputs": [
        {
          "data": {
            "text/plain": [
              "1"
            ]
          },
          "execution_count": 52,
          "metadata": {},
          "output_type": "execute_result"
        }
      ],
      "source": [
        "list4[0]"
      ]
    },
    {
      "cell_type": "code",
      "execution_count": null,
      "metadata": {
        "id": "9pyZuN-Wb7rs",
        "outputId": "247a58fd-7a1b-410d-e9c2-a597c7b2e536"
      },
      "outputs": [
        {
          "data": {
            "text/plain": [
              "'c'"
            ]
          },
          "execution_count": 53,
          "metadata": {},
          "output_type": "execute_result"
        }
      ],
      "source": [
        "list4[-1]"
      ]
    },
    {
      "cell_type": "code",
      "execution_count": null,
      "metadata": {
        "scrolled": true,
        "id": "kROiwQPLb7rs",
        "outputId": "b82a25be-9c82-4396-b9e7-e115a3777e82"
      },
      "outputs": [
        {
          "data": {
            "text/plain": [
              "'b'"
            ]
          },
          "execution_count": 54,
          "metadata": {},
          "output_type": "execute_result"
        }
      ],
      "source": [
        "list4[-2]"
      ]
    },
    {
      "cell_type": "code",
      "execution_count": null,
      "metadata": {
        "id": "-T1hwfy0b7rs"
      },
      "outputs": [],
      "source": [
        "list5 = [1, 2, 3, 'a', 'b', 'c']"
      ]
    },
    {
      "cell_type": "code",
      "execution_count": null,
      "metadata": {
        "id": "oY8XqrU0b7rs",
        "outputId": "e6199921-cefc-4c68-fc89-5a0eaaa50c22"
      },
      "outputs": [
        {
          "data": {
            "text/plain": [
              "['a', 'b', 'c']"
            ]
          },
          "execution_count": 56,
          "metadata": {},
          "output_type": "execute_result"
        }
      ],
      "source": [
        "list5[3:]"
      ]
    },
    {
      "cell_type": "code",
      "execution_count": null,
      "metadata": {
        "id": "oxXY_bmab7rt",
        "outputId": "efd1b92a-8b49-47b9-aefe-55aec7e42fca"
      },
      "outputs": [
        {
          "data": {
            "text/plain": [
              "[1, 2, 3, 'a', 'b']"
            ]
          },
          "execution_count": 57,
          "metadata": {},
          "output_type": "execute_result"
        }
      ],
      "source": [
        "list5[:5]"
      ]
    },
    {
      "cell_type": "code",
      "execution_count": null,
      "metadata": {
        "id": "BxQIFcPrb7rt",
        "outputId": "6cc64a2c-5a33-48da-f089-e9cc69c1e057"
      },
      "outputs": [
        {
          "data": {
            "text/plain": [
              "['a', 'b']"
            ]
          },
          "execution_count": 58,
          "metadata": {},
          "output_type": "execute_result"
        }
      ],
      "source": [
        "list5[3:5]"
      ]
    },
    {
      "cell_type": "markdown",
      "metadata": {
        "id": "mzdMmDeXb7rt"
      },
      "source": [
        "### 2.1.3 Update List"
      ]
    },
    {
      "cell_type": "markdown",
      "metadata": {
        "id": "myNSpztkb7rt"
      },
      "source": [
        "#### 2.1.3.1 Replace"
      ]
    },
    {
      "cell_type": "code",
      "execution_count": null,
      "metadata": {
        "id": "iI1CsPMDb7rt"
      },
      "outputs": [],
      "source": [
        "list6 = [1, 2, 3, 'a', 'b', 'c']"
      ]
    },
    {
      "cell_type": "code",
      "execution_count": null,
      "metadata": {
        "id": "ADnnwiCBb7rt"
      },
      "outputs": [],
      "source": [
        "list6[0] = 0"
      ]
    },
    {
      "cell_type": "code",
      "execution_count": null,
      "metadata": {
        "id": "1tmwsjVBb7rt",
        "outputId": "afafacee-466d-4ad5-ddca-36211ae2069b"
      },
      "outputs": [
        {
          "data": {
            "text/plain": [
              "[0, 2, 3, 'a', 'b', 'c']"
            ]
          },
          "execution_count": 61,
          "metadata": {},
          "output_type": "execute_result"
        }
      ],
      "source": [
        "list6"
      ]
    },
    {
      "cell_type": "code",
      "execution_count": null,
      "metadata": {
        "id": "vZR10Ayfb7ru"
      },
      "outputs": [],
      "source": [
        "list6[-1] = 'x'"
      ]
    },
    {
      "cell_type": "code",
      "execution_count": null,
      "metadata": {
        "id": "4dzUW8clb7ru",
        "outputId": "4c4c59ac-6b1d-470d-92aa-91dc5a63116f"
      },
      "outputs": [
        {
          "data": {
            "text/plain": [
              "[0, 2, 3, 'a', 'b', 'x']"
            ]
          },
          "execution_count": 63,
          "metadata": {},
          "output_type": "execute_result"
        }
      ],
      "source": [
        "list6"
      ]
    },
    {
      "cell_type": "markdown",
      "metadata": {
        "id": "VBpxAt9Fb7ru"
      },
      "source": [
        "#### 2.1.3.2 append"
      ]
    },
    {
      "cell_type": "code",
      "execution_count": null,
      "metadata": {
        "id": "qVYwXFv7b7ru"
      },
      "outputs": [],
      "source": [
        "list7 = [1, 2, 3, 'a', 'b', 'c']"
      ]
    },
    {
      "cell_type": "code",
      "execution_count": null,
      "metadata": {
        "id": "6Rakmaghb7ru"
      },
      "outputs": [],
      "source": [
        "list7.append('d')"
      ]
    },
    {
      "cell_type": "code",
      "execution_count": null,
      "metadata": {
        "id": "O25dPH7Jb7ru",
        "outputId": "1bf26125-7f6f-434f-ec78-06c46e5e01c6"
      },
      "outputs": [
        {
          "data": {
            "text/plain": [
              "[1, 2, 3, 'a', 'b', 'c', 'd']"
            ]
          },
          "execution_count": 66,
          "metadata": {},
          "output_type": "execute_result"
        }
      ],
      "source": [
        "list7"
      ]
    },
    {
      "cell_type": "code",
      "execution_count": null,
      "metadata": {
        "id": "gU0r4Gsmb7ru"
      },
      "outputs": [],
      "source": [
        "list7.append('e')"
      ]
    },
    {
      "cell_type": "code",
      "execution_count": null,
      "metadata": {
        "id": "m2O9r0ZWb7ru",
        "outputId": "a9548dc5-9eee-4b40-b78e-fd9641ee8886"
      },
      "outputs": [
        {
          "data": {
            "text/plain": [
              "[1, 2, 3, 'a', 'b', 'c', 'd', 'e']"
            ]
          },
          "execution_count": 68,
          "metadata": {},
          "output_type": "execute_result"
        }
      ],
      "source": [
        "list7"
      ]
    },
    {
      "cell_type": "markdown",
      "metadata": {
        "id": "L1kikkmsb7ru"
      },
      "source": [
        "#### 2.1.3.3 extend"
      ]
    },
    {
      "cell_type": "code",
      "execution_count": null,
      "metadata": {
        "id": "JsGsnlfab7rv"
      },
      "outputs": [],
      "source": [
        "list8 = [1, 2, 3]\n",
        "list9 = ['a', 'b', 'c']"
      ]
    },
    {
      "cell_type": "code",
      "execution_count": null,
      "metadata": {
        "id": "80cesN71b7rv"
      },
      "outputs": [],
      "source": [
        "list8.extend(list9)"
      ]
    },
    {
      "cell_type": "code",
      "execution_count": null,
      "metadata": {
        "id": "mKIUpO2Zb7rv",
        "outputId": "3561f2cf-90a4-4752-fdf3-ea144dafeedb"
      },
      "outputs": [
        {
          "data": {
            "text/plain": [
              "[1, 2, 3, 'a', 'b', 'c']"
            ]
          },
          "execution_count": 71,
          "metadata": {},
          "output_type": "execute_result"
        }
      ],
      "source": [
        "list8"
      ]
    },
    {
      "cell_type": "markdown",
      "metadata": {
        "id": "lbX0oCEqb7rv"
      },
      "source": [
        "#### 2.1.3.4 insert"
      ]
    },
    {
      "cell_type": "code",
      "execution_count": null,
      "metadata": {
        "id": "9O_wMe1ab7rv"
      },
      "outputs": [],
      "source": [
        "list10 = [1, 2, 3, 'a', 'b', 'c']"
      ]
    },
    {
      "cell_type": "code",
      "execution_count": null,
      "metadata": {
        "id": "UsPLE6yFb7rv"
      },
      "outputs": [],
      "source": [
        "list10.insert(1, 'one')"
      ]
    },
    {
      "cell_type": "code",
      "execution_count": null,
      "metadata": {
        "id": "BFRG7zNab7rv",
        "outputId": "020febc0-43cc-476c-dc3c-f441e7f207cc"
      },
      "outputs": [
        {
          "data": {
            "text/plain": [
              "[1, 'one', 2, 3, 'a', 'b', 'c']"
            ]
          },
          "execution_count": 74,
          "metadata": {},
          "output_type": "execute_result"
        }
      ],
      "source": [
        "list10"
      ]
    },
    {
      "cell_type": "markdown",
      "metadata": {
        "id": "c2k5G4jAb7rv"
      },
      "source": [
        "### 2.1.4 Delete List"
      ]
    },
    {
      "cell_type": "markdown",
      "metadata": {
        "id": "34cFYIY-b7rw"
      },
      "source": [
        "#### 2.1.4.1 del"
      ]
    },
    {
      "cell_type": "code",
      "execution_count": null,
      "metadata": {
        "id": "kd3zAiRRb7rw"
      },
      "outputs": [],
      "source": [
        "list11 = [1, 2, 3, 'a', 'b', 'c']"
      ]
    },
    {
      "cell_type": "code",
      "execution_count": null,
      "metadata": {
        "id": "u7Ac3gW_b7rw"
      },
      "outputs": [],
      "source": [
        "del list11[2]"
      ]
    },
    {
      "cell_type": "code",
      "execution_count": null,
      "metadata": {
        "id": "eeDC84G2b7rw",
        "outputId": "83e221d6-c896-46ac-c696-c08a486b2e2b"
      },
      "outputs": [
        {
          "data": {
            "text/plain": [
              "[1, 2, 'a', 'b', 'c']"
            ]
          },
          "execution_count": 77,
          "metadata": {},
          "output_type": "execute_result"
        }
      ],
      "source": [
        "list11"
      ]
    },
    {
      "cell_type": "code",
      "execution_count": null,
      "metadata": {
        "id": "IuoCgG6vb7rw"
      },
      "outputs": [],
      "source": [
        "list11 = [1, 2, 3, 'a', 'b', 'c']"
      ]
    },
    {
      "cell_type": "code",
      "execution_count": null,
      "metadata": {
        "id": "4eDIgJHpb7rw"
      },
      "outputs": [],
      "source": [
        "del list11[-2]"
      ]
    },
    {
      "cell_type": "code",
      "execution_count": null,
      "metadata": {
        "id": "HCLqnWKPb7rw",
        "outputId": "00a76bc7-3bb5-4638-c582-3147c3a98987"
      },
      "outputs": [
        {
          "data": {
            "text/plain": [
              "[1, 2, 3, 'a', 'c']"
            ]
          },
          "execution_count": 80,
          "metadata": {},
          "output_type": "execute_result"
        }
      ],
      "source": [
        "list11"
      ]
    },
    {
      "cell_type": "markdown",
      "metadata": {
        "id": "W6dC4Mb0b7rw"
      },
      "source": [
        "#### 2.1.4.2 remove"
      ]
    },
    {
      "cell_type": "code",
      "execution_count": null,
      "metadata": {
        "id": "sihwnpIWb7rw"
      },
      "outputs": [],
      "source": [
        "list12 = [1, 2, 3, 'a', 'b', 'c']"
      ]
    },
    {
      "cell_type": "code",
      "execution_count": null,
      "metadata": {
        "id": "Mr67SO6qb7rx"
      },
      "outputs": [],
      "source": [
        "list12.remove(1)"
      ]
    },
    {
      "cell_type": "code",
      "execution_count": null,
      "metadata": {
        "id": "Q05yr-x_b7rx",
        "outputId": "73569b08-aa91-4853-c6b1-04ee55c94976"
      },
      "outputs": [
        {
          "data": {
            "text/plain": [
              "[2, 3, 'a', 'b', 'c']"
            ]
          },
          "execution_count": 83,
          "metadata": {},
          "output_type": "execute_result"
        }
      ],
      "source": [
        "list12"
      ]
    },
    {
      "cell_type": "code",
      "execution_count": null,
      "metadata": {
        "id": "hTymTCgTb7rx"
      },
      "outputs": [],
      "source": [
        "list12.remove('a')"
      ]
    },
    {
      "cell_type": "code",
      "execution_count": null,
      "metadata": {
        "id": "KiZ1obHBb7rx",
        "outputId": "5536ed8d-f4ea-4044-9358-f9797ce12b22"
      },
      "outputs": [
        {
          "data": {
            "text/plain": [
              "[2, 3, 'b', 'c']"
            ]
          },
          "execution_count": 85,
          "metadata": {},
          "output_type": "execute_result"
        }
      ],
      "source": [
        "list12"
      ]
    },
    {
      "cell_type": "markdown",
      "metadata": {
        "id": "h9qJRrhPb7rx"
      },
      "source": [
        "#### 2.1.4.3 clear"
      ]
    },
    {
      "cell_type": "code",
      "execution_count": null,
      "metadata": {
        "id": "S38rRhDtb7rx"
      },
      "outputs": [],
      "source": [
        "list13 = [1, 2, 3, 'a', 'b', 'c']"
      ]
    },
    {
      "cell_type": "code",
      "execution_count": null,
      "metadata": {
        "id": "Q2fVgWz3b7rx"
      },
      "outputs": [],
      "source": [
        "list13.clear()"
      ]
    },
    {
      "cell_type": "code",
      "execution_count": null,
      "metadata": {
        "id": "npFJQ_oCb7rx",
        "outputId": "e2892429-3f5f-471b-c7d2-4743dc0041e8"
      },
      "outputs": [
        {
          "data": {
            "text/plain": [
              "[]"
            ]
          },
          "execution_count": 88,
          "metadata": {},
          "output_type": "execute_result"
        }
      ],
      "source": [
        "list13"
      ]
    },
    {
      "cell_type": "markdown",
      "metadata": {
        "id": "t7yLN2MXb7rx"
      },
      "source": [
        "### 2.1.5 List + sort"
      ]
    },
    {
      "cell_type": "code",
      "execution_count": null,
      "metadata": {
        "id": "FOH7nWQSb7ry"
      },
      "outputs": [],
      "source": [
        "list14 = [1, 5, 4, 2, 3]"
      ]
    },
    {
      "cell_type": "code",
      "execution_count": null,
      "metadata": {
        "id": "fuCxbtFEb7ry"
      },
      "outputs": [],
      "source": [
        "list14.sort()"
      ]
    },
    {
      "cell_type": "code",
      "execution_count": null,
      "metadata": {
        "id": "swKmj1hJb7ry",
        "outputId": "01054882-c8c5-4fe8-b95e-ec9e3c02fdff"
      },
      "outputs": [
        {
          "data": {
            "text/plain": [
              "[1, 2, 3, 4, 5]"
            ]
          },
          "execution_count": 91,
          "metadata": {},
          "output_type": "execute_result"
        }
      ],
      "source": [
        "list14"
      ]
    },
    {
      "cell_type": "code",
      "execution_count": null,
      "metadata": {
        "id": "bG_Q0DH5b7ry"
      },
      "outputs": [],
      "source": [
        "list14 = [1, 5, 4, 2, 3]"
      ]
    },
    {
      "cell_type": "code",
      "execution_count": null,
      "metadata": {
        "id": "NpmU0TzPb7ry"
      },
      "outputs": [],
      "source": [
        "list14.sort(reverse = True)"
      ]
    },
    {
      "cell_type": "code",
      "execution_count": null,
      "metadata": {
        "id": "YxdSZUArb7ry",
        "outputId": "34d20f7b-71ca-4a61-e37e-81d418d99277"
      },
      "outputs": [
        {
          "data": {
            "text/plain": [
              "[5, 4, 3, 2, 1]"
            ]
          },
          "execution_count": 94,
          "metadata": {},
          "output_type": "execute_result"
        }
      ],
      "source": [
        "list14"
      ]
    },
    {
      "cell_type": "code",
      "execution_count": null,
      "metadata": {
        "id": "g8HNjK0Bb7ry"
      },
      "outputs": [],
      "source": [
        "list14 = [1, 5, 4, 2, 3]"
      ]
    },
    {
      "cell_type": "code",
      "execution_count": null,
      "metadata": {
        "id": "0W-mZKVUb7ry"
      },
      "outputs": [],
      "source": [
        "sorted_list14 = sorted(list14)"
      ]
    },
    {
      "cell_type": "code",
      "execution_count": null,
      "metadata": {
        "id": "IiVZz93Rb7ry",
        "outputId": "7b4a3c63-8c8b-43d0-afdc-24e90613f3b8"
      },
      "outputs": [
        {
          "data": {
            "text/plain": [
              "[1, 2, 3, 4, 5]"
            ]
          },
          "execution_count": 97,
          "metadata": {},
          "output_type": "execute_result"
        }
      ],
      "source": [
        "sorted_list14"
      ]
    },
    {
      "cell_type": "code",
      "execution_count": null,
      "metadata": {
        "id": "BPeedcoRb7rz"
      },
      "outputs": [],
      "source": [
        "list14 = [1, 5, 4, 2, 3]"
      ]
    },
    {
      "cell_type": "code",
      "execution_count": null,
      "metadata": {
        "id": "ivNfrEFob7rz"
      },
      "outputs": [],
      "source": [
        "sorted_list14 = sorted(list14, reverse = True)"
      ]
    },
    {
      "cell_type": "code",
      "execution_count": null,
      "metadata": {
        "id": "-PylGXnzb7rz",
        "outputId": "261871de-d350-428b-f56d-2f05abe8bb10"
      },
      "outputs": [
        {
          "data": {
            "text/plain": [
              "[5, 4, 3, 2, 1]"
            ]
          },
          "execution_count": 100,
          "metadata": {},
          "output_type": "execute_result"
        }
      ],
      "source": [
        "sorted_list14"
      ]
    },
    {
      "cell_type": "markdown",
      "metadata": {
        "id": "hANsAT1nb7rz"
      },
      "source": [
        "### 2.1.6 List + len"
      ]
    },
    {
      "cell_type": "code",
      "execution_count": null,
      "metadata": {
        "id": "cbN7QMHdb7rz"
      },
      "outputs": [],
      "source": [
        "list15 = [1, 2, 3, 'a', 'b', 'c']"
      ]
    },
    {
      "cell_type": "code",
      "execution_count": null,
      "metadata": {
        "id": "Atv_g1jNb7rz",
        "outputId": "413ee9bc-3478-4ded-d294-a020f41d7d3e"
      },
      "outputs": [
        {
          "data": {
            "text/plain": [
              "6"
            ]
          },
          "execution_count": 102,
          "metadata": {},
          "output_type": "execute_result"
        }
      ],
      "source": [
        "len(list15)"
      ]
    },
    {
      "cell_type": "code",
      "execution_count": null,
      "metadata": {
        "id": "uGSfvK_ab7rz"
      },
      "outputs": [],
      "source": [
        "list16 = ['a', 'b', 'c', 'd', 'e']"
      ]
    },
    {
      "cell_type": "code",
      "execution_count": null,
      "metadata": {
        "id": "P6EWPu72b7rz",
        "outputId": "11e10ed4-c551-4e94-fca8-279fd9af1503"
      },
      "outputs": [
        {
          "data": {
            "text/plain": [
              "5"
            ]
          },
          "execution_count": 104,
          "metadata": {},
          "output_type": "execute_result"
        }
      ],
      "source": [
        "len(list16)"
      ]
    },
    {
      "cell_type": "markdown",
      "metadata": {
        "id": "RKBlVKBrb7r0"
      },
      "source": [
        "### 2.1.7 List + in"
      ]
    },
    {
      "cell_type": "code",
      "execution_count": null,
      "metadata": {
        "id": "ypWBk_Jmb7r0"
      },
      "outputs": [],
      "source": [
        "list17 = [1, 2, 3, 'a', 'b', 'c']"
      ]
    },
    {
      "cell_type": "code",
      "execution_count": null,
      "metadata": {
        "id": "6CgOhlvYb7r0",
        "outputId": "e698ebf2-b119-4eb0-9f33-ac33e77c43bd"
      },
      "outputs": [
        {
          "data": {
            "text/plain": [
              "True"
            ]
          },
          "execution_count": 106,
          "metadata": {},
          "output_type": "execute_result"
        }
      ],
      "source": [
        "'b' in list17"
      ]
    },
    {
      "cell_type": "code",
      "execution_count": null,
      "metadata": {
        "scrolled": true,
        "id": "IRU0zgKzb7r0",
        "outputId": "68a14620-c97b-4300-b245-279bc2f43f66"
      },
      "outputs": [
        {
          "data": {
            "text/plain": [
              "False"
            ]
          },
          "execution_count": 107,
          "metadata": {},
          "output_type": "execute_result"
        }
      ],
      "source": [
        "4 in list17"
      ]
    },
    {
      "cell_type": "markdown",
      "metadata": {
        "id": "RRIJeGZrb7r0"
      },
      "source": [
        "## 2.2 Tuple"
      ]
    },
    {
      "cell_type": "markdown",
      "metadata": {
        "id": "WqGupalKb7r0"
      },
      "source": [
        "### 2.2.1 Create Tuple"
      ]
    },
    {
      "cell_type": "code",
      "execution_count": null,
      "metadata": {
        "id": "b42qPK_0b7r0"
      },
      "outputs": [],
      "source": [
        "tuple1 = (1, 2, 3, 4, 5)\n",
        "tuple2 = ('a', 'b', 'c', 'd')\n",
        "tuple3 = (1, 2, 3, 'a', 'b', 'c')"
      ]
    },
    {
      "cell_type": "code",
      "execution_count": null,
      "metadata": {
        "id": "qoW8ZuWUb7r0",
        "outputId": "9dbecd67-8594-47cf-c2a0-9e0bc40f2fc7"
      },
      "outputs": [
        {
          "data": {
            "text/plain": [
              "tuple"
            ]
          },
          "execution_count": 109,
          "metadata": {},
          "output_type": "execute_result"
        }
      ],
      "source": [
        "type(tuple1)"
      ]
    },
    {
      "cell_type": "code",
      "execution_count": null,
      "metadata": {
        "id": "18pIioHmb7r1",
        "outputId": "97f52541-8a7e-4ed3-8826-e49a7f2c5ce4"
      },
      "outputs": [
        {
          "data": {
            "text/plain": [
              "tuple"
            ]
          },
          "execution_count": 110,
          "metadata": {},
          "output_type": "execute_result"
        }
      ],
      "source": [
        "type(tuple2)"
      ]
    },
    {
      "cell_type": "code",
      "execution_count": null,
      "metadata": {
        "id": "H6Da0BOSb7r1",
        "outputId": "d137b9dd-4a66-4a53-a0f4-5a20055291be"
      },
      "outputs": [
        {
          "data": {
            "text/plain": [
              "tuple"
            ]
          },
          "execution_count": 111,
          "metadata": {},
          "output_type": "execute_result"
        }
      ],
      "source": [
        "type(tuple3)"
      ]
    },
    {
      "cell_type": "markdown",
      "metadata": {
        "id": "2zzwlJ0ob7r1"
      },
      "source": [
        "### 2.2.2 Read Tuple"
      ]
    },
    {
      "cell_type": "code",
      "execution_count": null,
      "metadata": {
        "id": "lJk0Mf70b7r1"
      },
      "outputs": [],
      "source": [
        "tuple4 = (1, 2, 3, 'a', 'b', 'c')"
      ]
    },
    {
      "cell_type": "code",
      "execution_count": null,
      "metadata": {
        "id": "Kg7pybRvb7r1",
        "outputId": "7b777f79-59a0-4126-cc84-d90bd019d519"
      },
      "outputs": [
        {
          "data": {
            "text/plain": [
              "1"
            ]
          },
          "execution_count": 113,
          "metadata": {},
          "output_type": "execute_result"
        }
      ],
      "source": [
        "tuple4[0]"
      ]
    },
    {
      "cell_type": "code",
      "execution_count": null,
      "metadata": {
        "id": "wFVSuqs3b7r1",
        "outputId": "f465a591-bf9c-4a7b-de3a-b8208429268f"
      },
      "outputs": [
        {
          "data": {
            "text/plain": [
              "'c'"
            ]
          },
          "execution_count": 114,
          "metadata": {},
          "output_type": "execute_result"
        }
      ],
      "source": [
        "tuple4[-1]"
      ]
    },
    {
      "cell_type": "code",
      "execution_count": null,
      "metadata": {
        "scrolled": true,
        "id": "cmAXvsC8b7r1",
        "outputId": "dd11afc5-9b44-43be-fca3-2a417d3d838f"
      },
      "outputs": [
        {
          "data": {
            "text/plain": [
              "'b'"
            ]
          },
          "execution_count": 115,
          "metadata": {},
          "output_type": "execute_result"
        }
      ],
      "source": [
        "tuple4[-2]"
      ]
    },
    {
      "cell_type": "code",
      "execution_count": null,
      "metadata": {
        "id": "65arjykyb7r1"
      },
      "outputs": [],
      "source": [
        "tuple5 = (1, 2, 3, 'a', 'b', 'c')"
      ]
    },
    {
      "cell_type": "code",
      "execution_count": null,
      "metadata": {
        "id": "DlqpQ8Iib7r2",
        "outputId": "055c1a01-42e7-4614-b429-e19f54563492"
      },
      "outputs": [
        {
          "data": {
            "text/plain": [
              "('a', 'b', 'c')"
            ]
          },
          "execution_count": 117,
          "metadata": {},
          "output_type": "execute_result"
        }
      ],
      "source": [
        "tuple5[3:]"
      ]
    },
    {
      "cell_type": "code",
      "execution_count": null,
      "metadata": {
        "id": "QvdgIF6zb7r2",
        "outputId": "5f098970-721f-4f1e-a79b-43f82350c066"
      },
      "outputs": [
        {
          "data": {
            "text/plain": [
              "(1, 2, 3, 'a', 'b')"
            ]
          },
          "execution_count": 118,
          "metadata": {},
          "output_type": "execute_result"
        }
      ],
      "source": [
        "tuple5[:5]"
      ]
    },
    {
      "cell_type": "code",
      "execution_count": null,
      "metadata": {
        "id": "5RdYlaFdb7r2",
        "outputId": "d18ca7f0-3b14-436a-ea85-d551a5740ae9"
      },
      "outputs": [
        {
          "data": {
            "text/plain": [
              "('a', 'b')"
            ]
          },
          "execution_count": 119,
          "metadata": {},
          "output_type": "execute_result"
        }
      ],
      "source": [
        "tuple5[3:5]"
      ]
    },
    {
      "cell_type": "markdown",
      "metadata": {
        "id": "Q2Z9R_qCb7r2"
      },
      "source": [
        "### 2.2.3 Tuple + len"
      ]
    },
    {
      "cell_type": "code",
      "execution_count": null,
      "metadata": {
        "id": "4VA2Jnvpb7r2"
      },
      "outputs": [],
      "source": [
        "tuple6 = (1, 2, 3, 'a', 'b', 'c')"
      ]
    },
    {
      "cell_type": "code",
      "execution_count": null,
      "metadata": {
        "id": "ThVvF7aEb7r2",
        "outputId": "f4e41af6-3265-44d2-e6e5-1210cb046741"
      },
      "outputs": [
        {
          "data": {
            "text/plain": [
              "6"
            ]
          },
          "execution_count": 121,
          "metadata": {},
          "output_type": "execute_result"
        }
      ],
      "source": [
        "len(tuple6)"
      ]
    },
    {
      "cell_type": "code",
      "execution_count": null,
      "metadata": {
        "id": "VJ8oZ1Ujb7r2"
      },
      "outputs": [],
      "source": [
        "tuple7 = ('a', 'b', 'c', 'd', 'e')"
      ]
    },
    {
      "cell_type": "code",
      "execution_count": null,
      "metadata": {
        "id": "vT9T2lVbb7r2",
        "outputId": "8758d1bf-23d4-4277-e100-1c86feb1088e"
      },
      "outputs": [
        {
          "data": {
            "text/plain": [
              "5"
            ]
          },
          "execution_count": 123,
          "metadata": {},
          "output_type": "execute_result"
        }
      ],
      "source": [
        "len(tuple7)"
      ]
    },
    {
      "cell_type": "markdown",
      "metadata": {
        "id": "ev0pPADbb7r3"
      },
      "source": [
        "### 2.2.4 Tuple + in"
      ]
    },
    {
      "cell_type": "code",
      "execution_count": null,
      "metadata": {
        "id": "j2kWFJzLb7r3"
      },
      "outputs": [],
      "source": [
        "tuple8 = (1, 2, 3, 'a', 'b', 'c')"
      ]
    },
    {
      "cell_type": "code",
      "execution_count": null,
      "metadata": {
        "id": "oVaPGO2gb7r3",
        "outputId": "e9dcfac2-e3b6-41b1-c0f0-d55eea7ba26a"
      },
      "outputs": [
        {
          "data": {
            "text/plain": [
              "True"
            ]
          },
          "execution_count": 125,
          "metadata": {},
          "output_type": "execute_result"
        }
      ],
      "source": [
        "'b' in tuple8"
      ]
    },
    {
      "cell_type": "code",
      "execution_count": null,
      "metadata": {
        "scrolled": true,
        "id": "9LE9d5Owb7r3",
        "outputId": "b097432f-a7d9-4a3c-8557-bdd2752575ed"
      },
      "outputs": [
        {
          "data": {
            "text/plain": [
              "False"
            ]
          },
          "execution_count": 126,
          "metadata": {},
          "output_type": "execute_result"
        }
      ],
      "source": [
        "4 in tuple8"
      ]
    },
    {
      "cell_type": "markdown",
      "metadata": {
        "id": "cYZa1Dx3b7r3"
      },
      "source": [
        "## 2.3 Dictionary"
      ]
    },
    {
      "cell_type": "markdown",
      "metadata": {
        "id": "Ozd2EPXRb7r3"
      },
      "source": [
        "### 2.3.1 Create Dictionary"
      ]
    },
    {
      "cell_type": "code",
      "execution_count": null,
      "metadata": {
        "id": "ngvAK1i1b7r3"
      },
      "outputs": [],
      "source": [
        "dict1 = {'firstname' : 'John', 'lastname' : 'Doe', 'age' : 32}\n",
        "dict2 = {'fullname' : 'John Doe', 'hobby' : ['coding', 'study']}"
      ]
    },
    {
      "cell_type": "code",
      "execution_count": null,
      "metadata": {
        "id": "YQAUyW6Lb7r3",
        "outputId": "feb2f747-7311-49cd-85ff-f040da952bab"
      },
      "outputs": [
        {
          "data": {
            "text/plain": [
              "dict"
            ]
          },
          "execution_count": 128,
          "metadata": {},
          "output_type": "execute_result"
        }
      ],
      "source": [
        "type(dict1)"
      ]
    },
    {
      "cell_type": "code",
      "execution_count": null,
      "metadata": {
        "id": "9_itoCfvb7r3",
        "outputId": "9f5abff6-1e72-4fc4-fb48-ce4e2d0a5ebf"
      },
      "outputs": [
        {
          "data": {
            "text/plain": [
              "dict"
            ]
          },
          "execution_count": 129,
          "metadata": {},
          "output_type": "execute_result"
        }
      ],
      "source": [
        "type(dict2)"
      ]
    },
    {
      "cell_type": "markdown",
      "metadata": {
        "id": "CvHStJOyb7r4"
      },
      "source": [
        "### 2.3.2 Read Dictionary"
      ]
    },
    {
      "cell_type": "code",
      "execution_count": null,
      "metadata": {
        "id": "CFQQl5XAb7r4"
      },
      "outputs": [],
      "source": [
        "dict3 = {'firstname' : 'John', 'lastname' : 'Doe', 'age' : 32}"
      ]
    },
    {
      "cell_type": "code",
      "execution_count": null,
      "metadata": {
        "id": "UoNaRVXib7r4",
        "outputId": "a2a39ca9-1983-4c75-ca98-61faeac70107"
      },
      "outputs": [
        {
          "data": {
            "text/plain": [
              "'John'"
            ]
          },
          "execution_count": 131,
          "metadata": {},
          "output_type": "execute_result"
        }
      ],
      "source": [
        "dict3['firstname']"
      ]
    },
    {
      "cell_type": "code",
      "execution_count": null,
      "metadata": {
        "id": "E1CMnz3nb7r4",
        "outputId": "b6f88a95-b96b-4756-8e4a-dadb97d8857f"
      },
      "outputs": [
        {
          "data": {
            "text/plain": [
              "32"
            ]
          },
          "execution_count": 132,
          "metadata": {},
          "output_type": "execute_result"
        }
      ],
      "source": [
        "dict3['age']"
      ]
    },
    {
      "cell_type": "markdown",
      "metadata": {
        "id": "jk9B78UFb7r4"
      },
      "source": [
        "### 2.3.3 Update Dictionary"
      ]
    },
    {
      "cell_type": "markdown",
      "metadata": {
        "id": "BE51iVv1b7r4"
      },
      "source": [
        "#### 2.3.3.1 Replace"
      ]
    },
    {
      "cell_type": "code",
      "execution_count": null,
      "metadata": {
        "id": "tr3NC-9ob7r4"
      },
      "outputs": [],
      "source": [
        "dict4 = {'firstname' : 'John', 'lastname' : 'Doe', 'age' : 32}"
      ]
    },
    {
      "cell_type": "code",
      "execution_count": null,
      "metadata": {
        "id": "P3t66OCLb7r4"
      },
      "outputs": [],
      "source": [
        "dict4['firstname'] = 'Mario'"
      ]
    },
    {
      "cell_type": "code",
      "execution_count": null,
      "metadata": {
        "id": "TokZNDUlb7r4",
        "outputId": "f4997c4e-7af7-4af9-f895-9ee631789c8b"
      },
      "outputs": [
        {
          "data": {
            "text/plain": [
              "{'firstname': 'Mario', 'lastname': 'Doe', 'age': 32}"
            ]
          },
          "execution_count": 135,
          "metadata": {},
          "output_type": "execute_result"
        }
      ],
      "source": [
        "dict4"
      ]
    },
    {
      "cell_type": "markdown",
      "metadata": {
        "id": "rHRO3FF8b7r5"
      },
      "source": [
        "#### 2.3.3.2 Add New Key"
      ]
    },
    {
      "cell_type": "code",
      "execution_count": null,
      "metadata": {
        "id": "jsXtwj7_b7r5"
      },
      "outputs": [],
      "source": [
        "dict5 = {'firstname' : 'John', 'lastname' : 'Doe', 'age' : 32}"
      ]
    },
    {
      "cell_type": "code",
      "execution_count": null,
      "metadata": {
        "id": "uHI35aJWb7r5"
      },
      "outputs": [],
      "source": [
        "dict5['blood_group'] = 'O'"
      ]
    },
    {
      "cell_type": "code",
      "execution_count": null,
      "metadata": {
        "id": "cnxP97Hib7r5",
        "outputId": "76a9eaa6-e895-4d4d-db11-f96b9d653edf"
      },
      "outputs": [
        {
          "data": {
            "text/plain": [
              "{'firstname': 'John', 'lastname': 'Doe', 'age': 32, 'blood_group': 'O'}"
            ]
          },
          "execution_count": 138,
          "metadata": {},
          "output_type": "execute_result"
        }
      ],
      "source": [
        "dict5"
      ]
    },
    {
      "cell_type": "markdown",
      "metadata": {
        "id": "q1LHOFUtb7r5"
      },
      "source": [
        "#### 2.3.3.3 update"
      ]
    },
    {
      "cell_type": "code",
      "execution_count": null,
      "metadata": {
        "id": "SFov9_ogb7r5"
      },
      "outputs": [],
      "source": [
        "dict6 = {'firstname' : 'John', 'lastname' : 'Doe', 'age' : 32}"
      ]
    },
    {
      "cell_type": "code",
      "execution_count": null,
      "metadata": {
        "id": "L0bT6jzAb7r5"
      },
      "outputs": [],
      "source": [
        "dict6.update({'blood_group' : 'O', 'height' : 180})"
      ]
    },
    {
      "cell_type": "code",
      "execution_count": null,
      "metadata": {
        "id": "sEeUFV5Pb7r5",
        "outputId": "4cdf1f56-f406-4440-9348-7ac3325a164b"
      },
      "outputs": [
        {
          "data": {
            "text/plain": [
              "{'firstname': 'John',\n",
              " 'lastname': 'Doe',\n",
              " 'age': 32,\n",
              " 'blood_group': 'O',\n",
              " 'height': 180}"
            ]
          },
          "execution_count": 141,
          "metadata": {},
          "output_type": "execute_result"
        }
      ],
      "source": [
        "dict6"
      ]
    },
    {
      "cell_type": "markdown",
      "metadata": {
        "id": "x0h5xy8pb7r5"
      },
      "source": [
        "### 2.3.4 Delete Dictionary"
      ]
    },
    {
      "cell_type": "markdown",
      "metadata": {
        "id": "DjTjI5Omb7r5"
      },
      "source": [
        "#### 2.3.4.1 del"
      ]
    },
    {
      "cell_type": "code",
      "execution_count": null,
      "metadata": {
        "id": "TfhpWU4zb7r6"
      },
      "outputs": [],
      "source": [
        "dict7 = {'firstname' : 'John', 'lastname' : 'Doe', 'age' : 32}"
      ]
    },
    {
      "cell_type": "code",
      "execution_count": null,
      "metadata": {
        "id": "pkEAbbuWb7r6"
      },
      "outputs": [],
      "source": [
        "del dict7['lastname']"
      ]
    },
    {
      "cell_type": "code",
      "execution_count": null,
      "metadata": {
        "id": "GoEcq0TTb7r6",
        "outputId": "b24c6780-db38-45f5-e4a9-94a1f0da6b39"
      },
      "outputs": [
        {
          "data": {
            "text/plain": [
              "{'firstname': 'John', 'age': 32}"
            ]
          },
          "execution_count": 144,
          "metadata": {},
          "output_type": "execute_result"
        }
      ],
      "source": [
        "dict7"
      ]
    },
    {
      "cell_type": "markdown",
      "metadata": {
        "id": "y-A7oISTb7r6"
      },
      "source": [
        "#### 2.3.4.2 clear"
      ]
    },
    {
      "cell_type": "code",
      "execution_count": null,
      "metadata": {
        "id": "NpK_b_Axb7r6"
      },
      "outputs": [],
      "source": [
        "dict8 = {'firstname' : 'John', 'lastname' : 'Doe', 'age' : 32}"
      ]
    },
    {
      "cell_type": "code",
      "execution_count": null,
      "metadata": {
        "id": "6rJet_Kfb7r6"
      },
      "outputs": [],
      "source": [
        "dict8.clear()"
      ]
    },
    {
      "cell_type": "code",
      "execution_count": null,
      "metadata": {
        "id": "aO3yEmYib7r6",
        "outputId": "a2dc4fb8-f29d-41dc-c0cd-40f15d3d5dfe"
      },
      "outputs": [
        {
          "data": {
            "text/plain": [
              "{}"
            ]
          },
          "execution_count": 147,
          "metadata": {},
          "output_type": "execute_result"
        }
      ],
      "source": [
        "dict8"
      ]
    },
    {
      "cell_type": "markdown",
      "metadata": {
        "id": "fHKSSpdpb7r6"
      },
      "source": [
        "### 2.3.5 Dictionary + len"
      ]
    },
    {
      "cell_type": "code",
      "execution_count": null,
      "metadata": {
        "id": "iWo4TgtEb7r6"
      },
      "outputs": [],
      "source": [
        "dict9 = {'firstname' : 'John', 'lastname' : 'Doe', 'age' : 32}"
      ]
    },
    {
      "cell_type": "code",
      "execution_count": null,
      "metadata": {
        "id": "z8ipl35eb7r6",
        "outputId": "38fd0f89-70a1-4a23-98a8-91e97ab4151d"
      },
      "outputs": [
        {
          "data": {
            "text/plain": [
              "3"
            ]
          },
          "execution_count": 149,
          "metadata": {},
          "output_type": "execute_result"
        }
      ],
      "source": [
        "len(dict9)"
      ]
    },
    {
      "cell_type": "code",
      "execution_count": null,
      "metadata": {
        "id": "ZK8xe8bfb7r6",
        "outputId": "6721cf7e-c251-4050-c703-a3e2d0fa1317"
      },
      "outputs": [
        {
          "data": {
            "text/plain": [
              "3"
            ]
          },
          "execution_count": 150,
          "metadata": {},
          "output_type": "execute_result"
        }
      ],
      "source": [
        "len(dict9.keys())"
      ]
    },
    {
      "cell_type": "code",
      "execution_count": null,
      "metadata": {
        "id": "qdXQGZvcb7r7",
        "outputId": "758662ff-ae1c-4101-b8c1-89eacbea07f7"
      },
      "outputs": [
        {
          "data": {
            "text/plain": [
              "3"
            ]
          },
          "execution_count": 151,
          "metadata": {},
          "output_type": "execute_result"
        }
      ],
      "source": [
        "len(dict9.values())"
      ]
    },
    {
      "cell_type": "markdown",
      "metadata": {
        "id": "5z3hXR8Vb7r7"
      },
      "source": [
        "### 2.3.6 Dictionary + in"
      ]
    },
    {
      "cell_type": "code",
      "execution_count": null,
      "metadata": {
        "id": "YkgiO51Ib7r7"
      },
      "outputs": [],
      "source": [
        "dict10 = {'firstname' : 'John', 'lastname' : 'Doe', 'age' : 32}"
      ]
    },
    {
      "cell_type": "code",
      "execution_count": null,
      "metadata": {
        "id": "JYG5x5lMb7r7",
        "outputId": "b1a27517-b6d7-450c-e7aa-7b8c63eaef72"
      },
      "outputs": [
        {
          "data": {
            "text/plain": [
              "True"
            ]
          },
          "execution_count": 153,
          "metadata": {},
          "output_type": "execute_result"
        }
      ],
      "source": [
        "'firstname' in dict10"
      ]
    },
    {
      "cell_type": "code",
      "execution_count": null,
      "metadata": {
        "id": "Xu6CebTQb7r7",
        "outputId": "779f4e5b-e918-403e-f702-efe3f7188483"
      },
      "outputs": [
        {
          "data": {
            "text/plain": [
              "True"
            ]
          },
          "execution_count": 154,
          "metadata": {},
          "output_type": "execute_result"
        }
      ],
      "source": [
        "'firstname' in dict10.keys()"
      ]
    },
    {
      "cell_type": "code",
      "execution_count": null,
      "metadata": {
        "id": "5imPBegBb7r7",
        "outputId": "0870490a-4ce4-40b5-ad2c-397cbbf23e35"
      },
      "outputs": [
        {
          "data": {
            "text/plain": [
              "True"
            ]
          },
          "execution_count": 155,
          "metadata": {},
          "output_type": "execute_result"
        }
      ],
      "source": [
        "'John' in dict10.values()"
      ]
    },
    {
      "cell_type": "code",
      "execution_count": null,
      "metadata": {
        "id": "SQrYfzezb7r7"
      },
      "outputs": [],
      "source": [
        "dict10 = {'firstname' : 'John', 'lastname' : 'Doe', 'age' : 32}"
      ]
    },
    {
      "cell_type": "code",
      "execution_count": null,
      "metadata": {
        "id": "BYdAhbIWb7r7",
        "outputId": "25cbbc71-b5bb-411d-ec84-8dc072556e77"
      },
      "outputs": [
        {
          "data": {
            "text/plain": [
              "False"
            ]
          },
          "execution_count": 157,
          "metadata": {},
          "output_type": "execute_result"
        }
      ],
      "source": [
        "'weight' in dict10"
      ]
    },
    {
      "cell_type": "code",
      "execution_count": null,
      "metadata": {
        "id": "nlAZ5rkmb7r8",
        "outputId": "d40c34e5-4fdc-4059-922d-13d81021f212"
      },
      "outputs": [
        {
          "data": {
            "text/plain": [
              "False"
            ]
          },
          "execution_count": 158,
          "metadata": {},
          "output_type": "execute_result"
        }
      ],
      "source": [
        "'weight' in dict10.keys()"
      ]
    },
    {
      "cell_type": "code",
      "execution_count": null,
      "metadata": {
        "id": "2dVR4z8xb7r8",
        "outputId": "7dfdf9f8-23c3-47a6-d643-53e9823dc966"
      },
      "outputs": [
        {
          "data": {
            "text/plain": [
              "False"
            ]
          },
          "execution_count": 159,
          "metadata": {},
          "output_type": "execute_result"
        }
      ],
      "source": [
        "70 in dict10.values()"
      ]
    },
    {
      "cell_type": "markdown",
      "metadata": {
        "id": "bA0uzgzjb7r8"
      },
      "source": [
        "## 2.4 Set"
      ]
    },
    {
      "cell_type": "markdown",
      "metadata": {
        "id": "IG58RPxVb7r8"
      },
      "source": [
        "### 2.4.1 Create Set"
      ]
    },
    {
      "cell_type": "code",
      "execution_count": null,
      "metadata": {
        "id": "yuf0cEU9b7r8"
      },
      "outputs": [],
      "source": [
        "set1 = {1, 2, 3, 4, 5}\n",
        "set2 = {1, 2, 3, 'a', 'b', 'c'}"
      ]
    },
    {
      "cell_type": "code",
      "execution_count": null,
      "metadata": {
        "id": "zXYVxdqib7r8",
        "outputId": "82328e54-385c-4b61-b86c-f515e337e9db"
      },
      "outputs": [
        {
          "data": {
            "text/plain": [
              "set"
            ]
          },
          "execution_count": 161,
          "metadata": {},
          "output_type": "execute_result"
        }
      ],
      "source": [
        "type(set1)"
      ]
    },
    {
      "cell_type": "code",
      "execution_count": null,
      "metadata": {
        "id": "45ULf9kCb7r8",
        "outputId": "d6c223c6-397c-4a14-90f2-d943b12fad27"
      },
      "outputs": [
        {
          "data": {
            "text/plain": [
              "set"
            ]
          },
          "execution_count": 162,
          "metadata": {},
          "output_type": "execute_result"
        }
      ],
      "source": [
        "type(set2)"
      ]
    },
    {
      "cell_type": "markdown",
      "metadata": {
        "id": "Dn_o1D3_b7r8"
      },
      "source": [
        "### 2.4.2 Read Set"
      ]
    },
    {
      "cell_type": "code",
      "execution_count": null,
      "metadata": {
        "id": "QbGQ_dZjb7r8"
      },
      "outputs": [],
      "source": [
        "set3 = {'a', 'b', 'c', 'd', 'e'}"
      ]
    },
    {
      "cell_type": "code",
      "execution_count": null,
      "metadata": {
        "id": "v7toW5ODb7r8",
        "outputId": "6d6ee75d-efd1-43fa-d93a-dc56c107c80f"
      },
      "outputs": [
        {
          "name": "stdout",
          "output_type": "stream",
          "text": [
            "b\n",
            "c\n",
            "a\n",
            "d\n",
            "e\n"
          ]
        }
      ],
      "source": [
        "for x in set3:\n",
        "    print(x)"
      ]
    },
    {
      "cell_type": "markdown",
      "metadata": {
        "id": "se4fURphb7r8"
      },
      "source": [
        "### 2.4.3 Update Set"
      ]
    },
    {
      "cell_type": "markdown",
      "metadata": {
        "id": "ggk_9-2Jb7r9"
      },
      "source": [
        "#### 2.4.3.1 add"
      ]
    },
    {
      "cell_type": "code",
      "execution_count": null,
      "metadata": {
        "id": "cZiXqY_qb7r9"
      },
      "outputs": [],
      "source": [
        "set4 = {'a', 'b', 'c', 'd', 'e'}"
      ]
    },
    {
      "cell_type": "code",
      "execution_count": null,
      "metadata": {
        "id": "jffHWG8gb7r9"
      },
      "outputs": [],
      "source": [
        "set4.add(1)"
      ]
    },
    {
      "cell_type": "code",
      "execution_count": null,
      "metadata": {
        "id": "dTGseX4Fb7r9",
        "outputId": "f60dc2b4-64b0-4795-ac92-9dbc7cc75da1"
      },
      "outputs": [
        {
          "data": {
            "text/plain": [
              "{1, 'a', 'b', 'c', 'd', 'e'}"
            ]
          },
          "execution_count": 167,
          "metadata": {},
          "output_type": "execute_result"
        }
      ],
      "source": [
        "set4"
      ]
    },
    {
      "cell_type": "markdown",
      "metadata": {
        "id": "eMkwoPIjb7r9"
      },
      "source": [
        "#### 2.4.3.2 update"
      ]
    },
    {
      "cell_type": "code",
      "execution_count": null,
      "metadata": {
        "id": "gz7e0bQyb7r9"
      },
      "outputs": [],
      "source": [
        "set5 = {'a', 'b', 'c', 'd', 'e'}"
      ]
    },
    {
      "cell_type": "code",
      "execution_count": null,
      "metadata": {
        "id": "xKnZ_rkjb7r9"
      },
      "outputs": [],
      "source": [
        "set5.update({1, 2})"
      ]
    },
    {
      "cell_type": "code",
      "execution_count": null,
      "metadata": {
        "id": "lyl2EQeZb7r9",
        "outputId": "995611c5-fa78-4edb-de62-ab4564c567ea"
      },
      "outputs": [
        {
          "data": {
            "text/plain": [
              "{1, 2, 'a', 'b', 'c', 'd', 'e'}"
            ]
          },
          "execution_count": 170,
          "metadata": {},
          "output_type": "execute_result"
        }
      ],
      "source": [
        "set5"
      ]
    },
    {
      "cell_type": "markdown",
      "metadata": {
        "id": "4qnaRAQqb7r9"
      },
      "source": [
        "### 2.4.4 Delete Set"
      ]
    },
    {
      "cell_type": "markdown",
      "metadata": {
        "id": "WgasYF1Sb7r9"
      },
      "source": [
        "#### 2.4.4.1 Remove"
      ]
    },
    {
      "cell_type": "code",
      "execution_count": null,
      "metadata": {
        "id": "Js7v7uXKb7r9"
      },
      "outputs": [],
      "source": [
        "set6 = {'a', 'b', 'c', 'd', 'e'}"
      ]
    },
    {
      "cell_type": "code",
      "execution_count": null,
      "metadata": {
        "id": "BF1LxPKqb7r-"
      },
      "outputs": [],
      "source": [
        "set6.remove('a')"
      ]
    },
    {
      "cell_type": "code",
      "execution_count": null,
      "metadata": {
        "id": "pcJrYOrXb7r-",
        "outputId": "0998e295-e8cb-425f-e59f-1e4fd12740f8"
      },
      "outputs": [
        {
          "data": {
            "text/plain": [
              "{'b', 'c', 'd', 'e'}"
            ]
          },
          "execution_count": 173,
          "metadata": {},
          "output_type": "execute_result"
        }
      ],
      "source": [
        "set6"
      ]
    },
    {
      "cell_type": "code",
      "execution_count": null,
      "metadata": {
        "id": "A2y6XE2xb7r-"
      },
      "outputs": [],
      "source": [
        "set6.remove('c')"
      ]
    },
    {
      "cell_type": "code",
      "execution_count": null,
      "metadata": {
        "id": "vZHNLkl_b7r-",
        "outputId": "cf786a8f-1b1c-4ed7-b912-20d8913bccc8"
      },
      "outputs": [
        {
          "data": {
            "text/plain": [
              "{'b', 'd', 'e'}"
            ]
          },
          "execution_count": 175,
          "metadata": {},
          "output_type": "execute_result"
        }
      ],
      "source": [
        "set6"
      ]
    },
    {
      "cell_type": "markdown",
      "metadata": {
        "id": "8xHxrtdcb7r-"
      },
      "source": [
        "#### 2.4.4.2 clear"
      ]
    },
    {
      "cell_type": "code",
      "execution_count": null,
      "metadata": {
        "id": "d3jCnwD_b7r-"
      },
      "outputs": [],
      "source": [
        "set7 = {'a', 'b', 'c', 'd', 'e'}"
      ]
    },
    {
      "cell_type": "code",
      "execution_count": null,
      "metadata": {
        "id": "HmCe6ETpb7r-"
      },
      "outputs": [],
      "source": [
        "set7.clear()"
      ]
    },
    {
      "cell_type": "code",
      "execution_count": null,
      "metadata": {
        "id": "mB8LBid3b7r-",
        "outputId": "f77fb5bc-0d37-42d1-cd52-1e778f4e202b"
      },
      "outputs": [
        {
          "data": {
            "text/plain": [
              "set()"
            ]
          },
          "execution_count": 178,
          "metadata": {},
          "output_type": "execute_result"
        }
      ],
      "source": [
        "set7"
      ]
    },
    {
      "cell_type": "markdown",
      "metadata": {
        "id": "o8zw2J3Cb7r-"
      },
      "source": [
        "### 2.4.5 Set + len"
      ]
    },
    {
      "cell_type": "code",
      "execution_count": null,
      "metadata": {
        "id": "dZB2f6Krb7r-"
      },
      "outputs": [],
      "source": [
        "set8 = {1, 2, 3, 4, 5}"
      ]
    },
    {
      "cell_type": "code",
      "execution_count": null,
      "metadata": {
        "id": "1bZAJmk3b7r-",
        "outputId": "3a3185fd-b698-4b8e-8673-3e2c494e13ee"
      },
      "outputs": [
        {
          "data": {
            "text/plain": [
              "5"
            ]
          },
          "execution_count": 180,
          "metadata": {},
          "output_type": "execute_result"
        }
      ],
      "source": [
        "len(set8)"
      ]
    },
    {
      "cell_type": "markdown",
      "metadata": {
        "id": "VzTdfPx5b7r_"
      },
      "source": [
        "### 2.4.6 Set + in"
      ]
    },
    {
      "cell_type": "code",
      "execution_count": null,
      "metadata": {
        "id": "QT8EcuxXb7r_"
      },
      "outputs": [],
      "source": [
        "set9 = {1, 2, 3, 4, 5}"
      ]
    },
    {
      "cell_type": "code",
      "execution_count": null,
      "metadata": {
        "id": "SswFOhKEb7r_",
        "outputId": "9c3da79f-8344-4a49-846e-d4afe795743a"
      },
      "outputs": [
        {
          "data": {
            "text/plain": [
              "True"
            ]
          },
          "execution_count": 182,
          "metadata": {},
          "output_type": "execute_result"
        }
      ],
      "source": [
        "1 in set9"
      ]
    },
    {
      "cell_type": "code",
      "execution_count": null,
      "metadata": {
        "id": "Qe2p5v76b7r_",
        "outputId": "36c81559-600b-475d-b5d0-4a781bc9a637"
      },
      "outputs": [
        {
          "data": {
            "text/plain": [
              "False"
            ]
          },
          "execution_count": 183,
          "metadata": {},
          "output_type": "execute_result"
        }
      ],
      "source": [
        "'a' in set9"
      ]
    },
    {
      "cell_type": "markdown",
      "metadata": {
        "id": "tUHODbAPb7r_"
      },
      "source": [
        "### 2.4.7 Set + Union"
      ]
    },
    {
      "cell_type": "code",
      "execution_count": null,
      "metadata": {
        "id": "0hehnVyLb7r_"
      },
      "outputs": [],
      "source": [
        "setA = {1, 2, 3, 4, 5}\n",
        "setB = {3, 4, 5, 6, 7}"
      ]
    },
    {
      "cell_type": "code",
      "execution_count": null,
      "metadata": {
        "id": "U35NEqSZb7r_",
        "outputId": "418caf69-d48b-43bb-9ff1-944037bc180a"
      },
      "outputs": [
        {
          "data": {
            "text/plain": [
              "{1, 2, 3, 4, 5, 6, 7}"
            ]
          },
          "execution_count": 185,
          "metadata": {},
          "output_type": "execute_result"
        }
      ],
      "source": [
        "setA | setB"
      ]
    },
    {
      "cell_type": "markdown",
      "metadata": {
        "id": "KaoN7gJib7r_"
      },
      "source": [
        "### 2.4.8 Set + Intersection"
      ]
    },
    {
      "cell_type": "code",
      "execution_count": null,
      "metadata": {
        "id": "r5GanGATb7r_"
      },
      "outputs": [],
      "source": [
        "setA = {1, 2, 3, 4, 5}\n",
        "setB = {3, 4, 5, 6, 7}"
      ]
    },
    {
      "cell_type": "code",
      "execution_count": null,
      "metadata": {
        "id": "Zk9amyLib7r_",
        "outputId": "e4a5ff55-7ae5-45f0-c8d4-d98e23977cdf"
      },
      "outputs": [
        {
          "data": {
            "text/plain": [
              "{3, 4, 5}"
            ]
          },
          "execution_count": 187,
          "metadata": {},
          "output_type": "execute_result"
        }
      ],
      "source": [
        "setA & setB"
      ]
    },
    {
      "cell_type": "markdown",
      "metadata": {
        "id": "lm7Jjrlxb7sA"
      },
      "source": [
        "### 2.4.9 Set + Difference"
      ]
    },
    {
      "cell_type": "code",
      "execution_count": null,
      "metadata": {
        "id": "dpMNs6xLb7sA"
      },
      "outputs": [],
      "source": [
        "setA = {1, 2, 3, 4, 5}\n",
        "setB = {3, 4, 5, 6, 7}"
      ]
    },
    {
      "cell_type": "code",
      "execution_count": null,
      "metadata": {
        "id": "MoaZp0Rzb7sA",
        "outputId": "93a5c35c-4354-4c96-f74b-fdab96506648"
      },
      "outputs": [
        {
          "data": {
            "text/plain": [
              "{1, 2}"
            ]
          },
          "execution_count": 189,
          "metadata": {},
          "output_type": "execute_result"
        }
      ],
      "source": [
        "setA - setB"
      ]
    },
    {
      "cell_type": "code",
      "execution_count": null,
      "metadata": {
        "id": "-4Hik2Ptb7sA",
        "outputId": "92a697ad-cd8e-4802-da49-d37af3ba2bd2"
      },
      "outputs": [
        {
          "data": {
            "text/plain": [
              "{6, 7}"
            ]
          },
          "execution_count": 190,
          "metadata": {},
          "output_type": "execute_result"
        }
      ],
      "source": [
        "setB - setA"
      ]
    },
    {
      "cell_type": "markdown",
      "metadata": {
        "id": "zbFonbRyb7sA"
      },
      "source": [
        "### 2.4.10 Set + Symmetric Difference"
      ]
    },
    {
      "cell_type": "code",
      "execution_count": null,
      "metadata": {
        "id": "b0Vfyv0Gb7sA"
      },
      "outputs": [],
      "source": [
        "setA = {1, 2, 3, 4, 5}\n",
        "setB = {3, 4, 5, 6, 7}"
      ]
    },
    {
      "cell_type": "code",
      "execution_count": null,
      "metadata": {
        "id": "D3MfVMA5b7sA",
        "outputId": "b4438293-567d-45cc-b787-67ce9a7f463f"
      },
      "outputs": [
        {
          "data": {
            "text/plain": [
              "{1, 2, 6, 7}"
            ]
          },
          "execution_count": 192,
          "metadata": {},
          "output_type": "execute_result"
        }
      ],
      "source": [
        "setA ^ setB"
      ]
    }
  ],
  "metadata": {
    "kernelspec": {
      "display_name": "Python 3",
      "language": "python",
      "name": "python3"
    },
    "language_info": {
      "codemirror_mode": {
        "name": "ipython",
        "version": 3
      },
      "file_extension": ".py",
      "mimetype": "text/x-python",
      "name": "python",
      "nbconvert_exporter": "python",
      "pygments_lexer": "ipython3",
      "version": "3.7.3"
    },
    "colab": {
      "provenance": [],
      "include_colab_link": true
    }
  },
  "nbformat": 4,
  "nbformat_minor": 0
}