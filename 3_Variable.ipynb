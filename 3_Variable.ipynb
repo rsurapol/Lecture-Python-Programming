{
  "cells": [
    {
      "cell_type": "markdown",
      "metadata": {
        "id": "view-in-github",
        "colab_type": "text"
      },
      "source": [
        "<a href=\"https://colab.research.google.com/github/rsurapol/Lecture-Python-Programming/blob/main/3_Variable.ipynb\" target=\"_parent\"><img src=\"https://colab.research.google.com/assets/colab-badge.svg\" alt=\"Open In Colab\"/></a>"
      ]
    },
    {
      "cell_type": "markdown",
      "metadata": {
        "id": "93p6KpQlby2n"
      },
      "source": [
        "## 1 Create & Assign"
      ]
    },
    {
      "cell_type": "code",
      "execution_count": null,
      "metadata": {
        "id": "2nyIZXAqby2r"
      },
      "outputs": [],
      "source": [
        "firstname = 'John'"
      ]
    },
    {
      "cell_type": "code",
      "execution_count": null,
      "metadata": {
        "id": "oXjY-IE5by2s"
      },
      "outputs": [],
      "source": [
        "lastname = 'Doe'"
      ]
    },
    {
      "cell_type": "code",
      "execution_count": null,
      "metadata": {
        "id": "1g-ZUyb3by2s"
      },
      "outputs": [],
      "source": [
        "age = \"I'm 32 years old\""
      ]
    },
    {
      "cell_type": "code",
      "execution_count": null,
      "metadata": {
        "id": "hsBwfYvSby2s",
        "outputId": "742eafd9-fbff-4d94-8477-2bc7807342de"
      },
      "outputs": [
        {
          "name": "stdout",
          "output_type": "stream",
          "text": [
            "My firstname is John\n",
            "My lastname is Doe\n",
            "I'm 32 years old\n"
          ]
        }
      ],
      "source": [
        "print('My firstname is', firstname)\n",
        "print('My lastname is', lastname)\n",
        "print(age)"
      ]
    },
    {
      "cell_type": "code",
      "execution_count": null,
      "metadata": {
        "id": "IUNHv6miby2t"
      },
      "outputs": [],
      "source": [
        "a = 5"
      ]
    },
    {
      "cell_type": "code",
      "execution_count": null,
      "metadata": {
        "id": "sZHvNjpGby2t"
      },
      "outputs": [],
      "source": [
        "b = 7"
      ]
    },
    {
      "cell_type": "code",
      "execution_count": null,
      "metadata": {
        "id": "fnQhJc26by2u",
        "outputId": "467e9d13-4c59-462e-b6f7-df787fca66bd"
      },
      "outputs": [
        {
          "name": "stdout",
          "output_type": "stream",
          "text": [
            "a = 5\n",
            "b = 7\n",
            "a + b = 12\n"
          ]
        }
      ],
      "source": [
        "print('a =', a)\n",
        "print('b =', b)\n",
        "print('a + b =', a + b)"
      ]
    },
    {
      "cell_type": "markdown",
      "metadata": {
        "id": "kmsmEo7Xby2u"
      },
      "source": [
        "## 2 Create Multiple Variable"
      ]
    },
    {
      "cell_type": "code",
      "execution_count": null,
      "metadata": {
        "id": "qsgY2HMgby2u"
      },
      "outputs": [],
      "source": [
        "c = d = e = 5"
      ]
    },
    {
      "cell_type": "code",
      "execution_count": null,
      "metadata": {
        "id": "aqhAoa3Tby2v",
        "outputId": "a6291a85-dfb6-4f7b-9543-9f38e118ac7e"
      },
      "outputs": [
        {
          "name": "stdout",
          "output_type": "stream",
          "text": [
            "c = 5\n",
            "d = 5\n",
            "e = 5\n"
          ]
        }
      ],
      "source": [
        "print('c =', c)\n",
        "print('d =', d)\n",
        "print('e =', e)"
      ]
    },
    {
      "cell_type": "code",
      "execution_count": null,
      "metadata": {
        "id": "4NO4rxiGby2v"
      },
      "outputs": [],
      "source": [
        "f = 6; g = 7; h = 8;"
      ]
    },
    {
      "cell_type": "code",
      "execution_count": null,
      "metadata": {
        "id": "lKrbGPtmby2v",
        "outputId": "1a8a6ee4-11b4-4549-d145-004a7b626991"
      },
      "outputs": [
        {
          "name": "stdout",
          "output_type": "stream",
          "text": [
            "f = 6\n",
            "g = 7\n",
            "h = 8\n"
          ]
        }
      ],
      "source": [
        "print('f =', f)\n",
        "print('g =', g)\n",
        "print('h =', h)"
      ]
    },
    {
      "cell_type": "markdown",
      "metadata": {
        "id": "RYVy8fR3by2v"
      },
      "source": [
        "## 3 Identifier"
      ]
    },
    {
      "cell_type": "markdown",
      "metadata": {
        "id": "iogYy0fvby2w"
      },
      "source": [
        "### 3.1 Character & Underscore First"
      ]
    },
    {
      "cell_type": "code",
      "execution_count": null,
      "metadata": {
        "id": "zPJsIb20by2w"
      },
      "outputs": [],
      "source": [
        "a1 = 5"
      ]
    },
    {
      "cell_type": "code",
      "execution_count": null,
      "metadata": {
        "id": "bndija5Mby2w",
        "outputId": "f09095c2-3daa-4ec2-aa1d-cb1f1e07b24c"
      },
      "outputs": [
        {
          "name": "stdout",
          "output_type": "stream",
          "text": [
            "a1 = 5\n"
          ]
        }
      ],
      "source": [
        "print('a1 =', a1)"
      ]
    },
    {
      "cell_type": "code",
      "execution_count": null,
      "metadata": {
        "id": "4z1PSwORby2w"
      },
      "outputs": [],
      "source": [
        "_a = 7"
      ]
    },
    {
      "cell_type": "code",
      "execution_count": null,
      "metadata": {
        "id": "miDN-7Kdby2w",
        "outputId": "209f90bc-1304-43c6-92c4-0fc638e271bd"
      },
      "outputs": [
        {
          "name": "stdout",
          "output_type": "stream",
          "text": [
            "_a = 7\n"
          ]
        }
      ],
      "source": [
        "print('_a =', _a)"
      ]
    },
    {
      "cell_type": "code",
      "execution_count": null,
      "metadata": {
        "id": "9NFZ1Mynby2w",
        "outputId": "30b3ba54-13f7-47bf-b533-f1530bd9e2e0"
      },
      "outputs": [
        {
          "ename": "SyntaxError",
          "evalue": "invalid syntax (<ipython-input-16-ce2af4c14e7e>, line 1)",
          "output_type": "error",
          "traceback": [
            "\u001b[0;36m  File \u001b[0;32m\"<ipython-input-16-ce2af4c14e7e>\"\u001b[0;36m, line \u001b[0;32m1\u001b[0m\n\u001b[0;31m    1a = 5\u001b[0m\n\u001b[0m     ^\u001b[0m\n\u001b[0;31mSyntaxError\u001b[0m\u001b[0;31m:\u001b[0m invalid syntax\n"
          ]
        }
      ],
      "source": [
        "1a = 5"
      ]
    },
    {
      "cell_type": "code",
      "execution_count": null,
      "metadata": {
        "id": "W629KYBZby2x",
        "outputId": "4b5bfc13-5f76-43d6-beba-dd0b6051aeb4"
      },
      "outputs": [
        {
          "ename": "SyntaxError",
          "evalue": "invalid syntax (<ipython-input-17-c7219bffa8d3>, line 1)",
          "output_type": "error",
          "traceback": [
            "\u001b[0;36m  File \u001b[0;32m\"<ipython-input-17-c7219bffa8d3>\"\u001b[0;36m, line \u001b[0;32m1\u001b[0m\n\u001b[0;31m    3x = 7\u001b[0m\n\u001b[0m     ^\u001b[0m\n\u001b[0;31mSyntaxError\u001b[0m\u001b[0;31m:\u001b[0m invalid syntax\n"
          ]
        }
      ],
      "source": [
        "3x = 7"
      ]
    },
    {
      "cell_type": "markdown",
      "metadata": {
        "id": "hmDjNepYby2x"
      },
      "source": [
        "### 3.2 Case Sensitive"
      ]
    },
    {
      "cell_type": "code",
      "execution_count": null,
      "metadata": {
        "id": "rKY79Q91by2x"
      },
      "outputs": [],
      "source": [
        "a = 5\n",
        "b = 7"
      ]
    },
    {
      "cell_type": "code",
      "execution_count": null,
      "metadata": {
        "id": "FMoUBcZGby2x"
      },
      "outputs": [],
      "source": [
        "A = 10\n",
        "B = 14"
      ]
    },
    {
      "cell_type": "code",
      "execution_count": null,
      "metadata": {
        "id": "P44-iL9nby2x",
        "outputId": "1ee836e8-6151-4f56-9096-1bdf9511af59"
      },
      "outputs": [
        {
          "name": "stdout",
          "output_type": "stream",
          "text": [
            "a = 5\n",
            "b = 7\n",
            "A = 10\n",
            "B = 14\n"
          ]
        }
      ],
      "source": [
        "print('a =', a)\n",
        "print('b =', b)\n",
        "print('A =', A)\n",
        "print('B =', B)"
      ]
    },
    {
      "cell_type": "markdown",
      "metadata": {
        "id": "yXKghK7Kby2y"
      },
      "source": [
        "### 3.3 No Special Character"
      ]
    },
    {
      "cell_type": "code",
      "execution_count": null,
      "metadata": {
        "id": "nWISsr6Sby2y",
        "outputId": "1913159e-f3c4-4064-a091-005d8a215398"
      },
      "outputs": [
        {
          "ename": "SyntaxError",
          "evalue": "invalid syntax (<ipython-input-21-81e2e827bf95>, line 1)",
          "output_type": "error",
          "traceback": [
            "\u001b[0;36m  File \u001b[0;32m\"<ipython-input-21-81e2e827bf95>\"\u001b[0;36m, line \u001b[0;32m1\u001b[0m\n\u001b[0;31m    c$d = 7\u001b[0m\n\u001b[0m     ^\u001b[0m\n\u001b[0;31mSyntaxError\u001b[0m\u001b[0;31m:\u001b[0m invalid syntax\n"
          ]
        }
      ],
      "source": [
        "c$d = 7"
      ]
    },
    {
      "cell_type": "code",
      "execution_count": null,
      "metadata": {
        "id": "FXvfISbMby2y",
        "outputId": "8a93c381-2f0e-4f7c-b2d0-b79d46c9670f"
      },
      "outputs": [
        {
          "ename": "AttributeError",
          "evalue": "'int' object has no attribute 'd'",
          "output_type": "error",
          "traceback": [
            "\u001b[0;31m---------------------------------------------------------------------------\u001b[0m",
            "\u001b[0;31mAttributeError\u001b[0m                            Traceback (most recent call last)",
            "\u001b[0;32m<ipython-input-22-56b67979db83>\u001b[0m in \u001b[0;36m<module>\u001b[0;34m\u001b[0m\n\u001b[0;32m----> 1\u001b[0;31m \u001b[0mc\u001b[0m\u001b[0;34m.\u001b[0m\u001b[0md\u001b[0m \u001b[0;34m=\u001b[0m \u001b[0;36m8\u001b[0m\u001b[0;34m\u001b[0m\u001b[0;34m\u001b[0m\u001b[0m\n\u001b[0m",
            "\u001b[0;31mAttributeError\u001b[0m: 'int' object has no attribute 'd'"
          ]
        }
      ],
      "source": [
        "c.d = 8"
      ]
    },
    {
      "cell_type": "code",
      "execution_count": null,
      "metadata": {
        "id": "Sa_y6Uyeby2y",
        "outputId": "e08e02a5-05f2-4d84-9486-be2db7943cbc"
      },
      "outputs": [
        {
          "ename": "SyntaxError",
          "evalue": "invalid syntax (<ipython-input-23-757563a21641>, line 1)",
          "output_type": "error",
          "traceback": [
            "\u001b[0;36m  File \u001b[0;32m\"<ipython-input-23-757563a21641>\"\u001b[0;36m, line \u001b[0;32m1\u001b[0m\n\u001b[0;31m    c d = 9\u001b[0m\n\u001b[0m      ^\u001b[0m\n\u001b[0;31mSyntaxError\u001b[0m\u001b[0;31m:\u001b[0m invalid syntax\n"
          ]
        }
      ],
      "source": [
        "c d = 9"
      ]
    },
    {
      "cell_type": "markdown",
      "metadata": {
        "id": "oxm70JUVby2y"
      },
      "source": [
        "### 3.4 Reserved Word"
      ]
    },
    {
      "cell_type": "code",
      "execution_count": null,
      "metadata": {
        "id": "26Ilf40tby2y",
        "outputId": "c0d9066e-a658-4ab1-8e1d-b126096cdad8"
      },
      "outputs": [
        {
          "ename": "SyntaxError",
          "evalue": "invalid syntax (<ipython-input-24-1a9bb92cc795>, line 1)",
          "output_type": "error",
          "traceback": [
            "\u001b[0;36m  File \u001b[0;32m\"<ipython-input-24-1a9bb92cc795>\"\u001b[0;36m, line \u001b[0;32m1\u001b[0m\n\u001b[0;31m    if = 5\u001b[0m\n\u001b[0m       ^\u001b[0m\n\u001b[0;31mSyntaxError\u001b[0m\u001b[0;31m:\u001b[0m invalid syntax\n"
          ]
        }
      ],
      "source": [
        "if = 5"
      ]
    },
    {
      "cell_type": "code",
      "execution_count": null,
      "metadata": {
        "id": "0dsx97xKby2y",
        "outputId": "47900cde-5cbc-4660-d62f-f98062a210e3"
      },
      "outputs": [
        {
          "ename": "SyntaxError",
          "evalue": "invalid syntax (<ipython-input-25-597287a2d762>, line 1)",
          "output_type": "error",
          "traceback": [
            "\u001b[0;36m  File \u001b[0;32m\"<ipython-input-25-597287a2d762>\"\u001b[0;36m, line \u001b[0;32m1\u001b[0m\n\u001b[0;31m    for = 10\u001b[0m\n\u001b[0m        ^\u001b[0m\n\u001b[0;31mSyntaxError\u001b[0m\u001b[0;31m:\u001b[0m invalid syntax\n"
          ]
        }
      ],
      "source": [
        "for = 10"
      ]
    },
    {
      "cell_type": "code",
      "execution_count": null,
      "metadata": {
        "id": "aI5tHWOgby2z",
        "outputId": "58dde1ac-550b-4520-a6b4-ec1e0eb5ad83"
      },
      "outputs": [
        {
          "ename": "SyntaxError",
          "evalue": "invalid syntax (<ipython-input-26-f23a0aa76da8>, line 1)",
          "output_type": "error",
          "traceback": [
            "\u001b[0;36m  File \u001b[0;32m\"<ipython-input-26-f23a0aa76da8>\"\u001b[0;36m, line \u001b[0;32m1\u001b[0m\n\u001b[0;31m    del = 15\u001b[0m\n\u001b[0m        ^\u001b[0m\n\u001b[0;31mSyntaxError\u001b[0m\u001b[0;31m:\u001b[0m invalid syntax\n"
          ]
        }
      ],
      "source": [
        "del = 15"
      ]
    }
  ],
  "metadata": {
    "kernelspec": {
      "display_name": "Python 3",
      "language": "python",
      "name": "python3"
    },
    "language_info": {
      "codemirror_mode": {
        "name": "ipython",
        "version": 3
      },
      "file_extension": ".py",
      "mimetype": "text/x-python",
      "name": "python",
      "nbconvert_exporter": "python",
      "pygments_lexer": "ipython3",
      "version": "3.7.3"
    },
    "colab": {
      "provenance": [],
      "include_colab_link": true
    }
  },
  "nbformat": 4,
  "nbformat_minor": 0
}