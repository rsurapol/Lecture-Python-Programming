{
  "nbformat": 4,
  "nbformat_minor": 0,
  "metadata": {
    "colab": {
      "provenance": [],
      "include_colab_link": true
    },
    "kernelspec": {
      "name": "python3",
      "display_name": "Python 3"
    }
  },
  "cells": [
    {
      "cell_type": "markdown",
      "metadata": {
        "id": "view-in-github",
        "colab_type": "text"
      },
      "source": [
        "<a href=\"https://colab.research.google.com/github/rsurapol/Lecture-Python-Programming/blob/main/6_%E0%B8%84%E0%B8%B3%E0%B8%AA%E0%B8%B1%E0%B9%88%E0%B8%87%E0%B9%80%E0%B8%A5%E0%B8%B7%E0%B8%AD%E0%B8%81%E0%B9%80%E0%B8%87%E0%B8%B7%E0%B9%88%E0%B8%AD%E0%B8%99%E0%B9%84%E0%B8%82.ipynb\" target=\"_parent\"><img src=\"https://colab.research.google.com/assets/colab-badge.svg\" alt=\"Open In Colab\"/></a>"
      ]
    },
    {
      "cell_type": "markdown",
      "metadata": {
        "id": "3ccdln71k4GH"
      },
      "source": [
        "#คำสั่งเลือกเงื่อนไข\n",
        "\n",
        "ในบทนี้ คุณจะได้เรียนเกี่ยวกับคำสั่งเลือกเงื่อนไขในภาษา Python เราจะพูดถึงการควบคุมการทำงานโปรแกรมด้วยคำสั่ง if, if else และ elif เพื่อให้โปรแกรมสามารถทำงานซับซ้อนและมีประสิทธิภาพมากขึ้น ยกตัวอย่างเช่น เครื่องปรับอากาศจะทำงานอัตโนมัติถ้าหากอุณหภูมิในห้องสูงหรือต่ำเกินไป หรือรถยนต์จะแสดงสัญญาณเตือนหากน้ำมันกำใกล้จะหมด เป็นต้น ซึ่งทั้งหมดนี้เกิดการกำหนดเงื่อนไขการทำงานให้โปรแกรม มาเริ่มกับคำสั่ง if ในภาษา Python"
      ]
    },
    {
      "cell_type": "markdown",
      "metadata": {
        "id": "27QdrTYBlE6X"
      },
      "source": [
        "## คำสั่ง if\n",
        "\n",
        "คำสั่ง if เป็นคำสั่งที่ใช้ควบคุมการทำงานของโปรแกรมที่เป็นพื้นฐานและง่ายที่สุด เราใช้คำสั่ง if เพื่อสร้างเงื่อนไขให้โปรแกรมทำงานตามที่เราต้องการเมื่อเงื่อนไขนั้นตรงกับที่เรากำหนด เช่น การตรวจสอบค่าในตัวแปรกับตัวดำเนินการประเภทต่างๆ นี่เป็นรูปแบบของการใช้งานคำสั่ง if ในภาษา Python\n",
        "\n",
        "\n",
        "```\n",
        "if expression:\n",
        "    # statements\n",
        "```\n",
        "\n",
        "ในตัวอย่าง เป็นรูปแบบของการใช้งานคำสั่ง if และ expression เป็นเงื่อนไขที่สร้างจากตัวดำเนินการประเภทต่างๆ ที่เป็น boolean expression โดยโปรแกรมจะทำงานในบล็อคคำสั่ง if ถ้าหากเงื่อนไขเป็น True ไม่เช่นนั้นโปรแกรมจะข้ามการทำงานไป ในบล็อคของคำสั่ง if จะประกอบไปด้วยคำสั่งการทำงานของโปรแกรม คำสั่งทั้งหมดในบล็อคต้องมีระยะเว้นช่องว่างที่เท่ากัน ต่อไปมาดูตัวอย่างการใช้งานคำสั่ง if ในภาษา Python\n",
        "\n"
      ]
    },
    {
      "cell_type": "code",
      "metadata": {
        "id": "Otg2lGewk3LU",
        "outputId": "0bc17661-c034-46f0-8254-1feb2ca0868d",
        "colab": {
          "base_uri": "https://localhost:8080/",
          "height": 68
        }
      },
      "source": [
        "n = 10\n",
        "if n == 10:\n",
        "  print('n equal to 10')\n",
        "\n",
        "logged_in = False\n",
        "if not logged_in:\n",
        "    print('You must login to continue')\n",
        "\n",
        "m = 4\n",
        "if m % 2 == 0 and m > 0:\n",
        "    print('m is even and positive numbers')\n",
        "\n",
        "if 3 > 10:\n",
        "  print('This block isn\\'t executed')"
      ],
      "execution_count": null,
      "outputs": [
        {
          "output_type": "stream",
          "text": [
            "n equal to 10\n",
            "You must login to continue\n",
            "m is even and positive numbers\n"
          ],
          "name": "stdout"
        }
      ]
    },
    {
      "cell_type": "markdown",
      "metadata": {
        "id": "cRxPOQWtlRtt"
      },
      "source": [
        "ในตัวอย่าง เป็นการใช้งานคำสั่ง if เพื่อกำหนดให้โปรแกรมทำงานตามเงื่อนไขต่างๆ ในบล็อคแรกเป็นการตรวจสอบค่าในตัวแปร n ว่าเท่ากับ 10 หรือไม่ เนื่องจากค่าในตัวแปรนั้นเท่ากับ 10 ทำให้เงื่อนเป็นจริง และโปรแกรมทำงานในบล็อคของคำสั่ง if และต่อมาเรามีตัวแปร boolean logged_in เก็บค่าสถานะการเข้าสู่ระบบ เราได้ทำการตรวจสอบโดยการใช้ตัวดำเนินการ not สำหรับตรวจสอบว่าถ้าหากผู้ใช้ไม่เข้าสู่ระบบ จะแสดงข้อความบอกว่าต้องเข้าระบบก่อนที่จะใช้งาน\n",
        "\n",
        "ต่อมาเป็นการตรวจสอบค่าในตัวแปร m ว่าเป็นทั้งจำนวนเต็มบวกและจำนวนคู่หรือไม่ เราได้ใช้ตัวดำเนินการ and เพื่อเชื่อม expression ย่อยทั้งสอง และเงื่อนไขเป็นจริงทำให้ในบล็อคคำสั่ง if ทำงาน สุดท้ายเป็นเปรียบเทียบค่าของตัวเลข เราได้เปรียบว่า 3 มากกว่า 10 หรือไม่ เนื่องจากเงื่อนไขเป็น False ทำให้โปรแกรมข้ามการทำงานบล็อคนี้ไป\n",
        "\n",
        "\n",
        "```\n",
        "n equal to 10\n",
        "You must login to post\n",
        "m is even and positive numbers\n",
        "```\n",
        "นี่เป็นผลลัพธ์การทำงานของโปรแกรม คุณจะเห็นว่าในสามบล็อคแรกของคำสั่ง if นั้นทำงานเพราะว่าเงื่อนไขเป็นจริงหรือ True และในบล็อคสุดท้ายไม่ทำงานเพราะเงื่อนไขไม่เป็นจริงหรือ False\n"
      ]
    },
    {
      "cell_type": "markdown",
      "metadata": {
        "id": "ZVITlkyOlaf-"
      },
      "source": [
        "## คำสั่ง if else\n",
        "\n",
        "หลังจากที่คุณได้รู้จักกับคำสั่ง if ไปแล้ว อีกคำสั่งหนึ่งที่ทำงานควบคู่กับคำสั่ง if คือคำสั่ง else clause โดยโปรแกรมจะทำงานในคำสั่ง else ถ้าหากเงื่อนไขในคำสั่ง if นั้นไม่เป็นจริง กล่าวอีกนัยหนึ่ง มันจะทำงานเมื่อเงื่อนไขก่อนหน้านั้นไม่เป็นจริงหรือเป็นเงื่อนไข Default มาดูตัวอย่างการใช้งาน if else ในภาษา Python"
      ]
    },
    {
      "cell_type": "code",
      "metadata": {
        "id": "mjnw-m9Fle9z",
        "outputId": "00858b08-42f2-4622-d7d5-7203835d71dc",
        "colab": {
          "base_uri": "https://localhost:8080/",
          "height": 69
        }
      },
      "source": [
        "n = 5\n",
        "if n == 10:\n",
        "    print('n equal to 10')\n",
        "else:\n",
        "    print('n is something else except 10')\n",
        "\n",
        "name = 'James'\n",
        "if name == 'Mateo':\n",
        "    print('Hi, Mateo.')\n",
        "else:\n",
        "    print('Who are you?') \n",
        "\n",
        "money = 300\n",
        "if money >= 350:\n",
        "    print('You can buy an iPad')\n",
        "else:\n",
        "    print('You don\\'t have enough money to buy an iPad')"
      ],
      "execution_count": null,
      "outputs": [
        {
          "output_type": "stream",
          "text": [
            "n is something else except 10\n",
            "Who are you?\n",
            "You don't have enough money to buy an iPad\n"
          ],
          "name": "stdout"
        }
      ]
    },
    {
      "cell_type": "markdown",
      "metadata": {
        "id": "QQj6dQN-lf38"
      },
      "source": [
        "ในตัวอย่าง เป็นโปรแกรมเพื่อทดสอบการทำงานของคำสั่ง else เราได้เพิ่มบล็อคของคำสั่ง else เข้ามาหลังจากคำสั่ง if ซึ่งโค้ดในบล็อคของคำสัง else จะทำงาน ถ้าหากเงื่อนไขใน if ไม่เป็นจริง นั่นหมายถึงโปรแกรมของเราสามารถทำงานได้เพียงหนึ่งทางเลือกเท่านั้น\n",
        "\n",
        "ในการตรวจสอบครั้งแรก เป็นการตรวจสอบค่าในตัวแปร n ว่าเท่ากับ 10 หรือไม่ เพราะว่าค่าในตัวแปรนั้นเป็น 5 ทำให้เงื่อนไขไม่เป็นจริง และโปรแกรมทำงานในบล็อคคำสั่ง else แทน ต่อมาเป็นการตรวจสอบชื่อในตัวแปร name ว่าเป็น_\"Mateo\"หรือไม่ เพราะว่าค่าในตัวแปรนั้นเป็น \"James\"_ ทำให้โปรแกรมทำงานในบล็อคคำสั่ง else และสุดท้ายนั้นเราตรวจสอบว่าหากมีเงินในตัวแปร money มากกว่าหรือเท่ากับ 350 จะได้ซื้อ iPad เพราะว่าเงินไม่พอ โปรแกรมจึงบอกว่าเงินไม่พอที่จะซื้อ\n",
        "\n",
        "\n",
        "```\n",
        "n is something else except 10\n",
        "Who are you?\n",
        "You don't have enough money to buy an iPad\n",
        "```\n",
        "นี่เป็นผลลัพธ์การทำงานของโปรแกรมซึ่งจะทำงานในบล็อคของคำสั่ง else ทั้งหมดเพราะเงื่อนไขไม่เป็นจริงทั้งหมด\n"
      ]
    },
    {
      "cell_type": "markdown",
      "metadata": {
        "id": "mDomvJEgloat"
      },
      "source": [
        "## คำสั่ง if elif\n",
        "\n",
        "คำสั่ง elif นั้นเป็นคำสั่งที่ใช้สำหรับสร้างเงื่อนไขแบบหลายทางเลือกให้กับโปรแกรมที่มีการทำงานเช่นเดียวกับ switch case ในภาษาอื่นๆ คำสั่ง elif นั้นต้องใช้หลังจากคำสั่ง if เสมอและสามารถมี else ได้ในเงื่อนไขสุดท้าย มาดูตัวอย่างการใช้งานคำสั่ง elif ในภาษา Python"
      ]
    },
    {
      "cell_type": "code",
      "metadata": {
        "id": "bRwAetHXlvK0",
        "outputId": "66f10e08-c935-40d4-e9da-0d6e038cb417",
        "colab": {
          "base_uri": "https://localhost:8080/",
          "height": 68
        }
      },
      "source": [
        "print('Welcome to marcuscode\\'s game')\n",
        "level = input('Enter level (1 - 4): ')\n",
        "\n",
        "if level == '1':\n",
        "    print('Easy')\n",
        "elif level == '2':\n",
        "    print('Medium')\n",
        "elif level == '3':\n",
        "    print('Hard')\n",
        "elif level == '4':\n",
        "    print('Expert')\n",
        "else:\n",
        "    print('Invalid level selected')"
      ],
      "execution_count": null,
      "outputs": [
        {
          "output_type": "stream",
          "text": [
            "Welcome to marcuscode's game\n",
            "Enter level (1 - 4): 1\n",
            "Easy\n"
          ],
          "name": "stdout"
        }
      ]
    },
    {
      "cell_type": "code",
      "metadata": {
        "id": "0Cbw0oc5TewZ",
        "outputId": "c3c64cf5-ed0a-4037-d256-23de30722774",
        "colab": {
          "base_uri": "https://localhost:8080/",
          "height": 68
        }
      },
      "source": [
        "print('โปรแกรมตัดเกรด')\n",
        "คะแนน = int(input('ป้อนคะแนน (1 - 100): '))\n",
        "\n",
        "if คะแนน >= 80 and คะแนน <=100:\n",
        "    print('คุณได้เกรด A')\n",
        "elif คะแนน > 69:\n",
        "    print('คุณได้เกรด B')\n",
        "elif คะแนน > 59:\n",
        "    print('คุณได้เกรด C')\n",
        "elif คะแนน > 49:\n",
        "    print('คุณได้เกรด D')\n",
        "else:\n",
        "    print('เสียใจด้วยคุณได้เกรด F')"
      ],
      "execution_count": null,
      "outputs": [
        {
          "output_type": "stream",
          "text": [
            "โปรแกรมตัดเกรด\n",
            "ป้อนคะแนน (1 - 100): 59\n",
            "คุณได้เกรด C\n"
          ],
          "name": "stdout"
        }
      ]
    },
    {
      "cell_type": "markdown",
      "metadata": {
        "id": "yvrqnOHMlwfM"
      },
      "source": [
        "ในตัวอย่าง เป็นโปรแกรมจำลองในการเลือกโหมดของการเล่นเกม เราได้ให้ผู้ใช้กรอกค่าระหว่าง 1 -4 เพื่อใช้ในการเปรียบเทียบกับระดับความยากของเกม โดยที่ 1 เป็นระดับที่ง่ายที่สุด และ 4 นั้นเป็นระดับที่ยากที่สุด คุณจะเห็นว่าเราได้ให้คำสั่ง elif เพราะเรามีเงื่อนไข 4 แบบ และคำสั่ง else ในการณีที่ตัวเลขที่ผู้เล่นกรอกเข้ามานั้นไม่ตรงกับเงื่อนไขใดๆ ก่อนหน้าเลย\n",
        "\n",
        "\n",
        "```\n",
        "Welcome to marcuscode's game\n",
        "Enter level (1 - 4): 4\n",
        "Expert\n",
        "```\n",
        "\n",
        "\n",
        "```\n",
        "Welcome to marcuscode's game\n",
        "Enter level (1 - 4): 7\n",
        "Invalid level selected\n",
        "```\n",
        "นี่เป็นผลลัพธ์การทำงานของโปรแกรมเมื่อเรากรอก 4 และ 7 ตามลำดับ เมื่อเรากรอก 4 นั้นโปรแกรมตรงกับเงื่อนไขของ elif ที่ level == 4 และเมื่อเรากรอก 7 โปรแกรมไม่ตรงกับเงื่อนไขใดๆ เลยทำให้ทำงานในบล็อคของคำสั่ง else\n",
        "\n"
      ]
    },
    {
      "cell_type": "markdown",
      "metadata": {
        "id": "DrcRo1VBl7Xr"
      },
      "source": [
        "## ตัวอย่างการใช้งานคำสั่งเลือกเงื่อนไขในภาษา Python\n",
        "\n",
        "หลังจากที่คุณได้เรียนในคำสั่งเลือกเงื่อนไขประเภทต่างๆ ในภาษา Python ไปแล้ว ต่อไปจะเป็นการนำมาประยุกต์เขียนโปรแกรมเพื่อบอกเวลาในรูปแบบของ \"เวลาที่ผ่านไป\" ซึ่งการแสดงเวลาในรูปแบบนี้ สามารถทำให้ทราบว่าเวลาที่เกิดขึ้นในอดีตได้อย่างคร่าวๆ ซึ่งมีการใช้งานเป็นจำนวนมากในเว็บไซต์ประเภทต่างๆ เช่น Facebook Twitter เป็นต้น นี่เป็นโค้ดของโปรแกรม"
      ]
    },
    {
      "cell_type": "code",
      "metadata": {
        "id": "lxWcVqu_mBpT",
        "outputId": "793310a3-01a4-4ef0-de21-78dcd11edb9f",
        "colab": {
          "base_uri": "https://localhost:8080/",
          "height": 136
        }
      },
      "source": [
        "import datetime\n",
        "import math\n",
        "\n",
        "# We want to calculate time ago to this date\n",
        "now = datetime.datetime(2017, 3, 29, 11, 00, 00)\n",
        "\n",
        "# Uncomment line below for current datetime object\n",
        "# now = datetime.datetime.now()\n",
        "\n",
        "# create a list and add all datetime(s)\n",
        "# all dates that earlier than 'now' object\n",
        "date_list = [];\n",
        "date_list.append(datetime.datetime(2017, 3, 29, 10, 59, 24))\n",
        "date_list.append(datetime.datetime(2017, 3, 29, 10, 12, 12))\n",
        "date_list.append(datetime.datetime(2017, 3, 24, 17, 24, 54))\n",
        "date_list.append(datetime.datetime(2017, 1, 14, 8, 43, 5))\n",
        "date_list.append(datetime.datetime(2016, 8, 13, 19, 20, 20))\n",
        "date_list.append(datetime.datetime(2012, 2, 8, 19, 20, 20))\n",
        "\n",
        "print('Time ago to', end = ' ')\n",
        "print(now.strftime(\"%B %d, %Y %I:%M:%S %p\"))\n",
        "\n",
        "for d in date_list:\n",
        "\n",
        "    time_dif = (now - d).total_seconds()\n",
        "\n",
        "    print(d.strftime(\"%B %d, %Y %I:%M:%S %p\"), ' => ', end = '')\n",
        "\n",
        "    # calculate for time ago since d\n",
        "    if time_dif < 60:\n",
        "        print(math.floor(time_dif), 'secs ago')\n",
        "    elif time_dif <= 3600:\n",
        "        print(math.floor(time_dif / 60), 'mins ago')\n",
        "    elif time_dif <= 86400:\n",
        "        print(math.floor(time_dif / 3600), 'hours ago')\n",
        "    elif time_dif <= 86400 * 30:\n",
        "        print(math.floor(time_dif / 86400), 'days ago')\n",
        "    elif time_dif <= 86400 * 365.25:\n",
        "        print(math.floor(time_dif / (86400 * 30)), 'months ago')\n",
        "    else:\n",
        "        print(math.floor(time_dif / (86400 * 365.25)), 'years ago')"
      ],
      "execution_count": null,
      "outputs": [
        {
          "output_type": "stream",
          "text": [
            "Time ago to March 29, 2017 11:00:00 AM\n",
            "March 29, 2017 10:59:24 AM  => 36 secs ago\n",
            "March 29, 2017 10:12:12 AM  => 47 mins ago\n",
            "March 24, 2017 05:24:54 PM  => 4 days ago\n",
            "January 14, 2017 08:43:05 AM  => 2 months ago\n",
            "August 13, 2016 07:20:20 PM  => 7 months ago\n",
            "February 08, 2012 07:20:20 PM  => 5 years ago\n"
          ],
          "name": "stdout"
        }
      ]
    },
    {
      "cell_type": "markdown",
      "metadata": {
        "id": "mcWBlJ-2mC4D"
      },
      "source": [
        "ในตัวอย่าง เป็นโปรแกรมบอกเวลาในรูปแบบเวลาที่ผ่านไป ในตัวแปร now เป็นตัวแปรสำหรับเก็บออบเจ็คของวันที่ที่ใช้อ้างอิงในการคำนวณช่วงเวลาที่ผ่านไปจนถึงวันนี้ สมมติว่าวันนี้เป็นวันที่ March 29, 2017 เวลา 11 AM เราทำแบบนี้เพื่อไม่ต้องการให้ผลลัพธ์ของเวลาเปลี่ยนไป ซึ่งในการใช้งานจริงบนเว็บไซต์เราจะใช้ datetime.datetime.now() แทน\n"
      ]
    },
    {
      "cell_type": "code",
      "metadata": {
        "id": "1o1BcDHLmavU"
      },
      "source": [
        "date_list = [];\n",
        "date_list.append(datetime.datetime(2017, 3, 29, 10, 59, 24))\n",
        "date_list.append(datetime.datetime(2017, 3, 29, 10, 12, 12))\n",
        "date_list.append(datetime.datetime(2017, 3, 24, 17, 24, 54))\n",
        "date_list.append(datetime.datetime(2017, 1, 14, 8, 43, 5))\n",
        "date_list.append(datetime.datetime(2016, 8, 13, 19, 20, 20))\n",
        "date_list.append(datetime.datetime(2012, 2, 8, 19, 20, 20))"
      ],
      "execution_count": null,
      "outputs": []
    },
    {
      "cell_type": "markdown",
      "metadata": {
        "id": "fCjIPl-XmcQE"
      },
      "source": [
        "หลังจากนั้น เราสร้างออบเจ็ค datetime ของวันและเวลาที่ต้องการคำนวณเข้าไปใน List date_list เราได้เพิ่มช่วงเวลาต่างๆ อย่างหลากหลากหลายเพื่อให้คุณเห็นผลลัพธ์การทำงานของโปรแกรมอย่างทั่วถึง หลังจากนั้นเราใช้คำสั่ง for loop ในการวนอ่านค่าวันที่ใน List"
      ]
    },
    {
      "cell_type": "code",
      "metadata": {
        "id": "sPb3kgUjmeuj",
        "outputId": "ef1c5c7a-1f4a-43b5-d212-fe9b4585efce",
        "colab": {
          "base_uri": "https://localhost:8080/",
          "height": 34
        }
      },
      "source": [
        "# calculate for time ago since d\n",
        "if time_dif < 60:\n",
        "    print(math.floor(time_dif), 'secs ago')\n",
        "elif time_dif <= 3600:\n",
        "   print(math.floor(time_dif / 60), 'mins ago')\n",
        "elif time_dif <= 86400:\n",
        "   print(math.floor(time_dif / 3600), 'hours ago')\n",
        "elif time_dif <= 86400 * 30:\n",
        "   print(math.floor(time_dif / 86400), 'days ago')\n",
        "elif time_dif <= 86400 * 365.25:\n",
        "   print(math.floor(time_dif / (86400 * 30)), 'months ago')\n",
        "else:\n",
        "   print(math.floor(time_dif / (86400 * 365.25)), 'years ago')"
      ],
      "execution_count": null,
      "outputs": [
        {
          "output_type": "stream",
          "text": [
            "5 years ago\n"
          ],
          "name": "stdout"
        }
      ]
    },
    {
      "cell_type": "markdown",
      "metadata": {
        "id": "Iv1q7GF9mhCL"
      },
      "source": [
        "มาถึงการคำนวณหาเวลาที่ผ่านไปโดยการใช้คำสั่ง if elif และ else การคำนวณนั้นเป็นการบอกว่าโดยประมาณ โดยตัดความละเอียดของเวลาช่วงหลังทิ้งไป เช่น เราคำนวณได้ 3 วันกับ 5 ชั่วโมง เราแสดงผลเพียง 3 วันพอ ซึ่งเป็นค่าโดยประมาณ\n",
        "\n",
        "\n",
        "\n",
        "```\n",
        "Time ago to March 29, 2017 11:00:00 AM\n",
        "March 29, 2017 10:59:24 AM  => 36 secs ago\n",
        "March 29, 2017 10:12:12 AM  => 47 mins ago\n",
        "March 24, 2017 05:24:54 PM  => 4 days ago\n",
        "January 14, 2017 08:43:05 AM  => 2 months ago\n",
        "August 13, 2016 07:20:20 PM  => 7 months ago\n",
        "February 08, 2012 07:20:20 PM  => 5 years ago\n",
        "```\n",
        "นี่เป็นผลลัพธ์การทำงานของโปรแกรมในการบอกเวลาที่ผ่านมา เหมือนใน Facebook หรือ Twitter\n",
        "\n",
        "ในบทนี้ คุณได้เรียนรู้เกี่ยวกับคำสั่งเลือกเงื่อนไข if elif และ else ในพื้นฐานสำหรับควบคุมโปรแกรมให้ทำงานตามเงื่อนไขที่แตกต่างกันออกไป และเราได้ให้ตัวอย่างของการบอกเวลาในรูปแบบเวลาที่ผ่านไปที่จะช่วยให้คุณเข้าใจมากขึ้น\n"
      ]
    }
  ]
}