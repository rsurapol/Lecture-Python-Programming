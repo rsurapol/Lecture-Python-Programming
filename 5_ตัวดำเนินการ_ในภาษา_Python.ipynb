{
  "nbformat": 4,
  "nbformat_minor": 0,
  "metadata": {
    "colab": {
      "provenance": [],
      "include_colab_link": true
    },
    "kernelspec": {
      "name": "python3",
      "display_name": "Python 3"
    }
  },
  "cells": [
    {
      "cell_type": "markdown",
      "metadata": {
        "id": "view-in-github",
        "colab_type": "text"
      },
      "source": [
        "<a href=\"https://colab.research.google.com/github/rsurapol/Lecture-Python-Programming/blob/main/5_%E0%B8%95%E0%B8%B1%E0%B8%A7%E0%B8%94%E0%B8%B3%E0%B9%80%E0%B8%99%E0%B8%B4%E0%B8%99%E0%B8%81%E0%B8%B2%E0%B8%A3_%E0%B9%83%E0%B8%99%E0%B8%A0%E0%B8%B2%E0%B8%A9%E0%B8%B2_Python.ipynb\" target=\"_parent\"><img src=\"https://colab.research.google.com/assets/colab-badge.svg\" alt=\"Open In Colab\"/></a>"
      ]
    },
    {
      "cell_type": "markdown",
      "metadata": {
        "id": "RqZrA7cidpPD"
      },
      "source": [
        "# ตัวดำเนินการ ในภาษา Python\n",
        "\n",
        "ตัวดำเนินการ (Operators) คือกลุ่มของเครื่องหมายหรือสัญลักษณ์ที่ใช้ทำงานเหมือนกับฟังก์ชัน แต่แตกต่างกันตรงไวยากรณ์หรือความหมายในการใช้งาน ในภาษา Python นั้นสนับสนุนตัวดำเนินการประเภทต่างๆ สำหรับการเขียนโปรแกรม เช่น ตัวดำเนินการ + เป็นตัวดำเนินการทางคณิตศาสตร์ที่ใช้สำหรับการบวกตัวเลขเข้าด้วยกัน หรือตัวดำเนินการ > เป็นตัวดำเนินการเพื่อให้เปรียบเทียบค่าสองค่า\n",
        "\n",
        "นี่เป็นรายการของตัวดำเนินการในภาษา Python ที่คุณจะได้เรียนในบทนี้\n",
        "\n",
        "* Assignment operator\n",
        "* Arithmetic operators\n",
        "* Comparison operators\n",
        "* Logical operators\n",
        "* Bitwise operators\n",
        "* Sequence Operators\n",
        "* Truth Value Testing\n",
        "\n"
      ]
    },
    {
      "cell_type": "markdown",
      "metadata": {
        "id": "w-lLOHgMeYwY"
      },
      "source": [
        "## Assignment operator\n",
        "ตัวดำเนินการที่เป็นพื้นฐานที่สุดสำหรับการเขียนโปรแกรมในทุกๆ ภาษาก็คือ ตัวดำเนินการกำหนดค่า (Assignment operator) ตัวดำเนินการนี้แสดงโดยใช้เครื่องหมายเท่ากับ (=) มันใช้สำหรับกำหนดค่าให้กับตัวแปร มาดูตัวอย่างการใช้งานในภาษา Python\n"
      ]
    },
    {
      "cell_type": "code",
      "metadata": {
        "id": "pq4ki-eNeLV6",
        "outputId": "cb093473-fedf-4e5d-e1e1-510b25462e74",
        "colab": {
          "base_uri": "https://localhost:8080/",
          "height": 51
        }
      },
      "source": [
        "a = 3 \n",
        "print(a)\n",
        "b = 5.29\n",
        "c = b\n",
        "name = 'Mateo'\n",
        "my_list = [2, 5, 8, 10, 24]\n",
        "x, y, z, names = 10, 20, 3.14, 'สุดสวย'\n",
        "print(\"%d %d %f %s\" % (x,y,z,names))"
      ],
      "execution_count": null,
      "outputs": [
        {
          "output_type": "stream",
          "text": [
            "3\n",
            "10 20 3.140000 สุดสวย\n"
          ],
          "name": "stdout"
        }
      ]
    },
    {
      "cell_type": "markdown",
      "metadata": {
        "id": "x5ptxoNNeMVg"
      },
      "source": [
        "ในตัวอย่าง เป็นการใช้งานตัวดำเนินการกำหนดค่าสำหรับกำหนดค่าให้กับตัวแปรประเภทต่างๆ โดยทั่วไปแล้ว ตัวดำเนินการกำหนดค่านั้นเกือบจะใช้ในทุกๆ ที่ในโปรแกรมและเป็นตัวดำเนินการที่ใช้บ่อยที่สุดของในบรรดาตัวดำเนินการทั้งหมด"
      ]
    },
    {
      "cell_type": "markdown",
      "metadata": {
        "id": "wzJocQyn3Prp"
      },
      "source": [
        "<table width=100%>\n",
        "<tr>\n",
        "<th>ตัวดำเนินการ</th>\n",
        "<th >ตัวอย่าง</th>\n",
        "<th >เหมือนกับ</th>\n",
        "</tr>\n",
        "<tr>\n",
        "<td>=</td>\n",
        "<td>x = 5</td>\n",
        "<td>x = 5</td>\n",
        "</tr>\n",
        "<tr>\n",
        "<td>+=</td>\n",
        "<td>x += 3</td>\n",
        "<td>x = x + 3</td>\n",
        "</tr>\n",
        "<tr>\n",
        "<td>-=</td>\n",
        "<td>x -= 3</td>\n",
        "<td>x = x - 3</td>\n",
        "</tr>\n",
        "<tr>\n",
        "<td>*=</td>\n",
        "<td>x *= 3</td>\n",
        "<td>x = x * 3</td>\n",
        "</tr>\n",
        "<tr>\n",
        "<td>/=</td>\n",
        "<td>x /= 3</td>\n",
        "<td>x = x / 3</td>\n",
        "</tr>\n",
        "<tr>\n",
        "<td>%=</td>\n",
        "<td>x %= 3</td>\n",
        "<td>x = x % 3</td>\n",
        "</tr>\n",
        "<tr>\n",
        "<td>//=</td>\n",
        "<td>x //= 3</td>\n",
        "<td>x = x // 3</td>\n",
        "</tr>\n",
        "<tr>\n",
        "<td>**=</td>\n",
        "<td>x **= 3</td>\n",
        "<td>x = x ** 3</td>\n",
        "</tr>\n",
        "<tr>\n",
        "<td>&amp;=</td>\n",
        "<td>x &amp;= 3</td>\n",
        "<td>x = x &amp; 3</td>\n",
        "</tr>\n",
        "<tr>\n",
        "<td>|=</td>\n",
        "<td>x |= 3</td>\n",
        "<td>x = x | 3</td>\n",
        "</tr>\n",
        "<tr>\n",
        "<td>^=</td>\n",
        "<td>x ^= 3</td>\n",
        "<td>x = x ^ 3</td>\n",
        "</tr>\n",
        "<tr>\n",
        "<td>&gt;&gt;=</td>\n",
        "<td>x &gt;&gt;= 3</td>\n",
        "<td>x = x &gt;&gt; 3</td>\n",
        "</tr>\n",
        "<tr>\n",
        "<td>&lt;&lt;=</td>\n",
        "<td>x &lt;&lt;= 3</td>\n",
        "<td>x = x &lt;&lt; 3</td>\n",
        "</tr>\n",
        "</table>\n",
        "\n",
        "ที่มา : https://www.w3schools.com/python/python_operators.asp"
      ]
    },
    {
      "cell_type": "markdown",
      "metadata": {
        "id": "rY906_BQeUGI"
      },
      "source": [
        "## Arithmetic operators\n",
        "ตัวดำเนินการทางคณิตศาสตร์ (Arithmetic operators) คือตัวดำเนินการที่ใช้สำหรับการคำนวณทางคณิตศาสตร์ในพื้นฐาน เช่น การบวก การลบ การคูณ และการหาร มากไปกว่านั้น ในภาษา Python ยังมีตัวดำเนินการทางคณิตศาสตร์เพิ่มเติม เช่น การหารเอาเศษ (Modulo) การหารแบบเลขจำนวนเต็ม และการยกกำลัง เป็นต้น\n",
        "\n",
        "นี่เป็นตารางของตัวดำเนินการทางคณิตศาสตร์ในภาษา Python\n",
        "\n",
        "<table class=\"table\" width=\"80%\">\n",
        "<tr><th>Operator</th><th>Name</th><th>Example</th></tr>\n",
        "<tr><td>+</td><td>Addition</td><td>a + b</td></tr>\n",
        "<tr><td>-</td><td>Subtraction</td><td>a - b</td></tr>\n",
        "<tr><td>*</td><td>Multiplication</td><td>a * b</td></tr>\n",
        "<tr><td>/</td><td>Division</td><td>a / b</td></tr>\n",
        "<tr><td>//</td><td>Division and floor</td><td>a // b</td></tr>\n",
        "<tr><td>%</td><td>Modulo</td><td>a % b</td></tr>\n",
        "<tr><td>**</td><td>Power</td><td>a ** b</td></tr>\n",
        "</table>\n",
        "\n",
        "ในตารางข้างบน เรามีตัวดำเนินการทางคณิตศาสตร์ประเภทต่างๆ สำหรับการคำนวณเกี่ยวกับคณิตศาสตร์เบื้องต้น คุณอาจจะคุ้นเคยกับตัวดำเนินการบวก ลบ คูณ หาร ในการเรียนระดับมัธยมศึกษามาบ้างแล้ว ในภาษา Python นั้นสนับสนุนตัวดำเนินการสำหรับการหารเอาเศษเช่นเดียวกับภาษาอื่นๆ และนอกจากนี้ ยังมีตัวดำเนินการแบบการหารที่ได้ผลลัพธ์เป็นจำนวนเต็ม และการหาเลขยกกำลังเพิ่มเข้ามา มาดูตัวอย่างการใช้ตัวดำเนินการประเภทต่างๆ ในภาษา Python\n",
        "\n"
      ]
    },
    {
      "cell_type": "code",
      "metadata": {
        "id": "75fIwpGje2QY",
        "outputId": "9975bcdf-284d-4631-b8a9-4cfcbe9ba5f9",
        "colab": {
          "base_uri": "https://localhost:8080/",
          "height": 205
        }
      },
      "source": [
        "a = int(input(\"ป้อนตัวเลขจำนวนเต็มตัวแรก \"))\n",
        "b = int(input(\"ป้อนตัวเลขจำนวนเต็มตัวที่สอง \"))\n",
        "c = a / b\n",
        "print(\"a + b = \", a + b)\n",
        "print(\"a - b = \", a - b)\n",
        "print(\"a * b =  \", (a * b))\n",
        "print(\"a / b =  \", (a / b))\n",
        "print(\"a / b = %f \"% (a / b))\n",
        "print(\"a / b = %f \"% (c))\n",
        "print(\"a // b = \", a // b) # floor number to integer\n",
        "print(\"a % b = \", a % b)   # get division remainder\n",
        "print(\"a ** b = \", a ** b) # power"
      ],
      "execution_count": null,
      "outputs": [
        {
          "output_type": "stream",
          "text": [
            "ป้อนตัวเลขจำนวนเต็มตัวแรก 5\n",
            "ป้อนตัวเลขจำนวนเต็มตัวที่สอง 3\n",
            "a + b =  8\n",
            "a - b =  2\n",
            "a * b =   15\n",
            "a / b =   1.6666666666666667\n",
            "a / b = 1.666667 \n",
            "a / b = 1.666667 \n",
            "a // b =  1\n",
            "a % b =  2\n",
            "a ** b =  125\n"
          ],
          "name": "stdout"
        }
      ]
    },
    {
      "cell_type": "markdown",
      "metadata": {
        "id": "u_xMNy9Pe3dP"
      },
      "source": [
        "ในตัวอย่าง เราได้ประกาศตัวแปร a และ b และกำหนดค่าให้กับตัวแปรทั้งสองเป็น 5 และ 3 ตามลำดับ ในสี่ตัวดำเนินการแรกเป็นการดำเนินการทางคณิตศาสตร์พื้นฐาน สำหรับตัวดำเนินการ // เป็นการหารเช่นเดียวกัน แต่ผลลัพธ์ของการหารนั้นจะตัดส่วนที่เป็นทศนิยมทิ้งไป ส่วนตัวดำเนินการ % นั้นเป็นการหารโดยผลลัพธ์จะเป็นเศษของการหารแทน ส่วนสุดท้าย ** นั้นแทนการยกกำลัง\n",
        "\n",
        "ผลลัพธ์การทำงานของโปรแกรมในการใช้งานตัวดำเนินการทางคณิตศาสตร์"
      ]
    },
    {
      "cell_type": "markdown",
      "metadata": {
        "id": "3S4v9zsTfBwv"
      },
      "source": [
        "## Comparison operators\n",
        "\n",
        "ตัวดำเนินการเปรียบเทียบ (Comparison operators) คือตัวดำเนินการที่ใช้สำหรับเปรียบเทียบค่าหรือค่าในตัวแปร ซึ่งผลลัพธ์ของการเปรียบเทียบนั้นจะเป็น True หากเงื่อนไขเป็นจริง และเป็น False หากเงื่อนไขไม่เป็นจริง ตัวดำเนินการเปรียบเทียบมักจะใช้กับคำสั่งตรวจสอบเงื่อนไข if และคำสั่งวนซ้ำ for while เพื่อควบคุมการทำงานของโปรแกรม\n",
        "\n",
        "นี่เป็นตารางของตัวดำเนินการเปรียบเทียบในภาษา Python\n",
        "\n",
        "<table class=\"table\" width=\"80%\">\n",
        "<tr><th>Operator</th><th>Name</th><th>Example</th></tr>\n",
        "<tr><td>&lt;</td><td>Less than</td><td>a &lt; b</td></tr>\n",
        "<tr><td>&lt;=</td><td>Less than or equal</td><td>a &lt;= b</td></tr>\n",
        "<tr><td>&gt;</td><td>Greater than</td><td>a &gt; b</td></tr>\n",
        "<tr><td>&gt;=</td><td>Greater than or equal</td><td>a &gt;= b</td></tr>\n",
        "<tr><td>==</td><td>Equal</td><td>a == b</td></tr>\n",
        "<tr><td>!=</td><td>Not equal</td><td>a != b</td></tr>\n",
        "<tr><td>is</td><td>Object identity</td><td>a is b</td></tr>\n",
        "<tr><td>is not</td><td>Negated object identity</td><td>a is not b</td></tr>\n",
        "</table>\n",
        "\n",
        "ในตาราง แสดงให้เห็นถึงตัวดำเนินการเปรียบเทียบประเภทต่างๆ เช่น การเปรียบเทียบความเท่ากัน โดยคุณสามารถใช้ตัวดำเนินการเปรียบเทียบเพื่อเปรียบเทียบว่าค่าในตัวแปรนั้นเท่ากันหรือไม่ หรือการเปรียบเทียบค่ามากกว่าหรือน้อยกว่า ต่อไปมาดูตัวอย่างการใช้งานตัวดำเนินการเปรียบเทียบในภาษา Python\n",
        "\n"
      ]
    },
    {
      "cell_type": "code",
      "metadata": {
        "id": "4kZPoJLLfoV3",
        "outputId": "794e2b3e-7f59-47a8-9e1c-57f3dab59392",
        "colab": {
          "base_uri": "https://localhost:8080/",
          "height": 154
        }
      },
      "source": [
        "# Constant comparison\n",
        "print('4 == 4 :', 4 == 4)\n",
        "print('1 < 2:', 1 < 2)\n",
        "print('3 > 10:', 3 > 10)\n",
        "print('2 <= 1.5', 2 <= 1.5)\n",
        "print()\n",
        "\n",
        "# Variable comparison\n",
        "a = -10\n",
        "b = -8\n",
        "print('a != b:', a != b)\n",
        "print('a - b == 2:', a - b == -2)\n",
        "print()"
      ],
      "execution_count": null,
      "outputs": [
        {
          "output_type": "stream",
          "text": [
            "4 == 4 : True\n",
            "1 < 2: True\n",
            "3 > 10: False\n",
            "2 <= 1.5 False\n",
            "\n",
            "a != b: True\n",
            "a - b == 2: True\n",
            "\n"
          ],
          "name": "stdout"
        }
      ]
    },
    {
      "cell_type": "markdown",
      "metadata": {
        "id": "tGt5BMmtfpUP"
      },
      "source": [
        "ในตัวอย่าง เป็นการเปรียบเทียบค่าประเภทต่างๆ ในคำสั่งกลุ่มแรกนั้นเป็นการใช้ตัวดำเนินการเปรียบเทียบกับค่าคงที่ ในกลุ่มที่สองเป็นการใช้งานกับตัวแปร ซึ่งถ้าหากเงื่อนไขเป็นจริงจะได้ผลลัพธ์เป็น True และถ้าหากไม่จริงจะได้ผลลัพธ์เป็น False\n",
        "\n",
        "สำหรับตัวดำเนินการ is และ is not นั้นจะเกี่ยวข้องกับ การเขียนโปรแกรมเชิงวัตถุ ซึ่งเป็นรูปแบบการเขียนโปรแกรมขั้นสูง มันใช้สำหรับตรวจสอบความเท่ากันของออบเจ็ค โดยออบเจ็คเหล่านั้นจะต้องอ้างถึงที่อยู่ตำแหน่งเดียวกันในหน่วยความจำ (Reference type) เนื่องจากมันค่อนข้างซับซ้อน ดังนั้น เรามีอีกตัวอย่างที่จะช่วยให้คุณเข้าใจมากขึ้น"
      ]
    },
    {
      "cell_type": "code",
      "metadata": {
        "id": "GDovSno1fxMu",
        "outputId": "ceb7687c-391d-468e-a73c-1e4f3502cb0a",
        "colab": {
          "base_uri": "https://localhost:8080/",
          "height": 51
        }
      },
      "source": [
        "a = 10\n",
        "b = a # Assign value of a to b\n",
        "b = 20\n",
        "print(a) # result 10\n",
        "print(b) # result  20"
      ],
      "execution_count": null,
      "outputs": [
        {
          "output_type": "stream",
          "text": [
            "10\n",
            "20\n"
          ],
          "name": "stdout"
        }
      ]
    },
    {
      "cell_type": "markdown",
      "metadata": {
        "id": "g5uqERZefyRO"
      },
      "source": [
        "ในตัวอย่าง เราได้ประกาศตัวแปร a และกำหนดค่าเป็น 10 และประกาศตัวแปร b โดยกำหนดค่าของมันให้เท่ากับค่าของตัวแปร a คุณจะเห็นว่าในคำสั่ง b = a นั้นจะสร้างตัวแปรใหม่ที่ไม่เกี่ยวข้องกัน \n",
        "\n",
        "โดยปกติตัวดำเนินการเปรียบเทียบ จะถูกนำไปใช้ร่วมกับคำสั่งแบบเลือกทำ และคำสั่งแบบวนซ้ำ ดังจะแสดงตัวอย่"
      ]
    },
    {
      "cell_type": "code",
      "metadata": {
        "id": "hPhOHJtvgRz1",
        "outputId": "ae27c05e-abbd-4cd8-e99d-797ebc4920ed",
        "colab": {
          "base_uri": "https://localhost:8080/",
          "height": 68
        }
      },
      "source": [
        "n = int(input(\"Enter a number: \"))\n",
        "\n",
        "if n % 2 == 0:\n",
        "    print('%d is even number' % n)\n",
        "else:\n",
        "    print('%d is odd number' % n)\n",
        "\n",
        "if n > 0:\n",
        "    print('%d is positive number' % n)\n",
        "elif n == 0:\n",
        "    print('%d is zero' % n)\n",
        "else:\n",
        "    print('%d is negative number' % n)"
      ],
      "execution_count": null,
      "outputs": [
        {
          "output_type": "stream",
          "text": [
            "Enter a number: 7\n",
            "7 is odd number\n",
            "7 is positive number\n"
          ],
          "name": "stdout"
        }
      ]
    },
    {
      "cell_type": "markdown",
      "metadata": {
        "id": "8gjI7E6vgSm3"
      },
      "source": [
        "ในตัวอย่าง เป็นโปรแกรมในการรับค่าตัวเลขแบบ Integer แล้วเราใช้คำสั่ง if ในการตรวจสอบตัวเลขสองอย่างคือ ตรวจสอบว่าเป็นเลขคู่หรือเลขคี่ และตรวจสอบว่าเป็นจำนวนเต็มบวก เต็มลบ หรือศูนย์ ในเงื่อนไข n % 2 == 0 นั้นเป็นการตรวจโดยการหารเอาเศษ ซึ่งมีความหมายว่า หากตัวเลขนั้นหารแล้วมีเศษเท่ากับ 0 นั้นหมายความว่าตัวเลขจะเป็นเลขคู่และในบล็อคคำสั่ง if จะทำงาน และถ้าไม่เป็นจริงโปรแกรมจะทำงานในบล็อคคำสั่ง else แทน ในบล็อคของคำสั่ง if ต่อมา เป็นการตรวจสอบว่าตัวเลขนั้นเป็นตัวเลขที่มากกว่า น้อยกว่า หรือเท่ากับศูนย์\n",
        "\n",
        "\n",
        "\n",
        "```\n",
        "Enter a number: 5\n",
        "5 is odd number\n",
        "5 is positive numbe\n",
        "```\n",
        "\n",
        "\n",
        "```\n",
        "Enter a number: -1\n",
        "-1 is odd number\n",
        "-1 is negative number\n",
        "```\n",
        "นี่เป็นผลลัพธ์การทำงานของโปรแกรมสองครั้ง เมื่อเรากรอกตัวเลขเป็น 5 และ -1 ตามลำดับ และโปรแกรมจะบอกเราว่าตัวเลขนั้นเป็นแบบไหน\n",
        "\n"
      ]
    },
    {
      "cell_type": "markdown",
      "metadata": {
        "id": "xvMD6EOrgw91"
      },
      "source": [
        "## Logical operators\n",
        "ตัวดำเนินการตรรกศาสตร์ (Logical operators) คือตัวดำเนินการที่ใช้สำหรับประเมินค่าทางตรรกศาสตร์ ซึ่งเป็นค่าที่มีเพียงจริง (True) และเท็จ (False) เท่านั้น โดยทั่วไปแล้วเรามักใช้ตัวดำเนินการตรรกศาสตร์ในการเชื่อม Boolean expression ตั้งแต่หนึ่ง expression ขึ้นไปและผลลัพธ์สุดท้ายที่ได้นั้นจะเป็น Boolean\n",
        "\n",
        "นี่เป็นตารางของตัวดำเนินการตรรกศาสตร์ในภาษา Python\n",
        "\n",
        "<table class=\"table\" width=\"80%\">\n",
        "<tr><th>Operator</th><th>Example</th><th>Result</th></tr>\n",
        "<tr><td>and</td><td>a and b</td><td>True if a and b are true, else False</td></tr>\n",
        "<tr><td>or</td><td>a or b</td><td>True if a or  b are true, else False</td></tr>\n",
        "<tr><td>not</td><td>not a</td><td>True if a is False, else True</td></tr>\n",
        "</table>\n",
        "\n",
        "ในภาษา Python นั้นมีตัวดำเนินการทางตรรกศาสตร์ 3 ชนิด คือ ตัวดำเนินการ and เป็นตัวดำเนินการที่ใช้เชื่อมสอง Expression และได้ผลลัพธ์เป็น True หาก Expression ทั้งสองเป็น True ไม่เช่นนั้นจะได้ผลลัพธ์เป็น False ตัวดำเนินการ or เป็นตัวดำเนินการที่ใช้เชื่อมสอง Expression และได้ผลลัพธ์เป็น True หากมีอย่างน้อยหนึ่ง Expression ที่เป็น True ไม่เช่นนั้นได้ผลลัพธ์เป็น False และตัวดำเนินการ not ใช้ในการกลับค่าจาก True เป็น False และในทางกลับกัน มาดูตัวอย่างการใช้งาน\n",
        "\n"
      ]
    },
    {
      "cell_type": "code",
      "metadata": {
        "id": "1HalIdSRhJR6",
        "outputId": "5fe13120-8d46-4767-8372-df1696cda2ae",
        "colab": {
          "base_uri": "https://localhost:8080/",
          "height": 103
        }
      },
      "source": [
        "print('โปรแกรมล็อกอิน')\n",
        "username = input('ชื่อผู้ใช้: ')\n",
        "password = input('รหัสผ่าน: ')\n",
        "\n",
        "if (username == 'ModX' and password == '1234'):\n",
        "    print('ยินดีต้อนรับคุณ', username ,    'เข้าสู่ระบบ.')\n",
        "    print('ยินดีต้อนรับคุณ %s, เข้าสู่ระบบ.'% username)\n",
        "else:\n",
        "    print('ป้อนชื่อ หรือ รหัสผ่านผิด')"
      ],
      "execution_count": null,
      "outputs": [
        {
          "output_type": "stream",
          "text": [
            "โปรแกรมล็อกอิน\n",
            "ชื่อผู้ใช้: ModX\n",
            "รหัสผ่าน: 1234\n",
            "ยินดีต้อนรับคุณ ModX เข้าสู่ระบบ.\n",
            "ยินดีต้อนรับคุณ ModX, เข้าสู่ระบบ.\n"
          ],
          "name": "stdout"
        }
      ]
    },
    {
      "cell_type": "markdown",
      "metadata": {
        "id": "JXgIEzXzhJ98"
      },
      "source": [
        "ในตัวอย่าง เราได้สร้างโปรแกรมจำลองในการเข้าสู่ระบบของหน้าเว็บไซต์ ในการที่จะเข้าสู่ระบบ ผู้ใช้ต้องกรอกชื่อผู้ใช้และรหัสผ่านให้ถูกต้อง ดังนั้นเราจึงใช้ตัวดำเนินการ and เพื่อตรวจสอบว่าทั้งชื่อผู้ใช้และรหัสผ่านนั้นถูกต้อง ทำให้เงื่อนไขเป็นจริงและในบล็อคคำสั่ง if จะทำงาน\n",
        "\n",
        "\n",
        "\n",
        "```\n",
        "Log in page\n",
        "Username: mateo\n",
        "Password: 3456\n",
        "Welcome Mateo, you've logged in.\n",
        "```\n",
        "นี่เป็นผลลัพธ์การทำงานของโปรแกรม เมื่อเรากรอกชื่อผู้ใช้เป็น \"mateo\" และรหัสผ่านเป็น \"3456\" ซึ่งถูกต้องทั้งสองอย่างทำให้สามารถเข้าสู่ระบบได้สำเร็จ\n",
        "\n"
      ]
    },
    {
      "cell_type": "markdown",
      "metadata": {
        "id": "fifx_XechTc8"
      },
      "source": [
        "## Bitwise operators\n",
        "\n",
        "ตัวดำเนินการระดับบิต (Bitwise operators) เป็นตัวดำเนินการที่ทำงานในระดับบิตของข้อมูล หรือจัดการข้อมูลในระบบเลขฐานสอง โดยทั่วไปแล้วตัวดำเนินการระดับบิตมักจะใช้กับการเขียนโปรแกรมระดับต่ำ เช่น การเขียนโปรแกรมเพื่อควบคุมฮาร์ดแวร์ อย่างไรก็ตาม ในภาษา Python นั้นสนับสนุนตัวดำเนินการเพื่อให้เราสามารถจัดการกับบิตของข้อมูลโดยตรงได้\n",
        "\n",
        "นี่เป็นตารางของตัวดำเนินการระดับบิตในภาษา Python\n",
        "\n",
        "<table class=\"table\" width=\"80%\">\n",
        "<tr><th>Operator</th><th>Name</th><th>Result</th></tr>\n",
        "<tr><td>&amp;</td><td>Bitwise and</td><td>a &amp; b</td></tr>\n",
        "<tr><td>|</td><td>Bitwise or</td><td>a | b</td></tr>\n",
        "<tr><td>^</td><td>Bitwise exclusive or</td><td>a ^ b</td></tr>\n",
        "<tr><td>&lt;&lt;</td><td>Bitwise shifted left</td><td>a &lt;&lt; b</td></tr>\n",
        "<tr><td>&gt;&gt;</td><td>Bitwise  shifted right</td><td>a &gt;&gt; b</td></tr>\n",
        "<tr><td>~</td><td>Bitwise  invert</td><td>~a</td></tr>\n",
        "</table>\n",
        "\n",
        "ตัวดำเนินการระดับบิตใช้จัดการกับบิตของข้อมูลที่เป็นตัวเลข โดยปกติแล้วเมื่อเรากำหนดค่าให้กับตัวแปรนั้น คอมพิวเตอร์จะเก็บค่าเหล่านี้ในหน่วยความจำในรูปแบบของตัวเลขฐานสอง (binary form) ซึ่งประกอบไปด้วยเพียง 1 และ 0 เท่านั้น ดังนั้นเราใช้ตัวดำเนินการเหล่านี้ในการจัดการกับข้อมูลได้โดยตรง มาดูตัวอย่าง\n",
        "\n"
      ]
    },
    {
      "cell_type": "code",
      "metadata": {
        "id": "CGDNIq3YhnUe",
        "outputId": "e0164898-fd3d-45b2-a499-d3a73e2b302d",
        "colab": {
          "base_uri": "https://localhost:8080/",
          "height": 137
        }
      },
      "source": [
        "a = 3 # 00000011\n",
        "b = 5 # 00000101\n",
        "\n",
        "print('a & b =', a & b)\n",
        "print('a | b =', a | b)\n",
        "print('a ^ b =', a ^ b)\n",
        "print('~a =', ~a)\n",
        "print('a << 1 =', a << 1)\n",
        "print('a << 2 =', a << 2)\n",
        "print('a >> 2 =', a >> 2)"
      ],
      "execution_count": null,
      "outputs": [
        {
          "output_type": "stream",
          "text": [
            "a & b = 1\n",
            "a | b = 7\n",
            "a ^ b = 6\n",
            "~a = -4\n",
            "a << 1 = 6\n",
            "a << 2 = 12\n",
            "a >> 2 = 0\n"
          ],
          "name": "stdout"
        }
      ]
    },
    {
      "cell_type": "markdown",
      "metadata": {
        "id": "at6QViHPhoKP"
      },
      "source": [
        "ในตัวอย่าง เป็นการใช้ตัวดำเนินการระดับบิตประเภทต่างๆ ในภาษา Python เรามีตัวแปร a และตัวแปร b และกำหนดค่า 3 และ 5 ให้กับตัวแปรตามลำดับ เราได้คอมเมนต์ค่าในฐานสองไว้ด้วย ในการทำงานนั้นโปรแกรมจะทำงานทีละคู่ของบิต ดูวิธีการคำนวณต่อไปนี้ประกอบ\n",
        "\n",
        "\n",
        "```\n",
        "# 3 & 5\n",
        "00000011\n",
        "00000101\n",
        "00000001 # result = 1\n",
        "\n",
        "# 3 | 5\n",
        "00000011\n",
        "00000101\n",
        "00000111 # result = 7\n",
        "\n",
        "# 3 ^ 5\n",
        "00000011\n",
        "00000101\n",
        "00000110 # result = 6\n",
        "\n",
        "# ~3\n",
        "00000011\n",
        "11111100 # result = -4\n",
        "```\n",
        "จากการแสดงการทำงานข้างบนนั้น ในตัวดำเนินการ & หากทั้งสองบิตมีค่าเป็น 1 จะได้ผลลัพธ์เป็น 1 ไม่เช่นนั้น 0 ในตัวดำเนินการ | หากอย่างน้อยหนึ่งบิตที่มีค่าเป็น 1 จะได้ผลลัพธ์เป็น 1 ไม่เช่นนั้น 0 ในตัวดำเนินการ ^ หากทั้งสองบิตนั้นแตกต่างกันจะได้ผลลัพธ์เป็น 1 ไม่เช่นนั้น 0 และในตัวดำเนินการ ~ นั้นเป็นการกลับค่าของบิต หลังจากนั้นเราแปลงผลลัพธ์ที่ได้กลับไปยังฐานสิบ\n",
        "\n",
        "\n",
        "```\n",
        "# 3 << 1\n",
        "00000011\n",
        "00000110 # result = 6\n",
        "\n",
        "# 3 << 2\n",
        "00000011\n",
        "00001100 # result = 12\n",
        "\n",
        "# 100>> 1\n",
        "1100100\n",
        "0110010 # result = 50\n",
        "```\n",
        "อีกสามคำสั่งต่อมาเป็นการใช้งานตัวดำเนินการเลื่อนบิต ในการทำงานนั้นจะเป็นการเลื่อนบิตไปทางซ้ายหรือขวาตามทิศทางของลูกศรของตัวดำเนินการ บิตที่เข้ามาใหม่ทางด้านซ้ายหรือขวานั้นเป็นบิต 0 เสมอ โดยทั่วไปแล้ว เมื่อเราเลื่อนบิตของตัวเลขใดๆ ไปทางด้านซ้ายหนึ่งครั้งจะทำให้ค่าเพิ่มขึ้นสองเท่า และถ้าหากเลื่อนไปทางด้านขวาหนึ่งครั้งจะทำให้ค่าลดลงครึ่งหนึ่ง\n",
        "\n",
        "\n",
        "```\n",
        "a & b = 1\n",
        "a | b = 7\n",
        "a ^ b = 6\n",
        "~a = -4\n",
        "a << 1 = 6\n",
        "a << 2 = 12\n",
        "100 >> 1 = 50\n",
        "```\n",
        "นี่เป็นผลลัพธ์การทำงานของโปรแกรม ในการใช้งานตัวดำเนินการระดับบิตในภาษา Python\n",
        "\n",
        "\n"
      ]
    },
    {
      "cell_type": "markdown",
      "metadata": {
        "id": "eJRGBPGTiB8K"
      },
      "source": [
        "## Sequence Operators\n",
        "\n",
        "ในภาษา Python มีตัวดำเนินการในการตรวจสอบการเป็นสมาชิกในออบเจ็คประเภท List Tuple และ Dictionary ตัวดำเนินการ in ใช้ในการตรวจสอบถ้าหากค่านั้นมีอยู่ในออบเจ็ค ถ้าหากพบจะได้ผลลัพธ์เป็น True และหากไม่พบจะได้ผลลัพธ์เป็น False และตัวดำเนินการ not in นั้นจะทำงานตรงกันข้าม หากไม่พบจะได้ผลลัพธ์เป็น True แทน\n",
        "\n",
        "นี่เป็นตารางของตัวดำเนินการในการตรวจสอบการเป็นสมาชิกในออบเจ็ค ในภาษา Python\n",
        "\n",
        "<table class=\"table\" width=\"80%\">\n",
        "<tr><th>Operator</th><th>Name</th><th>Example</th></tr>\n",
        "<tr><td>in</td><td>Object memberships</td><td>a in b</td></tr>\n",
        "<tr><td>not in</td><td>Negated object memberships</td><td>a not in b</td></tr>\n",
        "</table>\n",
        "\n",
        "มาดูตัวอย่างการใช้งานของตัวดำเนินการเหล่านี้ เราจะใช้ในการตรวจสอบการมีอยู่ของข้อมูลใน List และ Dictionary\n"
      ]
    },
    {
      "cell_type": "code",
      "metadata": {
        "id": "Vfrj9ZxOiWvn",
        "outputId": "e792b4c5-a2a3-47c5-ec82-5b516c2cef44",
        "colab": {
          "base_uri": "https://localhost:8080/",
          "height": 85
        }
      },
      "source": [
        "names = ['Mateo', 'David', 'Andrill', 'Joshep']\n",
        "\n",
        "if 'Mateo' in names:\n",
        "    print('\\'Mateo\\' exist in the list')\n",
        "else:\n",
        "    print('\\'Mateo\\' not exist in the list')\n",
        "\n",
        "if 'Jonathan' in names:\n",
        "    print('\\'Jonathan\\' exist in the list')\n",
        "else:\n",
        "    print('\\'Jonathan\\' not exist in the list')\n",
        "\n",
        "numbers = {'1': 'one', '3': 'three', '2': 'two', '5': 'five'}\n",
        "\n",
        "if 'one' in numbers.values():\n",
        "    print('\\'one\\' exist in the dictionary values')\n",
        "else:\n",
        "    print('\\'one\\' not exist in the dictionary values')\n",
        "\n",
        "if '7' in numbers.keys():\n",
        "    print('\\'7\\' exist in the dictionary keys')\n",
        "else:\n",
        "    print('\\'7\\' not exist in the dictionary keys')"
      ],
      "execution_count": null,
      "outputs": [
        {
          "output_type": "stream",
          "text": [
            "'Mateo' exist in the list\n",
            "'Jonathan' not exist in the list\n",
            "'one' exist in the dictionary values\n",
            "'7' not exist in the dictionary keys\n"
          ],
          "name": "stdout"
        }
      ]
    },
    {
      "cell_type": "markdown",
      "metadata": {
        "id": "y8AQA8hjiX35"
      },
      "source": [
        "ในตัวอย่าง เป็นการตรวจสอบข้อมูลใน List และ Dictionary ในโปรแกรมของเรามีตัวแปร List names ซึ่งมีรายชื่ออยู่ภายใน เราใช้คำสั่ง if เพื่อตรวจสอบว่า \"Mateo\" นั้นมีอยู่ใน List หรือไม่ ผลลัพธ์ที่ได้นั้นจะเป็นจริงเพราะชื่อมีอยู่\n",
        "\n",
        "และต่อมาเราตรวจสอบ \"Jonathan\" นั้นไม่พบชื่อดังกล่าวใน List ต่อมาเป็นการตรวจสอบการมีอยู่ของข้อมูลใน Dictionary เนื่องจาก Dictionary นั้นเป็นข้อมูลที่เก็บในคู่ของ Key และ Values เพื่อตรวจสอบกับ Key เราต้องใช้เมธอด keys() และเมธอด values() สำหรับ Value\n",
        "\n",
        "\n",
        "```\n",
        "'Mateo' exist in the list\n",
        "'Jonathan' not exist in the list\n",
        "'one' exist in the dictionary values\n",
        "'7' not exist in the dictionary keys\n",
        "```\n",
        "นี่เป็นผลลัพธ์การทำงานของโปรแกรม\n"
      ]
    },
    {
      "cell_type": "markdown",
      "metadata": {
        "id": "42IZ1TPnigSR"
      },
      "source": [
        "## Truth Value Testing\n",
        "เนื่องจากตัวแปรในภาษา Python นั้นเป็นประเภทข้อมูลแบบไดนามิกส์ ดังนั้นออบเจ็คต่างๆ นั้นสามารถที่จะทำมาประเมินสำหรับค่าความจริง โดยการใช้คำสั่งตรวจสอบเงื่อนไขเช่น if หรือ while หรือการกระทำเพื่อตรวจหาค่า boolean โดยค่าข้างล่างนี้เป็นค่าที่ถูกประเมินเป็น False\n",
        "\n",
        "* None\n",
        "* False\n",
        "* ค่าศูนย์ของข้อมูลประเภทตัวเลขใดๆ เช่น 0, 0L, 0.0, 0j\n",
        "* ข้อมูลแบบลำดับที่ว่างปล่าว เช่น '', (), []\n",
        "* ข้อมูลแบบ map ที่่ว่างปล่าว {}\n",
        "* ตัวแปรจากคลาสที่ผู้ใช้สร้างขึ้น และคลาสดังกล่างถูกกำหนดเมธอด __nonzero__() หรือ __len__() และเมธอดเหล่านี้ส่งค่ากลับเป็นศูนย์หรือค่า Boolean False\n",
        "\n",
        "ส่วนค่าอื่นๆ ที่นอกเหนือจากที่ได้กล่าวไปนั้นจะถูกประเมินเป็น True ทั้งหมด และออบเจ็คของประเภทใดๆ ก็เป็น True เช่นกัน\n",
        "\n",
        "ในบทนี้ คุณเรียนรู้เกี่ยวกับตัวดำเนินการในภาษา Python เราได้ครอบคลุมการใช้งานตัวดำเนินการประเภทต่างๆ และตัวอย่างในประยุกต์ใช้งานตัวดำเนินการเหล่านี้ในการเขียนโปรแกรม และหลักในการประเมินค่าความจริงของตัวแปรและออบเจ็ค"
      ]
    }
  ]
}